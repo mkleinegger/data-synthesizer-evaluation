{
 "cells": [
  {
   "cell_type": "code",
   "execution_count": 1,
   "metadata": {},
   "outputs": [
    {
     "name": "stdout",
     "output_type": "stream",
     "text": [
      "Requirement already satisfied: pandas in ./.venv/lib/python3.9/site-packages (2.2.2)\n",
      "Requirement already satisfied: numpy in ./.venv/lib/python3.9/site-packages (1.26.4)\n",
      "Requirement already satisfied: matplotlib in ./.venv/lib/python3.9/site-packages (3.8.4)\n",
      "Requirement already satisfied: seaborn in ./.venv/lib/python3.9/site-packages (0.13.2)\n",
      "Requirement already satisfied: statsmodels in ./.venv/lib/python3.9/site-packages (0.14.2)\n",
      "Requirement already satisfied: python-dateutil>=2.8.2 in ./.venv/lib/python3.9/site-packages (from pandas) (2.9.0.post0)\n",
      "Requirement already satisfied: pytz>=2020.1 in ./.venv/lib/python3.9/site-packages (from pandas) (2024.1)\n",
      "Requirement already satisfied: tzdata>=2022.7 in ./.venv/lib/python3.9/site-packages (from pandas) (2024.1)\n",
      "Requirement already satisfied: contourpy>=1.0.1 in ./.venv/lib/python3.9/site-packages (from matplotlib) (1.2.1)\n",
      "Requirement already satisfied: cycler>=0.10 in ./.venv/lib/python3.9/site-packages (from matplotlib) (0.12.1)\n",
      "Requirement already satisfied: fonttools>=4.22.0 in ./.venv/lib/python3.9/site-packages (from matplotlib) (4.51.0)\n",
      "Requirement already satisfied: kiwisolver>=1.3.1 in ./.venv/lib/python3.9/site-packages (from matplotlib) (1.4.5)\n",
      "Requirement already satisfied: packaging>=20.0 in ./.venv/lib/python3.9/site-packages (from matplotlib) (24.0)\n",
      "Requirement already satisfied: pillow>=8 in ./.venv/lib/python3.9/site-packages (from matplotlib) (10.3.0)\n",
      "Requirement already satisfied: pyparsing>=2.3.1 in ./.venv/lib/python3.9/site-packages (from matplotlib) (3.1.2)\n",
      "Requirement already satisfied: importlib-resources>=3.2.0 in ./.venv/lib/python3.9/site-packages (from matplotlib) (6.4.0)\n",
      "Requirement already satisfied: scipy!=1.9.2,>=1.8 in ./.venv/lib/python3.9/site-packages (from statsmodels) (1.13.0)\n",
      "Requirement already satisfied: patsy>=0.5.6 in ./.venv/lib/python3.9/site-packages (from statsmodels) (0.5.6)\n",
      "Requirement already satisfied: zipp>=3.1.0 in ./.venv/lib/python3.9/site-packages (from importlib-resources>=3.2.0->matplotlib) (3.18.1)\n",
      "Requirement already satisfied: six in ./.venv/lib/python3.9/site-packages (from patsy>=0.5.6->statsmodels) (1.16.0)\n",
      "Requirement already satisfied: scikit-learn in ./.venv/lib/python3.9/site-packages (1.4.2)\n",
      "Requirement already satisfied: numpy>=1.19.5 in ./.venv/lib/python3.9/site-packages (from scikit-learn) (1.26.4)\n",
      "Requirement already satisfied: scipy>=1.6.0 in ./.venv/lib/python3.9/site-packages (from scikit-learn) (1.13.0)\n",
      "Requirement already satisfied: joblib>=1.2.0 in ./.venv/lib/python3.9/site-packages (from scikit-learn) (1.4.0)\n",
      "Requirement already satisfied: threadpoolctl>=2.0.0 in ./.venv/lib/python3.9/site-packages (from scikit-learn) (3.5.0)\n",
      "Requirement already satisfied: sdv in ./.venv/lib/python3.9/site-packages (1.12.1)\n",
      "Requirement already satisfied: boto3>=1.28 in ./.venv/lib/python3.9/site-packages (from sdv) (1.34.95)\n",
      "Requirement already satisfied: botocore>=1.31 in ./.venv/lib/python3.9/site-packages (from sdv) (1.34.95)\n",
      "Requirement already satisfied: cloudpickle>=2.1.0 in ./.venv/lib/python3.9/site-packages (from sdv) (3.0.0)\n",
      "Requirement already satisfied: graphviz>=0.13.2 in ./.venv/lib/python3.9/site-packages (from sdv) (0.20.3)\n",
      "Requirement already satisfied: tqdm>=4.29 in ./.venv/lib/python3.9/site-packages (from sdv) (4.66.2)\n",
      "Requirement already satisfied: copulas>=0.11.0 in ./.venv/lib/python3.9/site-packages (from sdv) (0.11.0)\n",
      "Requirement already satisfied: ctgan>=0.10.0 in ./.venv/lib/python3.9/site-packages (from sdv) (0.10.0)\n",
      "Requirement already satisfied: deepecho>=0.6.0 in ./.venv/lib/python3.9/site-packages (from sdv) (0.6.0)\n",
      "Requirement already satisfied: rdt>=1.12.0 in ./.venv/lib/python3.9/site-packages (from sdv) (1.12.0)\n",
      "Requirement already satisfied: sdmetrics>=0.14.0 in ./.venv/lib/python3.9/site-packages (from sdv) (0.14.0)\n",
      "Requirement already satisfied: numpy>=1.20.0 in ./.venv/lib/python3.9/site-packages (from sdv) (1.26.4)\n",
      "Requirement already satisfied: pandas>=1.1.3 in ./.venv/lib/python3.9/site-packages (from sdv) (2.2.2)\n",
      "Requirement already satisfied: jmespath<2.0.0,>=0.7.1 in ./.venv/lib/python3.9/site-packages (from boto3>=1.28->sdv) (1.0.1)\n",
      "Requirement already satisfied: s3transfer<0.11.0,>=0.10.0 in ./.venv/lib/python3.9/site-packages (from boto3>=1.28->sdv) (0.10.1)\n",
      "Requirement already satisfied: python-dateutil<3.0.0,>=2.1 in ./.venv/lib/python3.9/site-packages (from botocore>=1.31->sdv) (2.9.0.post0)\n",
      "Requirement already satisfied: urllib3<1.27,>=1.25.4 in ./.venv/lib/python3.9/site-packages (from botocore>=1.31->sdv) (1.26.18)\n",
      "Requirement already satisfied: plotly>=5.10.0 in ./.venv/lib/python3.9/site-packages (from copulas>=0.11.0->sdv) (5.21.0)\n",
      "Requirement already satisfied: scipy>=1.5.4 in ./.venv/lib/python3.9/site-packages (from copulas>=0.11.0->sdv) (1.13.0)\n",
      "Requirement already satisfied: torch>=1.8.0 in ./.venv/lib/python3.9/site-packages (from ctgan>=0.10.0->sdv) (2.3.0)\n",
      "Requirement already satisfied: pytz>=2020.1 in ./.venv/lib/python3.9/site-packages (from pandas>=1.1.3->sdv) (2024.1)\n",
      "Requirement already satisfied: tzdata>=2022.7 in ./.venv/lib/python3.9/site-packages (from pandas>=1.1.3->sdv) (2024.1)\n",
      "Requirement already satisfied: Faker>=17 in ./.venv/lib/python3.9/site-packages (from rdt>=1.12.0->sdv) (25.0.0)\n",
      "Requirement already satisfied: scikit-learn>=0.24 in ./.venv/lib/python3.9/site-packages (from rdt>=1.12.0->sdv) (1.4.2)\n",
      "Requirement already satisfied: tenacity>=6.2.0 in ./.venv/lib/python3.9/site-packages (from plotly>=5.10.0->copulas>=0.11.0->sdv) (8.2.3)\n",
      "Requirement already satisfied: packaging in ./.venv/lib/python3.9/site-packages (from plotly>=5.10.0->copulas>=0.11.0->sdv) (24.0)\n",
      "Requirement already satisfied: six>=1.5 in ./.venv/lib/python3.9/site-packages (from python-dateutil<3.0.0,>=2.1->botocore>=1.31->sdv) (1.16.0)\n",
      "Requirement already satisfied: joblib>=1.2.0 in ./.venv/lib/python3.9/site-packages (from scikit-learn>=0.24->rdt>=1.12.0->sdv) (1.4.0)\n",
      "Requirement already satisfied: threadpoolctl>=2.0.0 in ./.venv/lib/python3.9/site-packages (from scikit-learn>=0.24->rdt>=1.12.0->sdv) (3.5.0)\n",
      "Requirement already satisfied: filelock in ./.venv/lib/python3.9/site-packages (from torch>=1.8.0->ctgan>=0.10.0->sdv) (3.14.0)\n",
      "Requirement already satisfied: typing-extensions>=4.8.0 in ./.venv/lib/python3.9/site-packages (from torch>=1.8.0->ctgan>=0.10.0->sdv) (4.11.0)\n",
      "Requirement already satisfied: sympy in ./.venv/lib/python3.9/site-packages (from torch>=1.8.0->ctgan>=0.10.0->sdv) (1.12)\n",
      "Requirement already satisfied: networkx in ./.venv/lib/python3.9/site-packages (from torch>=1.8.0->ctgan>=0.10.0->sdv) (3.2.1)\n",
      "Requirement already satisfied: jinja2 in ./.venv/lib/python3.9/site-packages (from torch>=1.8.0->ctgan>=0.10.0->sdv) (3.1.3)\n",
      "Requirement already satisfied: fsspec in ./.venv/lib/python3.9/site-packages (from torch>=1.8.0->ctgan>=0.10.0->sdv) (2024.3.1)\n",
      "Requirement already satisfied: MarkupSafe>=2.0 in ./.venv/lib/python3.9/site-packages (from jinja2->torch>=1.8.0->ctgan>=0.10.0->sdv) (2.1.5)\n",
      "Requirement already satisfied: mpmath>=0.19 in ./.venv/lib/python3.9/site-packages (from sympy->torch>=1.8.0->ctgan>=0.10.0->sdv) (1.3.0)\n",
      "Requirement already satisfied: anonymeter in ./.venv/lib/python3.9/site-packages (1.0.0)\n",
      "Requirement already satisfied: scikit-learn~=1.2 in ./.venv/lib/python3.9/site-packages (from anonymeter) (1.4.2)\n",
      "Requirement already satisfied: numpy<1.27,>=1.22 in ./.venv/lib/python3.9/site-packages (from anonymeter) (1.26.4)\n",
      "Requirement already satisfied: pandas>=1.4 in ./.venv/lib/python3.9/site-packages (from anonymeter) (2.2.2)\n",
      "Requirement already satisfied: joblib~=1.2 in ./.venv/lib/python3.9/site-packages (from anonymeter) (1.4.0)\n",
      "Requirement already satisfied: numba~=0.58 in ./.venv/lib/python3.9/site-packages (from anonymeter) (0.59.1)\n",
      "Requirement already satisfied: llvmlite<0.43,>=0.42.0dev0 in ./.venv/lib/python3.9/site-packages (from numba~=0.58->anonymeter) (0.42.0)\n",
      "Requirement already satisfied: python-dateutil>=2.8.2 in ./.venv/lib/python3.9/site-packages (from pandas>=1.4->anonymeter) (2.9.0.post0)\n",
      "Requirement already satisfied: pytz>=2020.1 in ./.venv/lib/python3.9/site-packages (from pandas>=1.4->anonymeter) (2024.1)\n",
      "Requirement already satisfied: tzdata>=2022.7 in ./.venv/lib/python3.9/site-packages (from pandas>=1.4->anonymeter) (2024.1)\n",
      "Requirement already satisfied: scipy>=1.6.0 in ./.venv/lib/python3.9/site-packages (from scikit-learn~=1.2->anonymeter) (1.13.0)\n",
      "Requirement already satisfied: threadpoolctl>=2.0.0 in ./.venv/lib/python3.9/site-packages (from scikit-learn~=1.2->anonymeter) (3.5.0)\n",
      "Requirement already satisfied: six>=1.5 in ./.venv/lib/python3.9/site-packages (from python-dateutil>=2.8.2->pandas>=1.4->anonymeter) (1.16.0)\n"
     ]
    }
   ],
   "source": [
    "!pip install pandas numpy matplotlib seaborn statsmodels\n",
    "!pip install scikit-learn\n",
    "!pip install sdv\n",
    "!pip install anonymeter"
   ]
  },
  {
   "cell_type": "code",
   "execution_count": 2,
   "metadata": {},
   "outputs": [
    {
     "data": {
      "text/plain": [
       "Person_ID                    int64\n",
       "AssessmentID                 int64\n",
       "Case_ID                      int64\n",
       "Agency_Text                 object\n",
       "LastName                    object\n",
       "FirstName                   object\n",
       "MiddleName                  object\n",
       "Sex_Code_Text               object\n",
       "Ethnic_Code_Text            object\n",
       "DateOfBirth                 object\n",
       "ScaleSet_ID                  int64\n",
       "ScaleSet                    object\n",
       "AssessmentReason            object\n",
       "Language                    object\n",
       "LegalStatus                 object\n",
       "CustodyStatus               object\n",
       "MaritalStatus               object\n",
       "Screening_Date              object\n",
       "RecSupervisionLevel          int64\n",
       "RecSupervisionLevelText     object\n",
       "Scale_ID                     int64\n",
       "DisplayText                 object\n",
       "RawScore                   float64\n",
       "DecileScore                  int64\n",
       "ScoreText                   object\n",
       "AssessmentType              object\n",
       "IsCompleted                  int64\n",
       "IsDeleted                    int64\n",
       "dtype: object"
      ]
     },
     "execution_count": 2,
     "metadata": {},
     "output_type": "execute_result"
    }
   ],
   "source": [
    "\n",
    "import pandas as pd\n",
    "\n",
    "# 3000 rows because we only select the 7th scale, which is roughly every 3rd row\n",
    "raw_data = pd.read_csv('compas/compas-scores-raw.csv', nrows=3000)\n",
    "raw_data.dtypes"
   ]
  },
  {
   "cell_type": "code",
   "execution_count": 3,
   "metadata": {},
   "outputs": [],
   "source": [
    "# Only use the scale for \"Risk of Recidivism\" (scale ID 8)\n",
    "raw_data = raw_data[raw_data['Scale_ID'] == 8]"
   ]
  },
  {
   "cell_type": "code",
   "execution_count": 4,
   "metadata": {},
   "outputs": [],
   "source": [
    "# If we don't force 19** in the year, the dates are interpreted as 20** and 19** years (seemingly random)\n",
    "date_of_birth_timestamp = pd.to_datetime(raw_data['DateOfBirth'], format='%m/%d/%y').dt.strftime('%m/%d/19%y')\n",
    "date_of_birth_timestamp = pd.to_datetime(date_of_birth_timestamp, format='%m/%d/%Y')"
   ]
  },
  {
   "cell_type": "code",
   "execution_count": null,
   "metadata": {},
   "outputs": [],
   "source": [
    "# Add the year of birth to the data\n",
    "raw_data['YearOfBirth'] = date_of_birth_timestamp.dt.year"
   ]
  },
  {
   "cell_type": "code",
   "execution_count": 5,
   "metadata": {},
   "outputs": [
    {
     "name": "stdout",
     "output_type": "stream",
     "text": [
      "Correlation between birth year and RawScore: 0.5430888253120536\n",
      "Correlation between birth month and RawScore: 0.013142693051821709\n",
      "Correlation between birth weekday and RawScore: -0.05451783144351021\n"
     ]
    },
    {
     "data": {
      "image/png": "[encoded data removed]",
      "text/plain": [
       "<Figure size 640x480 with 2 Axes>"
      ]
     },
     "metadata": {},
     "output_type": "display_data"
    }
   ],
   "source": [
    "import seaborn as sns\n",
    "import matplotlib.pyplot as plt\n",
    "\n",
    "# Inspect relevance of the date of birth\n",
    "year_of_birth = date_of_birth_timestamp.dt.year\n",
    "month_of_birth = date_of_birth_timestamp.dt.month\n",
    "weekday_of_birth = date_of_birth_timestamp.dt.weekday\n",
    "\n",
    "correlation = year_of_birth.corr(raw_data['RawScore'])\n",
    "print(\"Correlation between birth year and RawScore:\", correlation)\n",
    "\n",
    "correlation = month_of_birth.corr(raw_data['RawScore'])\n",
    "print(\"Correlation between birth month and RawScore:\", correlation)\n",
    "\n",
    "correlation = weekday_of_birth.corr(raw_data['RawScore'])\n",
    "print(\"Correlation between birth weekday and RawScore:\", correlation)\n",
    "\n",
    "fig, axs = plt.subplots(2)\n",
    "\n",
    "average_score_per_year = raw_data.groupby(year_of_birth)['RawScore'].mean()\n",
    "\n",
    "axs[0].plot(average_score_per_year.index, average_score_per_year.values)\n",
    "axs[0].set_title('Average score per year of birth')\n",
    "\n",
    "sns.regplot(x=year_of_birth, y=raw_data['RawScore'], ax=axs[1])\n",
    "\n",
    "plt.show()"
   ]
  },
  {
   "cell_type": "code",
   "execution_count": 6,
   "metadata": {},
   "outputs": [],
   "source": [
    "# Data cleaning: Change African-Am to African-American (since it has the same meaning)\n",
    "raw_data.loc[raw_data['Ethnic_Code_Text'] == 'African-Am', 'Ethnic_Code_Text'] = 'African-American'"
   ]
  },
  {
   "cell_type": "code",
   "execution_count": 7,
   "metadata": {},
   "outputs": [
    {
     "data": {
      "text/plain": [
       "Ethnic_Code_Text\n",
       "African-American   -0.389717\n",
       "Asian              -1.301667\n",
       "Caucasian          -0.919360\n",
       "Hispanic           -0.908879\n",
       "Native American    -0.342500\n",
       "Oriental           -1.275000\n",
       "Other              -1.101667\n",
       "Name: RawScore, dtype: float64"
      ]
     },
     "execution_count": 7,
     "metadata": {},
     "output_type": "execute_result"
    }
   ],
   "source": [
    "raw_ethnic_score_grouped = raw_data.groupby('Ethnic_Code_Text')['RawScore'].mean()\n",
    "# raw_ethnic_score_grouped = raw_ethnic_score_grouped.groupby(level=0).apply(lambda x: 100 * x / float(x.sum()))\n",
    "# raw_ethnic_score = raw_data.loc[:,[\"Ethnic_Code_Text\",\"ScoreText\"]]\n",
    "# raw_ethnic_score_grouped = raw_ethnic_score.groupby([\"Ethnic_Code_Text\",\"ScoreText\"]).size().reset_index()\n",
    "# raw_ethnic_score_grouped.columns = [\"Ethnic_Code_Text\",\"ScoreText\",\"count\"]\n",
    "raw_ethnic_score_grouped"
   ]
  },
  {
   "cell_type": "code",
   "execution_count": 8,
   "metadata": {},
   "outputs": [
    {
     "data": {
      "text/html": [
       "<div>\n",
       "<style scoped>\n",
       "    .dataframe tbody tr th:only-of-type {\n",
       "        vertical-align: middle;\n",
       "    }\n",
       "\n",
       "    .dataframe tbody tr th {\n",
       "        vertical-align: top;\n",
       "    }\n",
       "\n",
       "    .dataframe thead th {\n",
       "        text-align: right;\n",
       "    }\n",
       "</style>\n",
       "<table border=\"1\" class=\"dataframe\">\n",
       "  <thead>\n",
       "    <tr style=\"text-align: right;\">\n",
       "      <th></th>\n",
       "      <th>Sex_Code_Text</th>\n",
       "      <th>Ethnic_Code_Text</th>\n",
       "      <th>ScaleSet_ID</th>\n",
       "      <th>AssessmentReason</th>\n",
       "      <th>Language</th>\n",
       "      <th>LegalStatus</th>\n",
       "      <th>CustodyStatus</th>\n",
       "      <th>MaritalStatus</th>\n",
       "      <th>ScoreText</th>\n",
       "      <th>YearOfBirth</th>\n",
       "    </tr>\n",
       "  </thead>\n",
       "  <tbody>\n",
       "    <tr>\n",
       "      <th>1</th>\n",
       "      <td>Male</td>\n",
       "      <td>Caucasian</td>\n",
       "      <td>22</td>\n",
       "      <td>Intake</td>\n",
       "      <td>English</td>\n",
       "      <td>Pretrial</td>\n",
       "      <td>Jail Inmate</td>\n",
       "      <td>Single</td>\n",
       "      <td>Low</td>\n",
       "      <td>1992</td>\n",
       "    </tr>\n",
       "    <tr>\n",
       "      <th>4</th>\n",
       "      <td>Male</td>\n",
       "      <td>Caucasian</td>\n",
       "      <td>22</td>\n",
       "      <td>Intake</td>\n",
       "      <td>English</td>\n",
       "      <td>Pretrial</td>\n",
       "      <td>Jail Inmate</td>\n",
       "      <td>Married</td>\n",
       "      <td>Low</td>\n",
       "      <td>1984</td>\n",
       "    </tr>\n",
       "    <tr>\n",
       "      <th>7</th>\n",
       "      <td>Male</td>\n",
       "      <td>African-American</td>\n",
       "      <td>22</td>\n",
       "      <td>Intake</td>\n",
       "      <td>English</td>\n",
       "      <td>Pretrial</td>\n",
       "      <td>Jail Inmate</td>\n",
       "      <td>Single</td>\n",
       "      <td>High</td>\n",
       "      <td>1994</td>\n",
       "    </tr>\n",
       "    <tr>\n",
       "      <th>10</th>\n",
       "      <td>Female</td>\n",
       "      <td>African-American</td>\n",
       "      <td>22</td>\n",
       "      <td>Intake</td>\n",
       "      <td>English</td>\n",
       "      <td>Pretrial</td>\n",
       "      <td>Jail Inmate</td>\n",
       "      <td>Significant Other</td>\n",
       "      <td>Medium</td>\n",
       "      <td>1994</td>\n",
       "    </tr>\n",
       "    <tr>\n",
       "      <th>13</th>\n",
       "      <td>Female</td>\n",
       "      <td>African-American</td>\n",
       "      <td>22</td>\n",
       "      <td>Intake</td>\n",
       "      <td>English</td>\n",
       "      <td>Pretrial</td>\n",
       "      <td>Jail Inmate</td>\n",
       "      <td>Single</td>\n",
       "      <td>Low</td>\n",
       "      <td>1985</td>\n",
       "    </tr>\n",
       "  </tbody>\n",
       "</table>\n",
       "</div>"
      ],
      "text/plain": [
       "   Sex_Code_Text  Ethnic_Code_Text  ScaleSet_ID AssessmentReason Language  \\\n",
       "1           Male         Caucasian           22           Intake  English   \n",
       "4           Male         Caucasian           22           Intake  English   \n",
       "7           Male  African-American           22           Intake  English   \n",
       "10        Female  African-American           22           Intake  English   \n",
       "13        Female  African-American           22           Intake  English   \n",
       "\n",
       "   LegalStatus CustodyStatus      MaritalStatus ScoreText  YearOfBirth  \n",
       "1     Pretrial   Jail Inmate             Single       Low         1992  \n",
       "4     Pretrial   Jail Inmate            Married       Low         1984  \n",
       "7     Pretrial   Jail Inmate             Single      High         1994  \n",
       "10    Pretrial   Jail Inmate  Significant Other    Medium         1994  \n",
       "13    Pretrial   Jail Inmate             Single       Low         1985  "
      ]
     },
     "execution_count": 8,
     "metadata": {},
     "output_type": "execute_result"
    }
   ],
   "source": [
    "# Remove all the columns that are not used for prediction\n",
    "processed_data = raw_data.drop(['Person_ID', 'AssessmentID', 'ScaleSet', 'Case_ID', 'Agency_Text', 'FirstName',\n",
    "                           'MiddleName', 'LastName', 'IsCompleted', 'IsDeleted', 'AssessmentType', 'Screening_Date', 'Scale_ID', 'DateOfBirth'], axis=1)\n",
    "\n",
    "# Remove everything that is predicted except for ScoreText (that we'll use for classification)\n",
    "processed_data = processed_data.drop(['RawScore', 'DecileScore', 'RecSupervisionLevel',\n",
    "                           'RecSupervisionLevelText', 'DisplayText'], axis=1)\n",
    "\n",
    "processed_data.head()"
   ]
  },
  {
   "cell_type": "code",
   "execution_count": 9,
   "metadata": {},
   "outputs": [],
   "source": [
    "# There is an NaN in the 'ScoreText' column, which we need to remove\n",
    "processed_data = processed_data.dropna(subset=['ScoreText'])"
   ]
  },
  {
   "cell_type": "code",
   "execution_count": 10,
   "metadata": {},
   "outputs": [
    {
     "data": {
      "text/plain": [
       "{\n",
       "    \"columns\": {\n",
       "        \"Sex_Code_Text\": {\n",
       "            \"sdtype\": \"categorical\"\n",
       "        },\n",
       "        \"Ethnic_Code_Text\": {\n",
       "            \"sdtype\": \"categorical\"\n",
       "        },\n",
       "        \"ScaleSet_ID\": {\n",
       "            \"sdtype\": \"categorical\"\n",
       "        },\n",
       "        \"AssessmentReason\": {\n",
       "            \"sdtype\": \"categorical\"\n",
       "        },\n",
       "        \"Language\": {\n",
       "            \"sdtype\": \"categorical\"\n",
       "        },\n",
       "        \"LegalStatus\": {\n",
       "            \"sdtype\": \"categorical\"\n",
       "        },\n",
       "        \"CustodyStatus\": {\n",
       "            \"sdtype\": \"categorical\"\n",
       "        },\n",
       "        \"MaritalStatus\": {\n",
       "            \"sdtype\": \"categorical\"\n",
       "        },\n",
       "        \"ScoreText\": {\n",
       "            \"sdtype\": \"categorical\"\n",
       "        },\n",
       "        \"YearOfBirth\": {\n",
       "            \"sdtype\": \"numerical\"\n",
       "        }\n",
       "    },\n",
       "    \"METADATA_SPEC_VERSION\": \"SINGLE_TABLE_V1\"\n",
       "}"
      ]
     },
     "execution_count": 10,
     "metadata": {},
     "output_type": "execute_result"
    }
   ],
   "source": [
    "from sdv.metadata import SingleTableMetadata\n",
    "\n",
    "metadata = SingleTableMetadata()\n",
    "metadata.detect_from_dataframe(processed_data)\n",
    "metadata"
   ]
  },
  {
   "cell_type": "code",
   "execution_count": 11,
   "metadata": {},
   "outputs": [],
   "source": [
    "import pandas as pd\n",
    "from sklearn.model_selection import train_test_split\n",
    "\n",
    "train_data: pd.DataFrame\n",
    "test_data: pd.DataFrame\n",
    "train_data, test_data = train_test_split(processed_data, test_size=0.3)"
   ]
  },
  {
   "cell_type": "code",
   "execution_count": 12,
   "metadata": {},
   "outputs": [
    {
     "name": "stderr",
     "output_type": "stream",
     "text": [
      "/Users/gabriel/speml/.venv/lib/python3.9/site-packages/sdv/single_table/base.py:82: UserWarning: We strongly recommend saving the metadata using 'save_to_json' for replicability in future SDV versions.\n",
      "  warnings.warn(\n"
     ]
    },
    {
     "data": {
      "text/html": [
       "<div>\n",
       "<style scoped>\n",
       "    .dataframe tbody tr th:only-of-type {\n",
       "        vertical-align: middle;\n",
       "    }\n",
       "\n",
       "    .dataframe tbody tr th {\n",
       "        vertical-align: top;\n",
       "    }\n",
       "\n",
       "    .dataframe thead th {\n",
       "        text-align: right;\n",
       "    }\n",
       "</style>\n",
       "<table border=\"1\" class=\"dataframe\">\n",
       "  <thead>\n",
       "    <tr style=\"text-align: right;\">\n",
       "      <th></th>\n",
       "      <th>Sex_Code_Text</th>\n",
       "      <th>Ethnic_Code_Text</th>\n",
       "      <th>ScaleSet_ID</th>\n",
       "      <th>AssessmentReason</th>\n",
       "      <th>Language</th>\n",
       "      <th>LegalStatus</th>\n",
       "      <th>CustodyStatus</th>\n",
       "      <th>MaritalStatus</th>\n",
       "      <th>ScoreText</th>\n",
       "      <th>YearOfBirth</th>\n",
       "    </tr>\n",
       "  </thead>\n",
       "  <tbody>\n",
       "    <tr>\n",
       "      <th>0</th>\n",
       "      <td>Male</td>\n",
       "      <td>Caucasian</td>\n",
       "      <td>22</td>\n",
       "      <td>Intake</td>\n",
       "      <td>English</td>\n",
       "      <td>Pretrial</td>\n",
       "      <td>Jail Inmate</td>\n",
       "      <td>Single</td>\n",
       "      <td>Low</td>\n",
       "      <td>1964</td>\n",
       "    </tr>\n",
       "    <tr>\n",
       "      <th>1</th>\n",
       "      <td>Male</td>\n",
       "      <td>African-American</td>\n",
       "      <td>22</td>\n",
       "      <td>Intake</td>\n",
       "      <td>English</td>\n",
       "      <td>Other</td>\n",
       "      <td>Jail Inmate</td>\n",
       "      <td>Married</td>\n",
       "      <td>Low</td>\n",
       "      <td>1972</td>\n",
       "    </tr>\n",
       "    <tr>\n",
       "      <th>2</th>\n",
       "      <td>Male</td>\n",
       "      <td>Caucasian</td>\n",
       "      <td>22</td>\n",
       "      <td>Intake</td>\n",
       "      <td>English</td>\n",
       "      <td>Pretrial</td>\n",
       "      <td>Probation</td>\n",
       "      <td>Single</td>\n",
       "      <td>Medium</td>\n",
       "      <td>1990</td>\n",
       "    </tr>\n",
       "    <tr>\n",
       "      <th>3</th>\n",
       "      <td>Male</td>\n",
       "      <td>Caucasian</td>\n",
       "      <td>22</td>\n",
       "      <td>Intake</td>\n",
       "      <td>English</td>\n",
       "      <td>Pretrial</td>\n",
       "      <td>Jail Inmate</td>\n",
       "      <td>Single</td>\n",
       "      <td>High</td>\n",
       "      <td>1994</td>\n",
       "    </tr>\n",
       "    <tr>\n",
       "      <th>4</th>\n",
       "      <td>Male</td>\n",
       "      <td>Hispanic</td>\n",
       "      <td>22</td>\n",
       "      <td>Intake</td>\n",
       "      <td>English</td>\n",
       "      <td>Post Sentence</td>\n",
       "      <td>Probation</td>\n",
       "      <td>Single</td>\n",
       "      <td>Medium</td>\n",
       "      <td>1980</td>\n",
       "    </tr>\n",
       "  </tbody>\n",
       "</table>\n",
       "</div>"
      ],
      "text/plain": [
       "  Sex_Code_Text  Ethnic_Code_Text  ScaleSet_ID AssessmentReason Language  \\\n",
       "0          Male         Caucasian           22           Intake  English   \n",
       "1          Male  African-American           22           Intake  English   \n",
       "2          Male         Caucasian           22           Intake  English   \n",
       "3          Male         Caucasian           22           Intake  English   \n",
       "4          Male          Hispanic           22           Intake  English   \n",
       "\n",
       "     LegalStatus CustodyStatus MaritalStatus ScoreText  YearOfBirth  \n",
       "0       Pretrial   Jail Inmate        Single       Low         1964  \n",
       "1          Other   Jail Inmate       Married       Low         1972  \n",
       "2       Pretrial     Probation        Single    Medium         1990  \n",
       "3       Pretrial   Jail Inmate        Single      High         1994  \n",
       "4  Post Sentence     Probation        Single    Medium         1980  "
      ]
     },
     "execution_count": 12,
     "metadata": {},
     "output_type": "execute_result"
    }
   ],
   "source": [
    "from sdv.single_table import GaussianCopulaSynthesizer\n",
    "\n",
    "# Step 1: Create the synthesizer\n",
    "synthesizer = GaussianCopulaSynthesizer(metadata)\n",
    "\n",
    "# Step 2: Train the synthesizer\n",
    "synthesizer.fit(train_data)\n",
    "\n",
    "# Step 3: Generate synthetic data\n",
    "synthetic_data = synthesizer.sample(num_rows=len(processed_data))\n",
    "synthetic_data.head()"
   ]
  },
  {
   "cell_type": "code",
   "execution_count": 13,
   "metadata": {},
   "outputs": [
    {
     "name": "stdout",
     "output_type": "stream",
     "text": [
      "CS Test Results: 0.9893911192276437\n",
      "KL Divergence Results: 0.9411895627061232\n",
      "Generating report ...\n",
      "\n",
      "(1/2) Evaluating Column Shapes: |██████████| 10/10 [00:00<00:00, 2024.28it/s]|\n",
      "Column Shapes Score: 97.86%\n",
      "\n",
      "(2/2) Evaluating Column Pair Trends: |██████████| 45/45 [00:00<00:00, 179.16it/s]|\n",
      "Column Pair Trends Score: 75.94%\n",
      "\n",
      "Overall Score (Average): 86.9%\n",
      "\n"
     ]
    }
   ],
   "source": [
    "from sdmetrics.single_table import CSTest, ContinuousKLDivergence\n",
    "from sdv.evaluation.single_table import evaluate_quality\n",
    "\n",
    "cs_test_results = CSTest.compute(processed_data, synthetic_data)\n",
    "\n",
    "# For continuous columns, you might use ContinuousKLDivergence\n",
    "kl_divergence_results = ContinuousKLDivergence.compute(processed_data, synthetic_data)\n",
    "\n",
    "# Print results\n",
    "print(\"CS Test Results:\", cs_test_results)\n",
    "print(\"KL Divergence Results:\", kl_divergence_results)\n",
    "\n",
    "quality_report = evaluate_quality(processed_data, synthetic_data, metadata)"
   ]
  },
  {
   "cell_type": "code",
   "execution_count": 14,
   "metadata": {},
   "outputs": [
    {
     "name": "stdout",
     "output_type": "stream",
     "text": [
      "['num__YearOfBirth' 'cat__Sex_Code_Text_Female' 'cat__Sex_Code_Text_Male'\n",
      " 'cat__Ethnic_Code_Text_African-American' 'cat__Ethnic_Code_Text_Asian'\n",
      " 'cat__Ethnic_Code_Text_Caucasian' 'cat__Ethnic_Code_Text_Hispanic'\n",
      " 'cat__Ethnic_Code_Text_Native American' 'cat__Ethnic_Code_Text_Oriental'\n",
      " 'cat__Ethnic_Code_Text_Other' 'cat__ScaleSet_ID_17' 'cat__ScaleSet_ID_22'\n",
      " 'cat__AssessmentReason_Intake' 'cat__Language_English'\n",
      " 'cat__Language_Spanish' 'cat__LegalStatus_Conditional Release'\n",
      " 'cat__LegalStatus_Other' 'cat__LegalStatus_Post Sentence'\n",
      " 'cat__LegalStatus_Pretrial' 'cat__LegalStatus_Probation Violator'\n",
      " 'cat__CustodyStatus_Jail Inmate' 'cat__CustodyStatus_Pretrial Defendant'\n",
      " 'cat__CustodyStatus_Prison Inmate' 'cat__CustodyStatus_Probation'\n",
      " 'cat__CustodyStatus_Residential Program' 'cat__MaritalStatus_Divorced'\n",
      " 'cat__MaritalStatus_Married' 'cat__MaritalStatus_Separated'\n",
      " 'cat__MaritalStatus_Significant Other' 'cat__MaritalStatus_Single'\n",
      " 'cat__MaritalStatus_Unknown' 'cat__MaritalStatus_Widowed']\n"
     ]
    }
   ],
   "source": [
    "from sklearn.compose import ColumnTransformer\n",
    "from sklearn.discriminant_analysis import StandardScaler\n",
    "from sklearn.preprocessing import OneHotEncoder\n",
    "\n",
    "# Define the ColumnTransformer\n",
    "column_transformer = ColumnTransformer(\n",
    "    transformers=[\n",
    "        ('num', StandardScaler(), ['YearOfBirth']),\n",
    "        ('cat', OneHotEncoder(), ['Sex_Code_Text', 'Ethnic_Code_Text', 'ScaleSet_ID', 'AssessmentReason',\n",
    "                                  'Language', 'LegalStatus', 'CustodyStatus', 'MaritalStatus'])\n",
    "    ],\n",
    "    remainder='drop'  # This drops the columns not specified in transformers\n",
    ")\n",
    "column_transformer.fit(processed_data)\n",
    "\n",
    "print(column_transformer.get_feature_names_out())\n",
    "\n",
    "def prepare_data(data: pd.DataFrame):\n",
    "    prediction_var = 'ScoreText'\n",
    "    X = data.drop(prediction_var, axis=1)\n",
    "    y = data[prediction_var]\n",
    "\n",
    "    X_transformed = column_transformer.transform(X)\n",
    "\n",
    "    return (X_transformed, y)\n",
    "\n",
    "\n",
    "X_train, y_train = prepare_data(train_data)\n",
    "X_synthetic, y_synthetic = prepare_data(synthetic_data)\n",
    "X_test, y_test = prepare_data(test_data)"
   ]
  },
  {
   "cell_type": "code",
   "execution_count": 15,
   "metadata": {},
   "outputs": [],
   "source": [
    "from sklearn.ensemble import RandomForestClassifier\n",
    "\n",
    "clf_train = RandomForestClassifier(random_state=42)\n",
    "clf_train.fit(X_train, y_train)\n",
    "\n",
    "real_predictions = clf_train.predict(X_test)\n",
    "\n",
    "clf_synthetic = RandomForestClassifier(random_state=42)\n",
    "clf_synthetic.fit(X_synthetic, y_synthetic)\n",
    "\n",
    "synthetic_predictions = clf_synthetic.predict(X_test)"
   ]
  },
  {
   "cell_type": "code",
   "execution_count": 16,
   "metadata": {},
   "outputs": [
    {
     "name": "stdout",
     "output_type": "stream",
     "text": [
      "\n",
      "Classification report for real model:\n",
      "              precision    recall  f1-score   support\n",
      "\n",
      "        High       0.23      0.23      0.23        60\n",
      "         Low       0.66      0.60      0.63       161\n",
      "      Medium       0.33      0.38      0.35        79\n",
      "\n",
      "    accuracy                           0.47       300\n",
      "   macro avg       0.41      0.41      0.40       300\n",
      "weighted avg       0.49      0.47      0.48       300\n",
      "\n",
      "\n",
      "Classification report for synthetic model:\n",
      "              precision    recall  f1-score   support\n",
      "\n",
      "        High       0.30      0.33      0.31        60\n",
      "         Low       0.62      0.50      0.56       161\n",
      "      Medium       0.25      0.33      0.29        79\n",
      "\n",
      "    accuracy                           0.42       300\n",
      "   macro avg       0.39      0.39      0.39       300\n",
      "weighted avg       0.46      0.42      0.44       300\n",
      "\n"
     ]
    }
   ],
   "source": [
    "from sklearn.metrics import classification_report\n",
    "\n",
    "print(\"\\nClassification report for real model:\")\n",
    "print(classification_report(y_test, real_predictions))\n",
    "\n",
    "print(\"\\nClassification report for synthetic model:\")\n",
    "print(classification_report(y_test, synthetic_predictions))\n"
   ]
  },
  {
   "cell_type": "code",
   "execution_count": 17,
   "metadata": {},
   "outputs": [],
   "source": [
    "# TODO\n",
    "# Visualization of outcome\n",
    "# Compare more synthesizers\n",
    "# Check privacy risk better"
   ]
  },
  {
   "cell_type": "code",
   "execution_count": 18,
   "metadata": {},
   "outputs": [],
   "source": [
    "from anonymeter.evaluators import SinglingOutEvaluator\n",
    "\n",
    "evaluator = SinglingOutEvaluator(ori=train_data, syn=synthetic_data, control=test_data)\n",
    "evaluator.evaluate()\n",
    "risk = evaluator.risk()"
   ]
  },
  {
   "cell_type": "code",
   "execution_count": null,
   "metadata": {},
   "outputs": [],
   "source": [
    "from anonymeter.evaluators import InferenceEvaluator\n",
    "\n",
    "# evaluator = InferenceEvaluator(ori=train_data, syn=synthetic_data, control=test_data)\n",
    "# evaluator.evaluate()\n",
    "# risk = evaluator.risk()"
   ]
  },
  {
   "cell_type": "code",
   "execution_count": null,
   "metadata": {},
   "outputs": [
    {
     "name": "stdout",
     "output_type": "stream",
     "text": [
      "PrivacyRisk(value=0.16046717202483568, ci=(0.11745849995977024, 0.2034758440899011))\n"
     ]
    }
   ],
   "source": [
    "print(risk)"
   ]
  }
 ],
 "metadata": {
  "kernelspec": {
   "display_name": ".venv",
   "language": "python",
   "name": "python3"
  },
  "language_info": {
   "codemirror_mode": {
    "name": "ipython",
    "version": 3
   },
   "file_extension": ".py",
   "mimetype": "text/x-python",
   "name": "python",
   "nbconvert_exporter": "python",
   "pygments_lexer": "ipython3",
   "version": "3.9.6"
  }
 },
 "nbformat": 4,
 "nbformat_minor": 2
}
