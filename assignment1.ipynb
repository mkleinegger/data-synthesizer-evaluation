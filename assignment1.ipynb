{
 "cells": [
  {
   "cell_type": "markdown",
   "metadata": {
    "deletable": false,
    "editable": false,
    "nbgrader": {
     "cell_type": "markdown",
     "checksum": "a4ae6c6d9dad9d64ca626c52248df874",
     "grade": false,
     "grade_id": "cell-b7412adc4e975740",
     "locked": true,
     "schema_version": 3,
     "solution": false,
     "task": false
    }
   },
   "source": [
    "# SPEML - Assignment 1\n",
    "---\n",
    "This exercise is intended for group work of 2 students. Only one student per group needs to submit the report - when you are signed up to a group, the submission will also be visible to the second group member.\n",
    "\n",
    "Synthetic Data Creation and Evaluation\n",
    "In this task, you will work with a synthetic data generation tool, and evaluate fidelity, utility and privacy aspects of the synthetic data; to keep computation times reasonable, you shall work with tabular data. The idea is that you use existing tools, and mainly develop the boilerplate code around using these tools (dataset loading, spitting, model training, calling evaluation tools, ....).\n",
    "\n",
    "The exercise thus consists of roughly the following steps:\n",
    "\n",
    "Pick a tabular dataset from a public repository; ideally, the dataset contains some sensitive/personal attributes (age, income, education, a diagnosis, ....). Overall, your dataset does not need to be too large, anything from 1k samples up should be fine.\n",
    "(we focus on tabular data due to computational costs / runtime, interpretability of the results, and the meaningfulness of fidelity & privacy evaluation; if you would want to work with some other data modality, contact me, we can discuss if that is feasible)\n",
    "\n",
    "Chose a data synthetisation framework; while there are many frameworks around, we can recommend the [Synthetic Data Vault](https://github.com/sdv-dev/SDV) (SDV) as a very comprehensive tool including many different techniques (their original Gaussian Copula, but also CTGAN, and implementations of Bayesian Networks, ...) , gretel.ai; synthpop offers decision trees (primary implementation is in R), DataSynthesizer offers Bayesian Networks. You can find a curated list e.g. at https://github.com/joofio/awesome-data-synthesis\n",
    "\n",
    "Prepare your data for evaluation; basically, you shall have a test set available for testing classifiers\n",
    "\n",
    "Create a synthetic data version from your original training data; for simplicity reasons, just create a dataset with the same number of samples as the original dataset.\n",
    "\n",
    "Perform a fidelity evaluation of the synthetic dataset, by comparing data characteristics to the original training data; you can utilise e.g. the SDMetric from the SDV https://github.com/sdv-dev/SDMetrics; select the most interesting aspects from the evaluation for your report.\n",
    "\n",
    "Perform a utility evaluation of the synthetic dataset, by training one classifier model, once on the original training data, and once on the synthetic data; then evaluate both models on the test data, and compare their performance. Use a fast, shallow, but still powerful model (e.g. SVM, RF, Boosting algorithms, ....)\n",
    "\n",
    "Perform a privacy evaluation of the synthetic dataset, by using a privacy evaluation tool. You can use e.g. Anonymeter (https://github.com/statice/anonymeter), and focus on metrics that can be computed from the synthetic data directly. There are other tools around, but many of them provide attack-based evaluation (e.g. membership inference attacks), which are computationally expensive. Again, select the most interesting aspects from the evaluation for your report.\n",
    "\n",
    "Write up all of this in a short report; in the report, describe what tools and parameter settings you used, and describe and discuss the results in terms of fidelity, utility and privacy of the synthetic data. Submit a complete package including your report, your code, and your data files (original and generated).\n",
    "\n",
    "To avoid everyone using the same dataset, you shall register your dataset on the wiki page, and make sure that each dataset is used at most by three groups."
   ]
  },
  {
   "cell_type": "markdown",
   "metadata": {},
   "source": [
    "## Packages\n",
    "The following packages are used in this project"
   ]
  },
  {
   "cell_type": "code",
   "execution_count": 18,
   "metadata": {},
   "outputs": [
    {
     "name": "stdout",
     "output_type": "stream",
     "text": [
      "Requirement already satisfied: numpy in /Users/maxkleinegger/anaconda3/lib/python3.10/site-packages (from -r ./requirements.txt (line 1)) (1.26.2)\n",
      "Requirement already satisfied: pandas in /Users/maxkleinegger/anaconda3/lib/python3.10/site-packages (from -r ./requirements.txt (line 2)) (1.5.3)\n",
      "Requirement already satisfied: scikit-learn in /Users/maxkleinegger/anaconda3/lib/python3.10/site-packages (from -r ./requirements.txt (line 3)) (1.3.2)\n",
      "Requirement already satisfied: matplotlib in /Users/maxkleinegger/anaconda3/lib/python3.10/site-packages (from -r ./requirements.txt (line 4)) (3.8.2)\n",
      "Requirement already satisfied: DataSynthesizer in /Users/maxkleinegger/anaconda3/lib/python3.10/site-packages (from -r ./requirements.txt (line 5)) (0.1.13)\n",
      "Collecting anonymeter\n",
      "  Downloading anonymeter-1.0.0-py3-none-any.whl (28 kB)\n",
      "Requirement already satisfied: sdv in /Users/maxkleinegger/anaconda3/lib/python3.10/site-packages (from -r ./requirements.txt (line 7)) (1.12.1)\n",
      "Requirement already satisfied: nbformat>=4.2.0 in /Users/maxkleinegger/anaconda3/lib/python3.10/site-packages (from -r ./requirements.txt (line 8)) (5.7.0)\n",
      "Requirement already satisfied: pytz>=2020.1 in /Users/maxkleinegger/anaconda3/lib/python3.10/site-packages (from pandas->-r ./requirements.txt (line 2)) (2022.7)\n",
      "Requirement already satisfied: python-dateutil>=2.8.1 in /Users/maxkleinegger/anaconda3/lib/python3.10/site-packages (from pandas->-r ./requirements.txt (line 2)) (2.8.2)\n",
      "Requirement already satisfied: scipy>=1.5.0 in /Users/maxkleinegger/anaconda3/lib/python3.10/site-packages (from scikit-learn->-r ./requirements.txt (line 3)) (1.10.0)\n",
      "Requirement already satisfied: threadpoolctl>=2.0.0 in /Users/maxkleinegger/anaconda3/lib/python3.10/site-packages (from scikit-learn->-r ./requirements.txt (line 3)) (3.2.0)\n",
      "Requirement already satisfied: joblib>=1.1.1 in /Users/maxkleinegger/anaconda3/lib/python3.10/site-packages (from scikit-learn->-r ./requirements.txt (line 3)) (1.1.1)\n",
      "Requirement already satisfied: cycler>=0.10 in /Users/maxkleinegger/anaconda3/lib/python3.10/site-packages (from matplotlib->-r ./requirements.txt (line 4)) (0.11.0)\n",
      "Requirement already satisfied: fonttools>=4.22.0 in /Users/maxkleinegger/anaconda3/lib/python3.10/site-packages (from matplotlib->-r ./requirements.txt (line 4)) (4.25.0)\n",
      "Requirement already satisfied: kiwisolver>=1.3.1 in /Users/maxkleinegger/anaconda3/lib/python3.10/site-packages (from matplotlib->-r ./requirements.txt (line 4)) (1.4.4)\n",
      "Requirement already satisfied: packaging>=20.0 in /Users/maxkleinegger/anaconda3/lib/python3.10/site-packages (from matplotlib->-r ./requirements.txt (line 4)) (22.0)\n",
      "Requirement already satisfied: pyparsing>=2.3.1 in /Users/maxkleinegger/anaconda3/lib/python3.10/site-packages (from matplotlib->-r ./requirements.txt (line 4)) (3.0.9)\n",
      "Requirement already satisfied: contourpy>=1.0.1 in /Users/maxkleinegger/anaconda3/lib/python3.10/site-packages (from matplotlib->-r ./requirements.txt (line 4)) (1.0.5)\n",
      "Requirement already satisfied: pillow>=8 in /Users/maxkleinegger/anaconda3/lib/python3.10/site-packages (from matplotlib->-r ./requirements.txt (line 4)) (9.4.0)\n",
      "Requirement already satisfied: seaborn>=0.10.1 in /Users/maxkleinegger/anaconda3/lib/python3.10/site-packages (from DataSynthesizer->-r ./requirements.txt (line 5)) (0.12.2)\n",
      "Collecting joblib>=1.1.1\n",
      "  Downloading joblib-1.4.0-py3-none-any.whl (301 kB)\n",
      "\u001b[2K     \u001b[90m━━━━━━━━━━━━━━━━━━━━━━━━━━━━━━━━━━━━━━━\u001b[0m \u001b[32m301.2/301.2 kB\u001b[0m \u001b[31m2.0 MB/s\u001b[0m eta \u001b[36m0:00:00\u001b[0ma \u001b[36m0:00:01\u001b[0m\n",
      "\u001b[?25hCollecting numba~=0.58\n",
      "  Downloading numba-0.59.1-cp310-cp310-macosx_11_0_arm64.whl (2.6 MB)\n",
      "\u001b[2K     \u001b[90m━━━━━━━━━━━━━━━━━━━━━━━━━━━━━━━━━━━━━━━━\u001b[0m \u001b[32m2.6/2.6 MB\u001b[0m \u001b[31m6.4 MB/s\u001b[0m eta \u001b[36m0:00:00\u001b[0m00:01\u001b[0m00:01\u001b[0m\n",
      "\u001b[?25hRequirement already satisfied: cloudpickle>=2.1.0 in /Users/maxkleinegger/anaconda3/lib/python3.10/site-packages (from sdv->-r ./requirements.txt (line 7)) (3.0.0)\n",
      "Requirement already satisfied: boto3>=1.28 in /Users/maxkleinegger/anaconda3/lib/python3.10/site-packages (from sdv->-r ./requirements.txt (line 7)) (1.34.88)\n",
      "Requirement already satisfied: tqdm>=4.29 in /Users/maxkleinegger/anaconda3/lib/python3.10/site-packages (from sdv->-r ./requirements.txt (line 7)) (4.64.1)\n",
      "Requirement already satisfied: ctgan>=0.10.0 in /Users/maxkleinegger/anaconda3/lib/python3.10/site-packages (from sdv->-r ./requirements.txt (line 7)) (0.10.0)\n",
      "Requirement already satisfied: deepecho>=0.6.0 in /Users/maxkleinegger/anaconda3/lib/python3.10/site-packages (from sdv->-r ./requirements.txt (line 7)) (0.6.0)\n",
      "Requirement already satisfied: rdt>=1.12.0 in /Users/maxkleinegger/anaconda3/lib/python3.10/site-packages (from sdv->-r ./requirements.txt (line 7)) (1.12.0)\n",
      "Requirement already satisfied: botocore>=1.31 in /Users/maxkleinegger/anaconda3/lib/python3.10/site-packages (from sdv->-r ./requirements.txt (line 7)) (1.34.88)\n",
      "Requirement already satisfied: sdmetrics>=0.14.0 in /Users/maxkleinegger/anaconda3/lib/python3.10/site-packages (from sdv->-r ./requirements.txt (line 7)) (0.14.0)\n",
      "Requirement already satisfied: graphviz>=0.13.2 in /Users/maxkleinegger/anaconda3/lib/python3.10/site-packages (from sdv->-r ./requirements.txt (line 7)) (0.20.3)\n",
      "Requirement already satisfied: copulas>=0.11.0 in /Users/maxkleinegger/anaconda3/lib/python3.10/site-packages (from sdv->-r ./requirements.txt (line 7)) (0.11.0)\n",
      "Requirement already satisfied: jsonschema>=2.6 in /Users/maxkleinegger/anaconda3/lib/python3.10/site-packages (from nbformat>=4.2.0->-r ./requirements.txt (line 8)) (4.17.3)\n",
      "Requirement already satisfied: jupyter-core in /Users/maxkleinegger/anaconda3/lib/python3.10/site-packages (from nbformat>=4.2.0->-r ./requirements.txt (line 8)) (5.2.0)\n",
      "Requirement already satisfied: traitlets>=5.1 in /Users/maxkleinegger/anaconda3/lib/python3.10/site-packages (from nbformat>=4.2.0->-r ./requirements.txt (line 8)) (5.7.1)\n",
      "Requirement already satisfied: fastjsonschema in /Users/maxkleinegger/anaconda3/lib/python3.10/site-packages (from nbformat>=4.2.0->-r ./requirements.txt (line 8)) (2.16.2)\n",
      "Requirement already satisfied: jmespath<2.0.0,>=0.7.1 in /Users/maxkleinegger/anaconda3/lib/python3.10/site-packages (from boto3>=1.28->sdv->-r ./requirements.txt (line 7)) (0.10.0)\n",
      "Requirement already satisfied: s3transfer<0.11.0,>=0.10.0 in /Users/maxkleinegger/anaconda3/lib/python3.10/site-packages (from boto3>=1.28->sdv->-r ./requirements.txt (line 7)) (0.10.1)\n",
      "Requirement already satisfied: urllib3!=2.2.0,<3,>=1.25.4 in /Users/maxkleinegger/anaconda3/lib/python3.10/site-packages (from botocore>=1.31->sdv->-r ./requirements.txt (line 7)) (1.26.14)\n",
      "Requirement already satisfied: plotly>=5.10.0 in /Users/maxkleinegger/anaconda3/lib/python3.10/site-packages (from copulas>=0.11.0->sdv->-r ./requirements.txt (line 7)) (5.21.0)\n",
      "Requirement already satisfied: torch>=1.11.0 in /Users/maxkleinegger/anaconda3/lib/python3.10/site-packages (from ctgan>=0.10.0->sdv->-r ./requirements.txt (line 7)) (2.1.1)\n",
      "Requirement already satisfied: pyrsistent!=0.17.0,!=0.17.1,!=0.17.2,>=0.14.0 in /Users/maxkleinegger/anaconda3/lib/python3.10/site-packages (from jsonschema>=2.6->nbformat>=4.2.0->-r ./requirements.txt (line 8)) (0.18.0)\n",
      "Requirement already satisfied: attrs>=17.4.0 in /Users/maxkleinegger/anaconda3/lib/python3.10/site-packages (from jsonschema>=2.6->nbformat>=4.2.0->-r ./requirements.txt (line 8)) (22.1.0)\n",
      "Collecting llvmlite<0.43,>=0.42.0dev0\n",
      "  Downloading llvmlite-0.42.0-cp310-cp310-macosx_11_0_arm64.whl (28.8 MB)\n",
      "\u001b[2K     \u001b[90m━━━━━━━━━━━━━━━━━━━━━━━━━━━━━━━━━━━━━━━━\u001b[0m \u001b[32m28.8/28.8 MB\u001b[0m \u001b[31m5.6 MB/s\u001b[0m eta \u001b[36m0:00:00\u001b[0m00:01\u001b[0m00:01\u001b[0m\n",
      "\u001b[?25hRequirement already satisfied: six>=1.5 in /Users/maxkleinegger/anaconda3/lib/python3.10/site-packages (from python-dateutil>=2.8.1->pandas->-r ./requirements.txt (line 2)) (1.16.0)\n",
      "Requirement already satisfied: Faker>=17 in /Users/maxkleinegger/anaconda3/lib/python3.10/site-packages (from rdt>=1.12.0->sdv->-r ./requirements.txt (line 7)) (24.11.0)\n",
      "Requirement already satisfied: platformdirs>=2.5 in /Users/maxkleinegger/anaconda3/lib/python3.10/site-packages (from jupyter-core->nbformat>=4.2.0->-r ./requirements.txt (line 8)) (2.5.2)\n",
      "Requirement already satisfied: tenacity>=6.2.0 in /Users/maxkleinegger/anaconda3/lib/python3.10/site-packages (from plotly>=5.10.0->copulas>=0.11.0->sdv->-r ./requirements.txt (line 7)) (8.0.1)\n",
      "Requirement already satisfied: filelock in /Users/maxkleinegger/anaconda3/lib/python3.10/site-packages (from torch>=1.11.0->ctgan>=0.10.0->sdv->-r ./requirements.txt (line 7)) (3.9.0)\n",
      "Requirement already satisfied: typing-extensions in /Users/maxkleinegger/anaconda3/lib/python3.10/site-packages (from torch>=1.11.0->ctgan>=0.10.0->sdv->-r ./requirements.txt (line 7)) (4.4.0)\n",
      "Requirement already satisfied: sympy in /Users/maxkleinegger/anaconda3/lib/python3.10/site-packages (from torch>=1.11.0->ctgan>=0.10.0->sdv->-r ./requirements.txt (line 7)) (1.11.1)\n",
      "Requirement already satisfied: networkx in /Users/maxkleinegger/anaconda3/lib/python3.10/site-packages (from torch>=1.11.0->ctgan>=0.10.0->sdv->-r ./requirements.txt (line 7)) (2.8.4)\n",
      "Requirement already satisfied: jinja2 in /Users/maxkleinegger/anaconda3/lib/python3.10/site-packages (from torch>=1.11.0->ctgan>=0.10.0->sdv->-r ./requirements.txt (line 7)) (3.1.2)\n",
      "Requirement already satisfied: fsspec in /Users/maxkleinegger/anaconda3/lib/python3.10/site-packages (from torch>=1.11.0->ctgan>=0.10.0->sdv->-r ./requirements.txt (line 7)) (2022.11.0)\n",
      "Requirement already satisfied: MarkupSafe>=2.0 in /Users/maxkleinegger/anaconda3/lib/python3.10/site-packages (from jinja2->torch>=1.11.0->ctgan>=0.10.0->sdv->-r ./requirements.txt (line 7)) (2.1.1)\n",
      "Requirement already satisfied: mpmath>=0.19 in /Users/maxkleinegger/anaconda3/lib/python3.10/site-packages/mpmath-1.2.1-py3.10.egg (from sympy->torch>=1.11.0->ctgan>=0.10.0->sdv->-r ./requirements.txt (line 7)) (1.2.1)\n",
      "Installing collected packages: llvmlite, joblib, numba, anonymeter\n",
      "  Attempting uninstall: llvmlite\n",
      "    Found existing installation: llvmlite 0.39.1\n",
      "    Uninstalling llvmlite-0.39.1:\n",
      "      Successfully uninstalled llvmlite-0.39.1\n",
      "  Attempting uninstall: joblib\n",
      "    Found existing installation: joblib 1.1.1\n",
      "    Uninstalling joblib-1.1.1:\n",
      "      Successfully uninstalled joblib-1.1.1\n",
      "  Attempting uninstall: numba\n",
      "    Found existing installation: numba 0.56.4\n",
      "    Uninstalling numba-0.56.4:\n",
      "      Successfully uninstalled numba-0.56.4\n",
      "Successfully installed anonymeter-1.0.0 joblib-1.4.0 llvmlite-0.42.0 numba-0.59.1\n"
     ]
    }
   ],
   "source": [
    "! pip install -r ./requirements.txt"
   ]
  },
  {
   "cell_type": "markdown",
   "metadata": {
    "deletable": false,
    "nbgrader": {
     "cell_type": "code",
     "checksum": "f8cea911828bf564dbe36285c3523029",
     "grade": false,
     "grade_id": "cell-306d37c936005bde",
     "locked": false,
     "schema_version": 3,
     "solution": true,
     "task": false
    }
   },
   "source": [
    "## General data\n",
    "### Imports"
   ]
  },
  {
   "cell_type": "code",
   "execution_count": 1,
   "metadata": {},
   "outputs": [],
   "source": [
    "import numpy as np\n",
    "import pandas as pd\n",
    "\n",
    "from utils import train_and_evaluate"
   ]
  },
  {
   "cell_type": "code",
   "execution_count": 2,
   "metadata": {},
   "outputs": [],
   "source": [
    "# define a random state\n",
    "random_state = 12014500\n",
    "\n",
    "# set the random state\n",
    "np.random.seed(random_state)"
   ]
  },
  {
   "cell_type": "markdown",
   "metadata": {},
   "source": [
    "## Dataset\n",
    "We work with the compass dataset..."
   ]
  },
  {
   "cell_type": "code",
   "execution_count": 3,
   "metadata": {},
   "outputs": [],
   "source": [
    "file_path = './data/compas-scores-raw.csv'\n",
    "df = pd.read_csv(file_path)"
   ]
  },
  {
   "cell_type": "code",
   "execution_count": 4,
   "metadata": {},
   "outputs": [
    {
     "data": {
      "text/html": [
       "<div>\n",
       "<style scoped>\n",
       "    .dataframe tbody tr th:only-of-type {\n",
       "        vertical-align: middle;\n",
       "    }\n",
       "\n",
       "    .dataframe tbody tr th {\n",
       "        vertical-align: top;\n",
       "    }\n",
       "\n",
       "    .dataframe thead th {\n",
       "        text-align: right;\n",
       "    }\n",
       "</style>\n",
       "<table border=\"1\" class=\"dataframe\">\n",
       "  <thead>\n",
       "    <tr style=\"text-align: right;\">\n",
       "      <th></th>\n",
       "      <th>Person_ID</th>\n",
       "      <th>AssessmentID</th>\n",
       "      <th>Case_ID</th>\n",
       "      <th>Agency_Text</th>\n",
       "      <th>LastName</th>\n",
       "      <th>FirstName</th>\n",
       "      <th>MiddleName</th>\n",
       "      <th>Sex_Code_Text</th>\n",
       "      <th>Ethnic_Code_Text</th>\n",
       "      <th>DateOfBirth</th>\n",
       "      <th>...</th>\n",
       "      <th>RecSupervisionLevel</th>\n",
       "      <th>RecSupervisionLevelText</th>\n",
       "      <th>Scale_ID</th>\n",
       "      <th>DisplayText</th>\n",
       "      <th>RawScore</th>\n",
       "      <th>DecileScore</th>\n",
       "      <th>ScoreText</th>\n",
       "      <th>AssessmentType</th>\n",
       "      <th>IsCompleted</th>\n",
       "      <th>IsDeleted</th>\n",
       "    </tr>\n",
       "  </thead>\n",
       "  <tbody>\n",
       "    <tr>\n",
       "      <th>0</th>\n",
       "      <td>50844</td>\n",
       "      <td>57167</td>\n",
       "      <td>51950</td>\n",
       "      <td>PRETRIAL</td>\n",
       "      <td>Fisher</td>\n",
       "      <td>Kevin</td>\n",
       "      <td>NaN</td>\n",
       "      <td>Male</td>\n",
       "      <td>Caucasian</td>\n",
       "      <td>12/05/92</td>\n",
       "      <td>...</td>\n",
       "      <td>1</td>\n",
       "      <td>Low</td>\n",
       "      <td>7</td>\n",
       "      <td>Risk of Violence</td>\n",
       "      <td>-2.08</td>\n",
       "      <td>4</td>\n",
       "      <td>Low</td>\n",
       "      <td>New</td>\n",
       "      <td>1</td>\n",
       "      <td>0</td>\n",
       "    </tr>\n",
       "    <tr>\n",
       "      <th>1</th>\n",
       "      <td>50844</td>\n",
       "      <td>57167</td>\n",
       "      <td>51950</td>\n",
       "      <td>PRETRIAL</td>\n",
       "      <td>Fisher</td>\n",
       "      <td>Kevin</td>\n",
       "      <td>NaN</td>\n",
       "      <td>Male</td>\n",
       "      <td>Caucasian</td>\n",
       "      <td>12/05/92</td>\n",
       "      <td>...</td>\n",
       "      <td>1</td>\n",
       "      <td>Low</td>\n",
       "      <td>8</td>\n",
       "      <td>Risk of Recidivism</td>\n",
       "      <td>-1.06</td>\n",
       "      <td>2</td>\n",
       "      <td>Low</td>\n",
       "      <td>New</td>\n",
       "      <td>1</td>\n",
       "      <td>0</td>\n",
       "    </tr>\n",
       "    <tr>\n",
       "      <th>2</th>\n",
       "      <td>50844</td>\n",
       "      <td>57167</td>\n",
       "      <td>51950</td>\n",
       "      <td>PRETRIAL</td>\n",
       "      <td>Fisher</td>\n",
       "      <td>Kevin</td>\n",
       "      <td>NaN</td>\n",
       "      <td>Male</td>\n",
       "      <td>Caucasian</td>\n",
       "      <td>12/05/92</td>\n",
       "      <td>...</td>\n",
       "      <td>1</td>\n",
       "      <td>Low</td>\n",
       "      <td>18</td>\n",
       "      <td>Risk of Failure to Appear</td>\n",
       "      <td>15.00</td>\n",
       "      <td>1</td>\n",
       "      <td>Low</td>\n",
       "      <td>New</td>\n",
       "      <td>1</td>\n",
       "      <td>0</td>\n",
       "    </tr>\n",
       "    <tr>\n",
       "      <th>3</th>\n",
       "      <td>50848</td>\n",
       "      <td>57174</td>\n",
       "      <td>51956</td>\n",
       "      <td>PRETRIAL</td>\n",
       "      <td>KENDALL</td>\n",
       "      <td>KEVIN</td>\n",
       "      <td>NaN</td>\n",
       "      <td>Male</td>\n",
       "      <td>Caucasian</td>\n",
       "      <td>09/16/84</td>\n",
       "      <td>...</td>\n",
       "      <td>1</td>\n",
       "      <td>Low</td>\n",
       "      <td>7</td>\n",
       "      <td>Risk of Violence</td>\n",
       "      <td>-2.84</td>\n",
       "      <td>2</td>\n",
       "      <td>Low</td>\n",
       "      <td>New</td>\n",
       "      <td>1</td>\n",
       "      <td>0</td>\n",
       "    </tr>\n",
       "    <tr>\n",
       "      <th>4</th>\n",
       "      <td>50848</td>\n",
       "      <td>57174</td>\n",
       "      <td>51956</td>\n",
       "      <td>PRETRIAL</td>\n",
       "      <td>KENDALL</td>\n",
       "      <td>KEVIN</td>\n",
       "      <td>NaN</td>\n",
       "      <td>Male</td>\n",
       "      <td>Caucasian</td>\n",
       "      <td>09/16/84</td>\n",
       "      <td>...</td>\n",
       "      <td>1</td>\n",
       "      <td>Low</td>\n",
       "      <td>8</td>\n",
       "      <td>Risk of Recidivism</td>\n",
       "      <td>-1.50</td>\n",
       "      <td>1</td>\n",
       "      <td>Low</td>\n",
       "      <td>New</td>\n",
       "      <td>1</td>\n",
       "      <td>0</td>\n",
       "    </tr>\n",
       "  </tbody>\n",
       "</table>\n",
       "<p>5 rows × 28 columns</p>\n",
       "</div>"
      ],
      "text/plain": [
       "   Person_ID  AssessmentID  Case_ID Agency_Text LastName FirstName MiddleName  \\\n",
       "0      50844         57167    51950    PRETRIAL   Fisher     Kevin        NaN   \n",
       "1      50844         57167    51950    PRETRIAL   Fisher     Kevin        NaN   \n",
       "2      50844         57167    51950    PRETRIAL   Fisher     Kevin        NaN   \n",
       "3      50848         57174    51956    PRETRIAL  KENDALL     KEVIN        NaN   \n",
       "4      50848         57174    51956    PRETRIAL  KENDALL     KEVIN        NaN   \n",
       "\n",
       "  Sex_Code_Text Ethnic_Code_Text DateOfBirth  ...  RecSupervisionLevel  \\\n",
       "0          Male        Caucasian    12/05/92  ...                    1   \n",
       "1          Male        Caucasian    12/05/92  ...                    1   \n",
       "2          Male        Caucasian    12/05/92  ...                    1   \n",
       "3          Male        Caucasian    09/16/84  ...                    1   \n",
       "4          Male        Caucasian    09/16/84  ...                    1   \n",
       "\n",
       "  RecSupervisionLevelText Scale_ID                DisplayText RawScore  \\\n",
       "0                     Low        7           Risk of Violence    -2.08   \n",
       "1                     Low        8         Risk of Recidivism    -1.06   \n",
       "2                     Low       18  Risk of Failure to Appear    15.00   \n",
       "3                     Low        7           Risk of Violence    -2.84   \n",
       "4                     Low        8         Risk of Recidivism    -1.50   \n",
       "\n",
       "  DecileScore ScoreText AssessmentType  IsCompleted IsDeleted  \n",
       "0           4       Low            New            1         0  \n",
       "1           2       Low            New            1         0  \n",
       "2           1       Low            New            1         0  \n",
       "3           2       Low            New            1         0  \n",
       "4           1       Low            New            1         0  \n",
       "\n",
       "[5 rows x 28 columns]"
      ]
     },
     "metadata": {},
     "output_type": "display_data"
    }
   ],
   "source": [
    "display(df.head())"
   ]
  },
  {
   "cell_type": "code",
   "execution_count": 5,
   "metadata": {},
   "outputs": [
    {
     "data": {
      "text/plain": [
       "Person_ID                    int64\n",
       "AssessmentID                 int64\n",
       "Case_ID                      int64\n",
       "Agency_Text                 object\n",
       "LastName                    object\n",
       "FirstName                   object\n",
       "MiddleName                  object\n",
       "Sex_Code_Text               object\n",
       "Ethnic_Code_Text            object\n",
       "DateOfBirth                 object\n",
       "ScaleSet_ID                  int64\n",
       "ScaleSet                    object\n",
       "AssessmentReason            object\n",
       "Language                    object\n",
       "LegalStatus                 object\n",
       "CustodyStatus               object\n",
       "MaritalStatus               object\n",
       "Screening_Date              object\n",
       "RecSupervisionLevel          int64\n",
       "RecSupervisionLevelText     object\n",
       "Scale_ID                     int64\n",
       "DisplayText                 object\n",
       "RawScore                   float64\n",
       "DecileScore                  int64\n",
       "ScoreText                   object\n",
       "AssessmentType              object\n",
       "IsCompleted                  int64\n",
       "IsDeleted                    int64\n",
       "dtype: object"
      ]
     },
     "execution_count": 5,
     "metadata": {},
     "output_type": "execute_result"
    }
   ],
   "source": [
    "df.dtypes"
   ]
  },
  {
   "cell_type": "code",
   "execution_count": 6,
   "metadata": {},
   "outputs": [
    {
     "data": {
      "text/plain": [
       "Index(['Person_ID', 'AssessmentID', 'Case_ID', 'Agency_Text', 'LastName',\n",
       "       'FirstName', 'MiddleName', 'Sex_Code_Text', 'Ethnic_Code_Text',\n",
       "       'DateOfBirth', 'ScaleSet_ID', 'ScaleSet', 'AssessmentReason',\n",
       "       'Language', 'LegalStatus', 'CustodyStatus', 'MaritalStatus',\n",
       "       'Screening_Date', 'RecSupervisionLevel', 'RecSupervisionLevelText',\n",
       "       'Scale_ID', 'DisplayText', 'RawScore', 'DecileScore', 'ScoreText',\n",
       "       'AssessmentType', 'IsCompleted', 'IsDeleted'],\n",
       "      dtype='object')"
      ]
     },
     "execution_count": 6,
     "metadata": {},
     "output_type": "execute_result"
    }
   ],
   "source": [
    "df.columns"
   ]
  },
  {
   "cell_type": "code",
   "execution_count": 7,
   "metadata": {},
   "outputs": [],
   "source": [
    "nominal_features = ['Agency_Text', 'Ethnic_Code_Text', 'AssessmentReason', 'Language', 'LegalStatus', 'CustodyStatus', 'MaritalStatus', 'RecSupervisionLevel']"
   ]
  },
  {
   "cell_type": "markdown",
   "metadata": {},
   "source": [
    "In the following code snippet, we do some small preprocessing. First we drop some redundant and unnecessary attributes. For example IDs that are unique to the person or the case should be ignored, because they do not represent any important information, other than identifying this person. Furthermore, we remove the name from the data, because this not only instantly allows to know, who the records belong to and it isn't important when training a simple model. Futhermore, we convert the date to timestamps and remove all other possible \"target\" attributes"
   ]
  },
  {
   "cell_type": "markdown",
   "metadata": {},
   "source": [
    "### PreProcessing"
   ]
  },
  {
   "cell_type": "code",
   "execution_count": 8,
   "metadata": {},
   "outputs": [],
   "source": [
    "columns_to_drop = ['Person_ID', 'AssessmentID', 'Case_ID', 'LastName', 'FirstName', 'MiddleName', 'ScaleSet', 'RecSupervisionLevelText', 'DisplayText', 'RawScore', 'DecileScore', 'AssessmentType', 'IsCompleted', 'IsDeleted'] \n",
    "\n",
    "df = df.drop(columns_to_drop, axis=1)\n",
    "df['Sex_Code_Text'] = df['Sex_Code_Text'].apply(lambda x: 1 if x == 'Male' else 0)\n",
    "df['DateOfBirth'] = pd.to_datetime(df['DateOfBirth']).astype(int) // 10**9  # Convert to Unix timestamp\n",
    "df['Screening_Date'] = pd.to_datetime(df['Screening_Date']).astype(int) // 10**9  # Convert to Unix timestamp\n",
    "\n",
    "df = df.dropna(subset=['ScoreText'])"
   ]
  },
  {
   "cell_type": "code",
   "execution_count": 9,
   "metadata": {},
   "outputs": [],
   "source": [
    "from sklearn.model_selection import train_test_split\n",
    "\n",
    "df_train, df_test = train_test_split(df, test_size=0.2, random_state=random_state)"
   ]
  },
  {
   "cell_type": "code",
   "execution_count": 10,
   "metadata": {},
   "outputs": [],
   "source": [
    "# Replace '?' with NaN, if necessary (check those special characters)\n",
    "df_train.replace('NaN', np.nan, inplace=True)\n",
    "df_test.replace('NaN', np.nan, inplace=True)"
   ]
  },
  {
   "cell_type": "markdown",
   "metadata": {},
   "source": [
    "## Baseline Classifier"
   ]
  },
  {
   "cell_type": "code",
   "execution_count": 11,
   "metadata": {},
   "outputs": [
    {
     "name": "stdout",
     "output_type": "stream",
     "text": [
      "Accuracy: 0.84%\n"
     ]
    }
   ],
   "source": [
    "from sklearn.ensemble import RandomForestClassifier\n",
    "\n",
    "clf = RandomForestClassifier(n_estimators=250, max_depth=15, random_state=random_state)\n",
    "train_and_evaluate(clf, df_train, df_test, nominal_features)"
   ]
  },
  {
   "cell_type": "markdown",
   "metadata": {},
   "source": [
    "## Data synthetization"
   ]
  },
  {
   "cell_type": "code",
   "execution_count": 12,
   "metadata": {},
   "outputs": [],
   "source": [
    "from sdv.metadata import SingleTableMetadata\n",
    "from sdv.single_table import GaussianCopulaSynthesizer\n",
    "from sdv.single_table import CTGANSynthesizer\n",
    "from sdv.single_table import CopulaGANSynthesizer\n",
    "\n",
    "from utils import generate_synthetic_data, evaluate_privacy_risks, evaluate_inference_risks"
   ]
  },
  {
   "cell_type": "markdown",
   "metadata": {},
   "source": [
    "### Metadata"
   ]
  },
  {
   "cell_type": "code",
   "execution_count": 16,
   "metadata": {},
   "outputs": [
    {
     "data": {
      "image/svg+xml": [
       "<?xml version=\"1.0\" encoding=\"UTF-8\" standalone=\"no\"?>\n",
       "<!DOCTYPE svg PUBLIC \"-//W3C//DTD SVG 1.1//EN\"\n",
       " \"http://www.w3.org/Graphics/SVG/1.1/DTD/svg11.dtd\">\n",
       "<!-- Generated by graphviz version 6.0.1 (20220911.1526)\n",
       " -->\n",
       "<!-- Title: Metadata Pages: 1 -->\n",
       "<svg width=\"133pt\" height=\"62pt\"\n",
       " viewBox=\"0.00 0.00 133.00 62.00\" xmlns=\"http://www.w3.org/2000/svg\" xmlns:xlink=\"http://www.w3.org/1999/xlink\">\n",
       "<g id=\"graph0\" class=\"graph\" transform=\"scale(1 1) rotate(0) translate(4 58)\">\n",
       "<title>Metadata</title>\n",
       "<polygon fill=\"white\" stroke=\"none\" points=\"-4,4 -4,-58 129,-58 129,4 -4,4\"/>\n",
       "<g id=\"node1\" class=\"node\">\n",
       "<title></title>\n",
       "<path fill=\"#ffec8b\" stroke=\"black\" d=\"M12,-0.5C12,-0.5 113,-0.5 113,-0.5 119,-0.5 125,-6.5 125,-12.5 125,-12.5 125,-41.5 125,-41.5 125,-47.5 119,-53.5 113,-53.5 113,-53.5 12,-53.5 12,-53.5 6,-53.5 0,-47.5 0,-41.5 0,-41.5 0,-12.5 0,-12.5 0,-6.5 6,-0.5 12,-0.5\"/>\n",
       "<text text-anchor=\"start\" x=\"8\" y=\"-38.3\" font-family=\"Times,serif\" font-size=\"14.00\">Columns</text>\n",
       "<text text-anchor=\"start\" x=\"8\" y=\"-23.3\" font-family=\"Times,serif\" font-size=\"14.00\">    • categorical : 12</text>\n",
       "<text text-anchor=\"start\" x=\"8\" y=\"-8.3\" font-family=\"Times,serif\" font-size=\"14.00\">    • numerical : 2</text>\n",
       "</g>\n",
       "</g>\n",
       "</svg>\n"
      ],
      "text/plain": [
       "<graphviz.graphs.Digraph at 0x28f850940>"
      ]
     },
     "execution_count": 16,
     "metadata": {},
     "output_type": "execute_result"
    }
   ],
   "source": [
    "metadata = SingleTableMetadata()\n",
    "metadata.detect_from_dataframe(df_train)\n",
    "\n",
    "metadata.visualize(\n",
    "    show_table_details='summarized',\n",
    "    output_filepath='my_metadata.png'\n",
    ")"
   ]
  },
  {
   "cell_type": "code",
   "execution_count": 17,
   "metadata": {},
   "outputs": [],
   "source": [
    "metadata.validate_data(data=df_train)"
   ]
  },
  {
   "cell_type": "markdown",
   "metadata": {},
   "source": [
    "### GaussianCopulaSynthesizer"
   ]
  },
  {
   "cell_type": "code",
   "execution_count": 14,
   "metadata": {},
   "outputs": [
    {
     "name": "stderr",
     "output_type": "stream",
     "text": [
      "/Users/maxkleinegger/anaconda3/lib/python3.10/site-packages/sdv/single_table/base.py:82: UserWarning: We strongly recommend saving the metadata using 'save_to_json' for replicability in future SDV versions.\n",
      "  warnings.warn(\n"
     ]
    }
   ],
   "source": [
    "synthetic_data_gc = generate_synthetic_data(GaussianCopulaSynthesizer(metadata), df_train)"
   ]
  },
  {
   "cell_type": "code",
   "execution_count": 18,
   "metadata": {},
   "outputs": [
    {
     "data": {
      "text/html": [
       "<div>\n",
       "<style scoped>\n",
       "    .dataframe tbody tr th:only-of-type {\n",
       "        vertical-align: middle;\n",
       "    }\n",
       "\n",
       "    .dataframe tbody tr th {\n",
       "        vertical-align: top;\n",
       "    }\n",
       "\n",
       "    .dataframe thead th {\n",
       "        text-align: right;\n",
       "    }\n",
       "</style>\n",
       "<table border=\"1\" class=\"dataframe\">\n",
       "  <thead>\n",
       "    <tr style=\"text-align: right;\">\n",
       "      <th></th>\n",
       "      <th>Agency_Text</th>\n",
       "      <th>Sex_Code_Text</th>\n",
       "      <th>Ethnic_Code_Text</th>\n",
       "      <th>DateOfBirth</th>\n",
       "      <th>ScaleSet_ID</th>\n",
       "      <th>AssessmentReason</th>\n",
       "      <th>Language</th>\n",
       "      <th>LegalStatus</th>\n",
       "      <th>CustodyStatus</th>\n",
       "      <th>MaritalStatus</th>\n",
       "      <th>Screening_Date</th>\n",
       "      <th>RecSupervisionLevel</th>\n",
       "      <th>Scale_ID</th>\n",
       "      <th>ScoreText</th>\n",
       "    </tr>\n",
       "  </thead>\n",
       "  <tbody>\n",
       "    <tr>\n",
       "      <th>0</th>\n",
       "      <td>PRETRIAL</td>\n",
       "      <td>1</td>\n",
       "      <td>African-American</td>\n",
       "      <td>574380990</td>\n",
       "      <td>22</td>\n",
       "      <td>Intake</td>\n",
       "      <td>English</td>\n",
       "      <td>Pretrial</td>\n",
       "      <td>Jail Inmate</td>\n",
       "      <td>Single</td>\n",
       "      <td>1382863472</td>\n",
       "      <td>1</td>\n",
       "      <td>18</td>\n",
       "      <td>Medium</td>\n",
       "    </tr>\n",
       "    <tr>\n",
       "      <th>1</th>\n",
       "      <td>PRETRIAL</td>\n",
       "      <td>1</td>\n",
       "      <td>African-American</td>\n",
       "      <td>126230400</td>\n",
       "      <td>22</td>\n",
       "      <td>Intake</td>\n",
       "      <td>English</td>\n",
       "      <td>Post Sentence</td>\n",
       "      <td>Probation</td>\n",
       "      <td>Married</td>\n",
       "      <td>1369853627</td>\n",
       "      <td>1</td>\n",
       "      <td>18</td>\n",
       "      <td>High</td>\n",
       "    </tr>\n",
       "    <tr>\n",
       "      <th>2</th>\n",
       "      <td>Probation</td>\n",
       "      <td>1</td>\n",
       "      <td>Caucasian</td>\n",
       "      <td>1570672035</td>\n",
       "      <td>22</td>\n",
       "      <td>Intake</td>\n",
       "      <td>English</td>\n",
       "      <td>Post Sentence</td>\n",
       "      <td>Pretrial Defendant</td>\n",
       "      <td>Divorced</td>\n",
       "      <td>1404042308</td>\n",
       "      <td>1</td>\n",
       "      <td>8</td>\n",
       "      <td>Low</td>\n",
       "    </tr>\n",
       "    <tr>\n",
       "      <th>3</th>\n",
       "      <td>PRETRIAL</td>\n",
       "      <td>1</td>\n",
       "      <td>African-American</td>\n",
       "      <td>126230400</td>\n",
       "      <td>22</td>\n",
       "      <td>Intake</td>\n",
       "      <td>English</td>\n",
       "      <td>Post Sentence</td>\n",
       "      <td>Probation</td>\n",
       "      <td>Single</td>\n",
       "      <td>1380261283</td>\n",
       "      <td>2</td>\n",
       "      <td>18</td>\n",
       "      <td>High</td>\n",
       "    </tr>\n",
       "    <tr>\n",
       "      <th>4</th>\n",
       "      <td>PRETRIAL</td>\n",
       "      <td>0</td>\n",
       "      <td>Caucasian</td>\n",
       "      <td>2443303261</td>\n",
       "      <td>22</td>\n",
       "      <td>Intake</td>\n",
       "      <td>English</td>\n",
       "      <td>Post Sentence</td>\n",
       "      <td>Probation</td>\n",
       "      <td>Single</td>\n",
       "      <td>1397265981</td>\n",
       "      <td>1</td>\n",
       "      <td>18</td>\n",
       "      <td>Low</td>\n",
       "    </tr>\n",
       "  </tbody>\n",
       "</table>\n",
       "</div>"
      ],
      "text/plain": [
       "  Agency_Text  Sex_Code_Text  Ethnic_Code_Text  DateOfBirth  ScaleSet_ID  \\\n",
       "0    PRETRIAL              1  African-American    574380990           22   \n",
       "1    PRETRIAL              1  African-American    126230400           22   \n",
       "2   Probation              1         Caucasian   1570672035           22   \n",
       "3    PRETRIAL              1  African-American    126230400           22   \n",
       "4    PRETRIAL              0         Caucasian   2443303261           22   \n",
       "\n",
       "  AssessmentReason Language    LegalStatus       CustodyStatus MaritalStatus  \\\n",
       "0           Intake  English       Pretrial         Jail Inmate        Single   \n",
       "1           Intake  English  Post Sentence           Probation       Married   \n",
       "2           Intake  English  Post Sentence  Pretrial Defendant      Divorced   \n",
       "3           Intake  English  Post Sentence           Probation        Single   \n",
       "4           Intake  English  Post Sentence           Probation        Single   \n",
       "\n",
       "   Screening_Date  RecSupervisionLevel  Scale_ID ScoreText  \n",
       "0      1382863472                    1        18    Medium  \n",
       "1      1369853627                    1        18      High  \n",
       "2      1404042308                    1         8       Low  \n",
       "3      1380261283                    2        18      High  \n",
       "4      1397265981                    1        18       Low  "
      ]
     },
     "metadata": {},
     "output_type": "display_data"
    }
   ],
   "source": [
    "display(synthetic_data_gc.head())"
   ]
  },
  {
   "cell_type": "code",
   "execution_count": 22,
   "metadata": {},
   "outputs": [
    {
     "name": "stdout",
     "output_type": "stream",
     "text": [
      "Generating report ...\n",
      "\n",
      "(1/2) Evaluating Data Validity: |██████████| 14/14 [00:00<00:00, 321.30it/s]|\n",
      "Data Validity Score: 100.0%\n",
      "\n",
      "(2/2) Evaluating Data Structure: |██████████| 1/1 [00:00<00:00, 310.67it/s]|\n",
      "Data Structure Score: 100.0%\n",
      "\n",
      "Overall Score (Average): 100.0%\n",
      "\n"
     ]
    }
   ],
   "source": [
    "from sdv.evaluation.single_table import run_diagnostic\n",
    "\n",
    "diagnostic_report = run_diagnostic(\n",
    "    real_data=df_train,\n",
    "    synthetic_data=synthetic_data_gc,\n",
    "    metadata=metadata)"
   ]
  },
  {
   "cell_type": "code",
   "execution_count": 23,
   "metadata": {},
   "outputs": [
    {
     "name": "stdout",
     "output_type": "stream",
     "text": [
      "Generating report ...\n",
      "\n",
      "(1/2) Evaluating Column Shapes: |██████████| 14/14 [00:00<00:00, 86.89it/s]|\n",
      "Column Shapes Score: 97.12%\n",
      "\n",
      "(2/2) Evaluating Column Pair Trends: |██████████| 91/91 [00:02<00:00, 31.95it/s]|\n",
      "Column Pair Trends Score: 70.49%\n",
      "\n",
      "Overall Score (Average): 83.8%\n",
      "\n"
     ]
    }
   ],
   "source": [
    "from sdv.evaluation.single_table import evaluate_quality\n",
    "\n",
    "quality_report = evaluate_quality(\n",
    "    real_data=df_train,\n",
    "    synthetic_data=synthetic_data_gc,\n",
    "    metadata=metadata)"
   ]
  },
  {
   "cell_type": "code",
   "execution_count": 24,
   "metadata": {},
   "outputs": [
    {
     "data": {
      "text/html": [
       "<div>\n",
       "<style scoped>\n",
       "    .dataframe tbody tr th:only-of-type {\n",
       "        vertical-align: middle;\n",
       "    }\n",
       "\n",
       "    .dataframe tbody tr th {\n",
       "        vertical-align: top;\n",
       "    }\n",
       "\n",
       "    .dataframe thead th {\n",
       "        text-align: right;\n",
       "    }\n",
       "</style>\n",
       "<table border=\"1\" class=\"dataframe\">\n",
       "  <thead>\n",
       "    <tr style=\"text-align: right;\">\n",
       "      <th></th>\n",
       "      <th>Column</th>\n",
       "      <th>Metric</th>\n",
       "      <th>Score</th>\n",
       "    </tr>\n",
       "  </thead>\n",
       "  <tbody>\n",
       "    <tr>\n",
       "      <th>0</th>\n",
       "      <td>Agency_Text</td>\n",
       "      <td>TVComplement</td>\n",
       "      <td>0.997163</td>\n",
       "    </tr>\n",
       "    <tr>\n",
       "      <th>1</th>\n",
       "      <td>Sex_Code_Text</td>\n",
       "      <td>TVComplement</td>\n",
       "      <td>0.996299</td>\n",
       "    </tr>\n",
       "    <tr>\n",
       "      <th>2</th>\n",
       "      <td>Ethnic_Code_Text</td>\n",
       "      <td>TVComplement</td>\n",
       "      <td>0.998931</td>\n",
       "    </tr>\n",
       "    <tr>\n",
       "      <th>3</th>\n",
       "      <td>DateOfBirth</td>\n",
       "      <td>KSComplement</td>\n",
       "      <td>0.647806</td>\n",
       "    </tr>\n",
       "    <tr>\n",
       "      <th>4</th>\n",
       "      <td>ScaleSet_ID</td>\n",
       "      <td>TVComplement</td>\n",
       "      <td>0.999836</td>\n",
       "    </tr>\n",
       "    <tr>\n",
       "      <th>5</th>\n",
       "      <td>AssessmentReason</td>\n",
       "      <td>TVComplement</td>\n",
       "      <td>1.000000</td>\n",
       "    </tr>\n",
       "    <tr>\n",
       "      <th>6</th>\n",
       "      <td>Language</td>\n",
       "      <td>TVComplement</td>\n",
       "      <td>0.999692</td>\n",
       "    </tr>\n",
       "    <tr>\n",
       "      <th>7</th>\n",
       "      <td>LegalStatus</td>\n",
       "      <td>TVComplement</td>\n",
       "      <td>0.997122</td>\n",
       "    </tr>\n",
       "    <tr>\n",
       "      <th>8</th>\n",
       "      <td>CustodyStatus</td>\n",
       "      <td>TVComplement</td>\n",
       "      <td>0.997718</td>\n",
       "    </tr>\n",
       "    <tr>\n",
       "      <th>9</th>\n",
       "      <td>MaritalStatus</td>\n",
       "      <td>TVComplement</td>\n",
       "      <td>0.997821</td>\n",
       "    </tr>\n",
       "    <tr>\n",
       "      <th>10</th>\n",
       "      <td>Screening_Date</td>\n",
       "      <td>KSComplement</td>\n",
       "      <td>0.976109</td>\n",
       "    </tr>\n",
       "    <tr>\n",
       "      <th>11</th>\n",
       "      <td>RecSupervisionLevel</td>\n",
       "      <td>TVComplement</td>\n",
       "      <td>0.995230</td>\n",
       "    </tr>\n",
       "    <tr>\n",
       "      <th>12</th>\n",
       "      <td>Scale_ID</td>\n",
       "      <td>TVComplement</td>\n",
       "      <td>0.995785</td>\n",
       "    </tr>\n",
       "    <tr>\n",
       "      <th>13</th>\n",
       "      <td>ScoreText</td>\n",
       "      <td>TVComplement</td>\n",
       "      <td>0.997080</td>\n",
       "    </tr>\n",
       "  </tbody>\n",
       "</table>\n",
       "</div>"
      ],
      "text/plain": [
       "                 Column        Metric     Score\n",
       "0           Agency_Text  TVComplement  0.997163\n",
       "1         Sex_Code_Text  TVComplement  0.996299\n",
       "2      Ethnic_Code_Text  TVComplement  0.998931\n",
       "3           DateOfBirth  KSComplement  0.647806\n",
       "4           ScaleSet_ID  TVComplement  0.999836\n",
       "5      AssessmentReason  TVComplement  1.000000\n",
       "6              Language  TVComplement  0.999692\n",
       "7           LegalStatus  TVComplement  0.997122\n",
       "8         CustodyStatus  TVComplement  0.997718\n",
       "9         MaritalStatus  TVComplement  0.997821\n",
       "10       Screening_Date  KSComplement  0.976109\n",
       "11  RecSupervisionLevel  TVComplement  0.995230\n",
       "12             Scale_ID  TVComplement  0.995785\n",
       "13            ScoreText  TVComplement  0.997080"
      ]
     },
     "execution_count": 24,
     "metadata": {},
     "output_type": "execute_result"
    }
   ],
   "source": [
    "quality_report.get_details(property_name='Column Shapes')"
   ]
  },
  {
   "cell_type": "code",
   "execution_count": 25,
   "metadata": {},
   "outputs": [
    {
     "data": {
      "text/html": [
       "<iframe\n",
       "    scrolling=\"no\"\n",
       "    width=\"920px\"\n",
       "    height=\"920\"\n",
       "    src=\"iframe_figures/figure_25.html\"\n",
       "    frameborder=\"0\"\n",
       "    allowfullscreen\n",
       "></iframe>\n"
      ]
     },
     "metadata": {},
     "output_type": "display_data"
    }
   ],
   "source": [
    "quality_report.get_visualization(property_name='Column Pair Trends')"
   ]
  },
  {
   "cell_type": "markdown",
   "metadata": {},
   "source": [
    "#### Classifier"
   ]
  },
  {
   "cell_type": "code",
   "execution_count": 19,
   "metadata": {},
   "outputs": [
    {
     "name": "stdout",
     "output_type": "stream",
     "text": [
      "Accuracy: 0.68%\n"
     ]
    }
   ],
   "source": [
    "clf = RandomForestClassifier(n_estimators=250, max_depth=15, random_state=random_state)\n",
    "train_and_evaluate(clf, synthetic_data_gc, df_test, nominal_features)"
   ]
  },
  {
   "cell_type": "code",
   "execution_count": 20,
   "metadata": {},
   "outputs": [
    {
     "name": "stderr",
     "output_type": "stream",
     "text": [
      "/Users/maxkleinegger/anaconda3/lib/python3.10/site-packages/anonymeter/stats/confidence.py:218: UserWarning: Attack is as good or worse as baseline model. Estimated rates: attack = 0.0019133792427775617, baseline = 0.0019133792427775617. Analysis results cannot be trusted.\n",
      "  self._sanity_check()\n"
     ]
    },
    {
     "name": "stdout",
     "output_type": "stream",
     "text": [
      "Privacy risks concerning the univariate attacks (1 col): $PrivacyRisk(value=0.0019133792427775617, ci=(0.0, 0.0038267584855551234))\n",
      "Privacy risks concerning the multivariate attacks ($14 col): $PrivacyRisk(value=0.024825363797609797, ci=(0.015374276932992922, 0.034276450662226676))\n"
     ]
    }
   ],
   "source": [
    "evaluate_privacy_risks(df_train, synthetic_data_gc)"
   ]
  },
  {
   "cell_type": "code",
   "execution_count": 21,
   "metadata": {},
   "outputs": [
    {
     "name": "stderr",
     "output_type": "stream",
     "text": [
      "/Users/maxkleinegger/anaconda3/lib/python3.10/site-packages/anonymeter/stats/confidence.py:218: UserWarning: Attack is as good or worse as baseline model. Estimated rates: attack = 0.9263621473681823, baseline = 0.9363238797833268. Analysis results cannot be trusted.\n",
      "  self._sanity_check()\n",
      "/Users/maxkleinegger/anaconda3/lib/python3.10/site-packages/anonymeter/stats/confidence.py:218: UserWarning: Attack is as good or worse as baseline model. Estimated rates: attack = 0.9980866207572224, baseline = 0.9980866207572224. Analysis results cannot be trusted.\n",
      "  self._sanity_check()\n",
      "/Users/maxkleinegger/anaconda3/lib/python3.10/site-packages/anonymeter/stats/confidence.py:218: UserWarning: Attack is as good or worse as baseline model. Estimated rates: attack = 0.9980866207572224, baseline = 0.9980866207572224. Analysis results cannot be trusted.\n",
      "  self._sanity_check()\n",
      "/Users/maxkleinegger/anaconda3/lib/python3.10/site-packages/anonymeter/stats/confidence.py:218: UserWarning: Attack is as good or worse as baseline model. Estimated rates: attack = 0.31471177707831327, baseline = 0.3426046278407177. Analysis results cannot be trusted.\n",
      "  self._sanity_check()\n",
      "/Users/maxkleinegger/anaconda3/lib/python3.10/site-packages/anonymeter/stats/confidence.py:218: UserWarning: Attack is as good or worse as baseline model. Estimated rates: attack = 0.5149425986227166, baseline = 0.5428354493851211. Analysis results cannot be trusted.\n",
      "  self._sanity_check()\n"
     ]
    },
    {
     "data": {
      "image/png": "[encoded data removed]",
      "text/plain": [
       "<Figure size 640x480 with 1 Axes>"
      ]
     },
     "metadata": {},
     "output_type": "display_data"
    }
   ],
   "source": [
    "evaluate_inference_risks(df_train, synthetic_data_gc)"
   ]
  },
  {
   "cell_type": "markdown",
   "metadata": {},
   "source": [
    "### CTGANSynthesizer"
   ]
  },
  {
   "cell_type": "code",
   "execution_count": 58,
   "metadata": {},
   "outputs": [
    {
     "name": "stderr",
     "output_type": "stream",
     "text": [
      "Gen. (-1.76) | Discrim. (-0.24): 100%|██████████| 200/200 [10:11<00:00,  3.06s/it]\n"
     ]
    }
   ],
   "source": [
    "synthesizer_ctgan = CTGANSynthesizer(metadata, epochs=200, verbose=True)\n",
    "synthesizer_ctgan.fit(df_train)\n",
    "\n",
    "synthetic_data_ctgan = synthesizer_ctgan.sample(num_rows=len(df_train))"
   ]
  },
  {
   "cell_type": "code",
   "execution_count": 59,
   "metadata": {},
   "outputs": [
    {
     "data": {
      "text/html": [
       "<div>\n",
       "<style scoped>\n",
       "    .dataframe tbody tr th:only-of-type {\n",
       "        vertical-align: middle;\n",
       "    }\n",
       "\n",
       "    .dataframe tbody tr th {\n",
       "        vertical-align: top;\n",
       "    }\n",
       "\n",
       "    .dataframe thead th {\n",
       "        text-align: right;\n",
       "    }\n",
       "</style>\n",
       "<table border=\"1\" class=\"dataframe\">\n",
       "  <thead>\n",
       "    <tr style=\"text-align: right;\">\n",
       "      <th></th>\n",
       "      <th>Agency_Text</th>\n",
       "      <th>Sex_Code_Text</th>\n",
       "      <th>Ethnic_Code_Text</th>\n",
       "      <th>DateOfBirth</th>\n",
       "      <th>ScaleSet_ID</th>\n",
       "      <th>AssessmentReason</th>\n",
       "      <th>Language</th>\n",
       "      <th>LegalStatus</th>\n",
       "      <th>CustodyStatus</th>\n",
       "      <th>MaritalStatus</th>\n",
       "      <th>Screening_Date</th>\n",
       "      <th>RecSupervisionLevel</th>\n",
       "      <th>Scale_ID</th>\n",
       "      <th>ScoreText</th>\n",
       "    </tr>\n",
       "  </thead>\n",
       "  <tbody>\n",
       "    <tr>\n",
       "      <th>0</th>\n",
       "      <td>PRETRIAL</td>\n",
       "      <td>Male</td>\n",
       "      <td>African-American</td>\n",
       "      <td>3083589624</td>\n",
       "      <td>22</td>\n",
       "      <td>Intake</td>\n",
       "      <td>English</td>\n",
       "      <td>Pretrial</td>\n",
       "      <td>Probation</td>\n",
       "      <td>Married</td>\n",
       "      <td>1369844811</td>\n",
       "      <td>1</td>\n",
       "      <td>7</td>\n",
       "      <td>Low</td>\n",
       "    </tr>\n",
       "    <tr>\n",
       "      <th>1</th>\n",
       "      <td>PRETRIAL</td>\n",
       "      <td>Male</td>\n",
       "      <td>Native American</td>\n",
       "      <td>3120306771</td>\n",
       "      <td>22</td>\n",
       "      <td>Intake</td>\n",
       "      <td>English</td>\n",
       "      <td>Pretrial</td>\n",
       "      <td>Pretrial Defendant</td>\n",
       "      <td>Married</td>\n",
       "      <td>1362471562</td>\n",
       "      <td>1</td>\n",
       "      <td>18</td>\n",
       "      <td>Low</td>\n",
       "    </tr>\n",
       "    <tr>\n",
       "      <th>2</th>\n",
       "      <td>Probation</td>\n",
       "      <td>Male</td>\n",
       "      <td>Caucasian</td>\n",
       "      <td>692416916</td>\n",
       "      <td>22</td>\n",
       "      <td>Intake</td>\n",
       "      <td>English</td>\n",
       "      <td>Post Sentence</td>\n",
       "      <td>Probation</td>\n",
       "      <td>Married</td>\n",
       "      <td>1377745723</td>\n",
       "      <td>3</td>\n",
       "      <td>8</td>\n",
       "      <td>Medium</td>\n",
       "    </tr>\n",
       "    <tr>\n",
       "      <th>3</th>\n",
       "      <td>PRETRIAL</td>\n",
       "      <td>Male</td>\n",
       "      <td>African-American</td>\n",
       "      <td>622767518</td>\n",
       "      <td>22</td>\n",
       "      <td>Intake</td>\n",
       "      <td>English</td>\n",
       "      <td>Pretrial</td>\n",
       "      <td>Pretrial Defendant</td>\n",
       "      <td>Married</td>\n",
       "      <td>1370277698</td>\n",
       "      <td>1</td>\n",
       "      <td>7</td>\n",
       "      <td>Low</td>\n",
       "    </tr>\n",
       "    <tr>\n",
       "      <th>4</th>\n",
       "      <td>PRETRIAL</td>\n",
       "      <td>Male</td>\n",
       "      <td>African-American</td>\n",
       "      <td>3034402793</td>\n",
       "      <td>22</td>\n",
       "      <td>Intake</td>\n",
       "      <td>English</td>\n",
       "      <td>Pretrial</td>\n",
       "      <td>Jail Inmate</td>\n",
       "      <td>Unknown</td>\n",
       "      <td>1416264499</td>\n",
       "      <td>1</td>\n",
       "      <td>18</td>\n",
       "      <td>Low</td>\n",
       "    </tr>\n",
       "  </tbody>\n",
       "</table>\n",
       "</div>"
      ],
      "text/plain": [
       "  Agency_Text Sex_Code_Text  Ethnic_Code_Text  DateOfBirth  ScaleSet_ID  \\\n",
       "0    PRETRIAL          Male  African-American   3083589624           22   \n",
       "1    PRETRIAL          Male   Native American   3120306771           22   \n",
       "2   Probation          Male         Caucasian    692416916           22   \n",
       "3    PRETRIAL          Male  African-American    622767518           22   \n",
       "4    PRETRIAL          Male  African-American   3034402793           22   \n",
       "\n",
       "  AssessmentReason Language    LegalStatus       CustodyStatus MaritalStatus  \\\n",
       "0           Intake  English       Pretrial           Probation       Married   \n",
       "1           Intake  English       Pretrial  Pretrial Defendant       Married   \n",
       "2           Intake  English  Post Sentence           Probation       Married   \n",
       "3           Intake  English       Pretrial  Pretrial Defendant       Married   \n",
       "4           Intake  English       Pretrial         Jail Inmate       Unknown   \n",
       "\n",
       "   Screening_Date  RecSupervisionLevel  Scale_ID ScoreText  \n",
       "0      1369844811                    1         7       Low  \n",
       "1      1362471562                    1        18       Low  \n",
       "2      1377745723                    3         8    Medium  \n",
       "3      1370277698                    1         7       Low  \n",
       "4      1416264499                    1        18       Low  "
      ]
     },
     "metadata": {},
     "output_type": "display_data"
    }
   ],
   "source": [
    "display(synthetic_data_ctgan.head())"
   ]
  },
  {
   "cell_type": "markdown",
   "metadata": {},
   "source": [
    "#### Classifier"
   ]
  },
  {
   "cell_type": "code",
   "execution_count": 60,
   "metadata": {},
   "outputs": [
    {
     "name": "stdout",
     "output_type": "stream",
     "text": [
      "Accuracy: 0.7552631578947369%\n"
     ]
    }
   ],
   "source": [
    "clf = RandomForestClassifier(n_estimators=250, max_depth=15, random_state=random_state)\n",
    "train_and_evaluate(clf, synthetic_data_ctgan, df_test)"
   ]
  },
  {
   "cell_type": "markdown",
   "metadata": {},
   "source": [
    "### CopulaGANSynthesizer"
   ]
  },
  {
   "cell_type": "code",
   "execution_count": 61,
   "metadata": {},
   "outputs": [
    {
     "name": "stderr",
     "output_type": "stream",
     "text": [
      "Gen. (-1.31) | Discrim. (-0.18): 100%|██████████| 200/200 [12:11<00:00,  3.66s/it]\n"
     ]
    }
   ],
   "source": [
    "synthesizer_tvae = CopulaGANSynthesizer(metadata, epochs=200, verbose=True)\n",
    "synthesizer_tvae.fit(df_train)\n",
    "\n",
    "synthetic_data_tvae = synthesizer_tvae.sample(num_rows=len(df_train))"
   ]
  },
  {
   "cell_type": "code",
   "execution_count": 62,
   "metadata": {},
   "outputs": [
    {
     "data": {
      "text/html": [
       "<div>\n",
       "<style scoped>\n",
       "    .dataframe tbody tr th:only-of-type {\n",
       "        vertical-align: middle;\n",
       "    }\n",
       "\n",
       "    .dataframe tbody tr th {\n",
       "        vertical-align: top;\n",
       "    }\n",
       "\n",
       "    .dataframe thead th {\n",
       "        text-align: right;\n",
       "    }\n",
       "</style>\n",
       "<table border=\"1\" class=\"dataframe\">\n",
       "  <thead>\n",
       "    <tr style=\"text-align: right;\">\n",
       "      <th></th>\n",
       "      <th>Agency_Text</th>\n",
       "      <th>Sex_Code_Text</th>\n",
       "      <th>Ethnic_Code_Text</th>\n",
       "      <th>DateOfBirth</th>\n",
       "      <th>ScaleSet_ID</th>\n",
       "      <th>AssessmentReason</th>\n",
       "      <th>Language</th>\n",
       "      <th>LegalStatus</th>\n",
       "      <th>CustodyStatus</th>\n",
       "      <th>MaritalStatus</th>\n",
       "      <th>Screening_Date</th>\n",
       "      <th>RecSupervisionLevel</th>\n",
       "      <th>Scale_ID</th>\n",
       "      <th>ScoreText</th>\n",
       "    </tr>\n",
       "  </thead>\n",
       "  <tbody>\n",
       "    <tr>\n",
       "      <th>0</th>\n",
       "      <td>Probation</td>\n",
       "      <td>Male</td>\n",
       "      <td>Caucasian</td>\n",
       "      <td>2799653771</td>\n",
       "      <td>22</td>\n",
       "      <td>Intake</td>\n",
       "      <td>English</td>\n",
       "      <td>Post Sentence</td>\n",
       "      <td>Probation</td>\n",
       "      <td>Married</td>\n",
       "      <td>1357019144</td>\n",
       "      <td>1</td>\n",
       "      <td>7</td>\n",
       "      <td>Low</td>\n",
       "    </tr>\n",
       "    <tr>\n",
       "      <th>1</th>\n",
       "      <td>PRETRIAL</td>\n",
       "      <td>Female</td>\n",
       "      <td>Native American</td>\n",
       "      <td>451822190</td>\n",
       "      <td>22</td>\n",
       "      <td>Intake</td>\n",
       "      <td>English</td>\n",
       "      <td>Pretrial</td>\n",
       "      <td>Pretrial Defendant</td>\n",
       "      <td>Single</td>\n",
       "      <td>1387839313</td>\n",
       "      <td>1</td>\n",
       "      <td>18</td>\n",
       "      <td>Low</td>\n",
       "    </tr>\n",
       "    <tr>\n",
       "      <th>2</th>\n",
       "      <td>Probation</td>\n",
       "      <td>Female</td>\n",
       "      <td>Caucasian</td>\n",
       "      <td>827719971</td>\n",
       "      <td>22</td>\n",
       "      <td>Intake</td>\n",
       "      <td>English</td>\n",
       "      <td>Post Sentence</td>\n",
       "      <td>Probation</td>\n",
       "      <td>Single</td>\n",
       "      <td>1406086151</td>\n",
       "      <td>1</td>\n",
       "      <td>8</td>\n",
       "      <td>Low</td>\n",
       "    </tr>\n",
       "    <tr>\n",
       "      <th>3</th>\n",
       "      <td>PRETRIAL</td>\n",
       "      <td>Male</td>\n",
       "      <td>Hispanic</td>\n",
       "      <td>596773614</td>\n",
       "      <td>22</td>\n",
       "      <td>Intake</td>\n",
       "      <td>English</td>\n",
       "      <td>Pretrial</td>\n",
       "      <td>Jail Inmate</td>\n",
       "      <td>Divorced</td>\n",
       "      <td>1410770343</td>\n",
       "      <td>1</td>\n",
       "      <td>8</td>\n",
       "      <td>Medium</td>\n",
       "    </tr>\n",
       "    <tr>\n",
       "      <th>4</th>\n",
       "      <td>PRETRIAL</td>\n",
       "      <td>Male</td>\n",
       "      <td>Hispanic</td>\n",
       "      <td>2781048197</td>\n",
       "      <td>22</td>\n",
       "      <td>Intake</td>\n",
       "      <td>English</td>\n",
       "      <td>Pretrial</td>\n",
       "      <td>Jail Inmate</td>\n",
       "      <td>Unknown</td>\n",
       "      <td>1398808805</td>\n",
       "      <td>1</td>\n",
       "      <td>18</td>\n",
       "      <td>Low</td>\n",
       "    </tr>\n",
       "  </tbody>\n",
       "</table>\n",
       "</div>"
      ],
      "text/plain": [
       "  Agency_Text Sex_Code_Text Ethnic_Code_Text  DateOfBirth  ScaleSet_ID  \\\n",
       "0   Probation          Male        Caucasian   2799653771           22   \n",
       "1    PRETRIAL        Female  Native American    451822190           22   \n",
       "2   Probation        Female        Caucasian    827719971           22   \n",
       "3    PRETRIAL          Male         Hispanic    596773614           22   \n",
       "4    PRETRIAL          Male         Hispanic   2781048197           22   \n",
       "\n",
       "  AssessmentReason Language    LegalStatus       CustodyStatus MaritalStatus  \\\n",
       "0           Intake  English  Post Sentence           Probation       Married   \n",
       "1           Intake  English       Pretrial  Pretrial Defendant        Single   \n",
       "2           Intake  English  Post Sentence           Probation        Single   \n",
       "3           Intake  English       Pretrial         Jail Inmate      Divorced   \n",
       "4           Intake  English       Pretrial         Jail Inmate       Unknown   \n",
       "\n",
       "   Screening_Date  RecSupervisionLevel  Scale_ID ScoreText  \n",
       "0      1357019144                    1         7       Low  \n",
       "1      1387839313                    1        18       Low  \n",
       "2      1406086151                    1         8       Low  \n",
       "3      1410770343                    1         8    Medium  \n",
       "4      1398808805                    1        18       Low  "
      ]
     },
     "metadata": {},
     "output_type": "display_data"
    }
   ],
   "source": [
    "display(synthetic_data_tvae.head())"
   ]
  },
  {
   "cell_type": "markdown",
   "metadata": {},
   "source": [
    "#### Classifier"
   ]
  },
  {
   "cell_type": "code",
   "execution_count": 63,
   "metadata": {},
   "outputs": [
    {
     "name": "stdout",
     "output_type": "stream",
     "text": [
      "Accuracy: 0.7770559210526315%\n"
     ]
    }
   ],
   "source": [
    "clf = RandomForestClassifier(n_estimators=250, max_depth=15, random_state=random_state)\n",
    "train_and_evaluate(clf, synthetic_data_tvae, df_test)"
   ]
  },
  {
   "cell_type": "markdown",
   "metadata": {},
   "source": [
    "### DataSynthesizer (correlated attribute mode)"
   ]
  },
  {
   "cell_type": "code",
   "execution_count": 66,
   "metadata": {},
   "outputs": [],
   "source": [
    "from DataSynthesizer.DataDescriber import DataDescriber\n",
    "from DataSynthesizer.DataGenerator import DataGenerator\n",
    "from DataSynthesizer.ModelInspector import ModelInspector\n",
    "from DataSynthesizer.lib.utils import read_json_file, display_bayesian_network"
   ]
  },
  {
   "cell_type": "code",
   "execution_count": 99,
   "metadata": {},
   "outputs": [],
   "source": [
    "file_path_preprocessed = './data/preprocessed_data.csv'\n",
    "# location of two output files\n",
    "mode = 'correlated_attribute_mode'\n",
    "description_file = f'./out/{mode}/description.json'\n",
    "synthetic_data = f'./out/{mode}/sythetic_data.csv'"
   ]
  },
  {
   "cell_type": "code",
   "execution_count": 72,
   "metadata": {},
   "outputs": [],
   "source": [
    "threshold_value = 10\n",
    "\n",
    "categorical_attributes = { col: True for col in df_train.columns if df_train[col].value_counts().shape[0] < threshold_value }\n",
    "\n",
    "candidate_keys = {}\n",
    "epsilon = 1\n",
    "\n",
    "degree_of_bayesian_network = 2\n",
    "\n",
    "num_tuples_to_generate = len(df_train) "
   ]
  },
  {
   "cell_type": "code",
   "execution_count": 73,
   "metadata": {},
   "outputs": [],
   "source": [
    "df_train.to_csv(file_path_preprocessed, index=False)"
   ]
  },
  {
   "cell_type": "code",
   "execution_count": 74,
   "metadata": {},
   "outputs": [
    {
     "name": "stdout",
     "output_type": "stream",
     "text": [
      "================ Constructing Bayesian Network (BN) ================\n",
      "Adding ROOT ScoreText\n",
      "Adding attribute RecSupervisionLevel\n",
      "Adding attribute Scale_ID\n",
      "Adding attribute DateOfBirth\n",
      "Adding attribute MaritalStatus\n",
      "Adding attribute Ethnic_Code_Text\n",
      "Adding attribute LegalStatus\n",
      "Adding attribute CustodyStatus\n",
      "Adding attribute Agency_Text\n",
      "Adding attribute Screening_Date\n",
      "Adding attribute ScaleSet_ID\n",
      "Adding attribute Language\n",
      "Adding attribute Sex_Code_Text\n",
      "Adding attribute AssessmentReason\n",
      "========================== BN constructed ==========================\n"
     ]
    }
   ],
   "source": [
    "describer = DataDescriber(category_threshold=threshold_value)\n",
    "describer.describe_dataset_in_correlated_attribute_mode(dataset_file=file_path_preprocessed, \n",
    "                                                        epsilon=epsilon, \n",
    "                                                        k=degree_of_bayesian_network,\n",
    "                                                        attribute_to_is_categorical=categorical_attributes,\n",
    "                                                        attribute_to_is_candidate_key=candidate_keys)\n",
    "describer.save_dataset_description_to_file(description_file)"
   ]
  },
  {
   "cell_type": "code",
   "execution_count": 75,
   "metadata": {},
   "outputs": [
    {
     "name": "stdout",
     "output_type": "stream",
     "text": [
      "Constructed Bayesian network:\n",
      "    RecSupervisionLevel has parents ['ScoreText'].\n",
      "    Scale_ID            has parents ['RecSupervisionLevel', 'ScoreText'].\n",
      "    DateOfBirth         has parents ['Scale_ID', 'ScoreText'].\n",
      "    MaritalStatus       has parents ['DateOfBirth', 'RecSupervisionLevel'].\n",
      "    Ethnic_Code_Text    has parents ['MaritalStatus', 'RecSupervisionLevel'].\n",
      "    LegalStatus         has parents ['Ethnic_Code_Text', 'DateOfBirth'].\n",
      "    CustodyStatus       has parents ['LegalStatus', 'Scale_ID'].\n",
      "    Agency_Text         has parents ['CustodyStatus', 'Ethnic_Code_Text'].\n",
      "    Screening_Date      has parents ['CustodyStatus', 'Ethnic_Code_Text'].\n",
      "    ScaleSet_ID         has parents ['CustodyStatus', 'Scale_ID'].\n",
      "    Language            has parents ['Screening_Date', 'Scale_ID'].\n",
      "    Sex_Code_Text       has parents ['ScaleSet_ID', 'CustodyStatus'].\n",
      "    AssessmentReason    has parents ['CustodyStatus', 'MaritalStatus'].\n"
     ]
    }
   ],
   "source": [
    "display_bayesian_network(describer.bayesian_network)"
   ]
  },
  {
   "cell_type": "code",
   "execution_count": 76,
   "metadata": {},
   "outputs": [],
   "source": [
    "generator = DataGenerator()\n",
    "generator.generate_dataset_in_correlated_attribute_mode(num_tuples_to_generate, description_file)\n",
    "generator.save_synthetic_data(synthetic_data)"
   ]
  },
  {
   "cell_type": "code",
   "execution_count": 100,
   "metadata": {},
   "outputs": [],
   "source": [
    "synthetic_df = pd.read_csv(synthetic_data)\n",
    "attribute_description = read_json_file(description_file)['attribute_description']"
   ]
  },
  {
   "cell_type": "markdown",
   "metadata": {},
   "source": [
    "#### Classifier"
   ]
  },
  {
   "cell_type": "code",
   "execution_count": 101,
   "metadata": {},
   "outputs": [
    {
     "name": "stdout",
     "output_type": "stream",
     "text": [
      "Accuracy: 0.84%\n"
     ]
    }
   ],
   "source": [
    "clf = RandomForestClassifier(n_estimators=250, max_depth=15, random_state=random_state)\n",
    "train_and_evaluate(clf, synthetic_df, df_test)"
   ]
  },
  {
   "cell_type": "markdown",
   "metadata": {},
   "source": [
    "### DataSynthesizer (independent attribute mode)"
   ]
  },
  {
   "cell_type": "code",
   "execution_count": 79,
   "metadata": {},
   "outputs": [],
   "source": [
    "from DataSynthesizer.DataDescriber import DataDescriber\n",
    "from DataSynthesizer.DataGenerator import DataGenerator\n",
    "from DataSynthesizer.ModelInspector import ModelInspector\n",
    "from DataSynthesizer.lib.utils import read_json_file, display_bayesian_network"
   ]
  },
  {
   "cell_type": "code",
   "execution_count": 106,
   "metadata": {},
   "outputs": [],
   "source": [
    "file_path_preprocessed = './data/preprocessed_data.csv'\n",
    "\n",
    "mode = 'independent_attribute_mode'\n",
    "description_file = f'./out/{mode}/description.json'\n",
    "synthetic_data = f'./out/{mode}/sythetic_data.csv'"
   ]
  },
  {
   "cell_type": "code",
   "execution_count": 127,
   "metadata": {},
   "outputs": [],
   "source": [
    "threshold_value = 15\n",
    "\n",
    "categorical_attributes = { col: True for col in df_train.columns if df_train[col].value_counts().shape[0] < threshold_value }\n",
    "\n",
    "candidate_keys = {}\n",
    "\n",
    "num_tuples_to_generate = len(df_train)"
   ]
  },
  {
   "cell_type": "code",
   "execution_count": 128,
   "metadata": {},
   "outputs": [],
   "source": [
    "df_train.to_csv(file_path_preprocessed, index=False)"
   ]
  },
  {
   "cell_type": "code",
   "execution_count": 129,
   "metadata": {},
   "outputs": [],
   "source": [
    "describer = DataDescriber(category_threshold=threshold_value)\n",
    "describer.describe_dataset_in_independent_attribute_mode(dataset_file=file_path_preprocessed,\n",
    "                                                         attribute_to_is_categorical=categorical_attributes,\n",
    "                                                         attribute_to_is_candidate_key=candidate_keys)\n",
    "describer.save_dataset_description_to_file(description_file)"
   ]
  },
  {
   "cell_type": "code",
   "execution_count": 130,
   "metadata": {},
   "outputs": [],
   "source": [
    "generator = DataGenerator()\n",
    "generator.generate_dataset_in_independent_mode(num_tuples_to_generate, description_file)\n",
    "generator.save_synthetic_data(synthetic_data)"
   ]
  },
  {
   "cell_type": "code",
   "execution_count": 131,
   "metadata": {},
   "outputs": [],
   "source": [
    "synthetic_df = pd.read_csv(synthetic_data)\n",
    "attribute_description = read_json_file(description_file)['attribute_description']"
   ]
  },
  {
   "cell_type": "markdown",
   "metadata": {},
   "source": [
    "#### Classifier"
   ]
  },
  {
   "cell_type": "code",
   "execution_count": null,
   "metadata": {},
   "outputs": [],
   "source": [
    "clf = RandomForestClassifier(n_estimators=250, max_depth=15, random_state=random_state)\n",
    "train_and_evaluate(clf, synthetic_df, df_test, remove_diff_cols=False)"
   ]
  },
  {
   "cell_type": "markdown",
   "metadata": {},
   "source": [
    "## Privacy check"
   ]
  },
  {
   "cell_type": "code",
   "execution_count": 19,
   "metadata": {},
   "outputs": [],
   "source": [
    "from anonymeter.evaluators import SinglingOutEvaluator\n",
    "from anonymeter.evaluators import LinkabilityEvaluator\n",
    "from anonymeter.evaluators import InferenceEvaluator"
   ]
  },
  {
   "cell_type": "code",
   "execution_count": 21,
   "metadata": {},
   "outputs": [
    {
     "name": "stderr",
     "output_type": "stream",
     "text": [
      "/Users/maxkleinegger/anaconda3/lib/python3.10/site-packages/anonymeter/stats/confidence.py:218: UserWarning: Attack is as good or worse as baseline model. Estimated rates: attack = 0.0038121702307761206, baseline = 0.0038121702307761206. Analysis results cannot be trusted.\n",
      "  self._sanity_check()\n"
     ]
    },
    {
     "name": "stdout",
     "output_type": "stream",
     "text": [
      "PrivacyRisk(value=0.0038121702307761206, ci=(4.336808689942018e-19, 0.007624340461552241))\n",
      "PrivacyRisk(value=0.039537693974160244, ci=(0.022891060980292727, 0.05618432696802776))\n"
     ]
    }
   ],
   "source": [
    "evaluator = SinglingOutEvaluator(ori=df_train, \n",
    "                                 syn=synthetic_data_gc, \n",
    "                                 n_attacks=500,\n",
    "                                 n_cols=len(df_train.columns))\n",
    "\n",
    "try:\n",
    "    evaluator.evaluate(mode='univariate')\n",
    "    risk = evaluator.risk()\n",
    "    print(risk)\n",
    "\n",
    "    evaluator.evaluate(mode='multivariate')\n",
    "    risk = evaluator.risk()\n",
    "    print(risk)\n",
    "\n",
    "except RuntimeError as ex: \n",
    "    print(f\"Singling out evaluation failed with {ex}. Please re-run this cell.\"\n",
    "          \"For more stable results increase `n_attacks`. Note that this will \"\n",
    "          \"make the evaluation slower.\")"
   ]
  },
  {
   "cell_type": "code",
   "execution_count": 21,
   "metadata": {},
   "outputs": [
    {
     "name": "stdout",
     "output_type": "stream",
     "text": [
      "Successs rate of main attack: SuccessRate(value=0.0038121702307761206, error=0.00381217023077612)\n",
      "Successs rate of baseline attack: SuccessRate(value=0.0038121702307761206, error=0.00381217023077612)\n",
      "Successs rate of control attack: None\n"
     ]
    }
   ],
   "source": [
    "res = evaluator.results()\n",
    "\n",
    "print(\"Successs rate of main attack:\", res.attack_rate)\n",
    "print(\"Successs rate of baseline attack:\", res.baseline_rate)\n",
    "print(\"Successs rate of control attack:\", res.control_rate)"
   ]
  },
  {
   "cell_type": "code",
   "execution_count": 24,
   "metadata": {},
   "outputs": [
    {
     "name": "stdout",
     "output_type": "stream",
     "text": [
      "PrivacyRisk(value=0.027629186059698867, ci=(0.013781314655496982, 0.04147705746390075))\n"
     ]
    }
   ],
   "source": [
    "evaluator = SinglingOutEvaluator(ori=df_train, \n",
    "                                 syn=synthetic_data, \n",
    "                                 n_attacks=500, # this attack takes longer\n",
    "                                 n_cols=len(df_train.columns))\n",
    "\n",
    "\n",
    "try:\n",
    "    evaluator.evaluate(mode='multivariate')\n",
    "    risk = evaluator.risk()\n",
    "    print(risk)\n",
    "\n",
    "except RuntimeError as ex: \n",
    "    print(f\"Singling out evaluation failed with {ex}. Please re-run this cell.\"\n",
    "          \"For more stable results increase `n_attacks`. Note that this will \"\n",
    "          \"make the evaluation slower.\")"
   ]
  },
  {
   "cell_type": "code",
   "execution_count": 25,
   "metadata": {},
   "outputs": [
    {
     "name": "stderr",
     "output_type": "stream",
     "text": [
      "/Users/maxkleinegger/anaconda3/lib/python3.10/site-packages/anonymeter/stats/confidence.py:218: UserWarning: Attack is as good or worse as baseline model. Estimated rates: attack = 0.3396161081161744, baseline = 0.36551661239554994. Analysis results cannot be trusted.\n",
      "  self._sanity_check()\n",
      "/Users/maxkleinegger/anaconda3/lib/python3.10/site-packages/anonymeter/stats/confidence.py:218: UserWarning: Attack is as good or worse as baseline model. Estimated rates: attack = 0.043752655386384245, baseline = 0.044748828627898696. Analysis results cannot be trusted.\n",
      "  self._sanity_check()\n",
      "/Users/maxkleinegger/anaconda3/lib/python3.10/site-packages/anonymeter/stats/confidence.py:218: UserWarning: Attack is as good or worse as baseline model. Estimated rates: attack = 0.9173965881945524, baseline = 0.9233736276436391. Analysis results cannot be trusted.\n",
      "  self._sanity_check()\n",
      "/Users/maxkleinegger/anaconda3/lib/python3.10/site-packages/anonymeter/stats/confidence.py:218: UserWarning: Attack is as good or worse as baseline model. Estimated rates: attack = 0.9980866207572224, baseline = 0.9980866207572224. Analysis results cannot be trusted.\n",
      "  self._sanity_check()\n",
      "/Users/maxkleinegger/anaconda3/lib/python3.10/site-packages/anonymeter/stats/confidence.py:218: UserWarning: Attack is as good or worse as baseline model. Estimated rates: attack = 0.9980866207572224, baseline = 0.9980866207572224. Analysis results cannot be trusted.\n",
      "  self._sanity_check()\n",
      "/Users/maxkleinegger/anaconda3/lib/python3.10/site-packages/anonymeter/stats/confidence.py:218: UserWarning: Attack is as good or worse as baseline model. Estimated rates: attack = 0.4601530703394222, baseline = 0.4601530703394222. Analysis results cannot be trusted.\n",
      "  self._sanity_check()\n"
     ]
    }
   ],
   "source": [
    "columns = df_train.columns\n",
    "results = []\n",
    "\n",
    "for secret in columns:\n",
    "    \n",
    "    aux_cols = [col for col in columns if col != secret]\n",
    "    \n",
    "    evaluator = InferenceEvaluator(ori=df_train, \n",
    "                                   syn=synthetic_data, \n",
    "                                   aux_cols=aux_cols,\n",
    "                                   secret=secret,\n",
    "                                   n_attacks=1000)\n",
    "    evaluator.evaluate(n_jobs=-2)\n",
    "    results.append((secret, evaluator.results()))"
   ]
  },
  {
   "cell_type": "code",
   "execution_count": 26,
   "metadata": {},
   "outputs": [
    {
     "data": {
      "image/png": "[encoded data removed]",
      "text/plain": [
       "<Figure size 640x480 with 1 Axes>"
      ]
     },
     "metadata": {},
     "output_type": "display_data"
    }
   ],
   "source": [
    "import matplotlib.pyplot as plt\n",
    "fig, ax = plt.subplots()\n",
    "\n",
    "risks = [res[1].risk().value for res in results]\n",
    "columns = [res[0] for res in results]\n",
    "\n",
    "ax.bar(x=columns, height=risks, alpha=0.5, ecolor='black', capsize=10)\n",
    "\n",
    "plt.xticks(rotation=45, ha='right')\n",
    "ax.set_ylabel(\"Measured inference risk\")\n",
    "_ = ax.set_xlabel(\"Secret column\")"
   ]
  },
  {
   "cell_type": "code",
   "execution_count": null,
   "metadata": {},
   "outputs": [],
   "source": []
  }
 ],
 "metadata": {
  "kernelspec": {
   "display_name": "Python 3 (ipykernel)",
   "language": "python",
   "name": "python3"
  },
  "language_info": {
   "codemirror_mode": {
    "name": "ipython",
    "version": 3
   },
   "file_extension": ".py",
   "mimetype": "text/x-python",
   "name": "python",
   "nbconvert_exporter": "python",
   "pygments_lexer": "ipython3",
   "version": "3.10.9"
  },
  "toc": {
   "base_numbering": 1,
   "nav_menu": {
    "height": "12px",
    "width": "252px"
   },
   "number_sections": true,
   "sideBar": true,
   "skip_h1_title": false,
   "title_cell": "Table of Contents",
   "title_sidebar": "Contents",
   "toc_cell": false,
   "toc_position": {
    "height": "calc(100% - 180px)",
    "left": "10px",
    "top": "150px",
    "width": "463px"
   },
   "toc_section_display": "block",
   "toc_window_display": true
  }
 },
 "nbformat": 4,
 "nbformat_minor": 2
}
