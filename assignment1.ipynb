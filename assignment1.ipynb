{
 "cells": [
  {
   "cell_type": "markdown",
   "metadata": {
    "deletable": false,
    "editable": false,
    "nbgrader": {
     "cell_type": "markdown",
     "checksum": "a4ae6c6d9dad9d64ca626c52248df874",
     "grade": false,
     "grade_id": "cell-b7412adc4e975740",
     "locked": true,
     "schema_version": 3,
     "solution": false,
     "task": false
    }
   },
   "source": [
    "# SPEML - Assignment 1\n",
    "---\n",
    "This exercise is intended for group work of 2 students. Only one student per group needs to submit the report - when you are signed up to a group, the submission will also be visible to the second group member.\n",
    "\n",
    "Synthetic Data Creation and Evaluation\n",
    "In this task, you will work with a synthetic data generation tool, and evaluate fidelity, utility and privacy aspects of the synthetic data; to keep computation times reasonable, you shall work with tabular data. The idea is that you use existing tools, and mainly develop the boilerplate code around using these tools (dataset loading, spitting, model training, calling evaluation tools, ....).\n",
    "\n",
    "The exercise thus consists of roughly the following steps:\n",
    "\n",
    "Pick a tabular dataset from a public repository; ideally, the dataset contains some sensitive/personal attributes (age, income, education, a diagnosis, ....). Overall, your dataset does not need to be too large, anything from 1k samples up should be fine.\n",
    "(we focus on tabular data due to computational costs / runtime, interpretability of the results, and the meaningfulness of fidelity & privacy evaluation; if you would want to work with some other data modality, contact me, we can discuss if that is feasible)\n",
    "\n",
    "Chose a data synthetisation framework; while there are many frameworks around, we can recommend the [Synthetic Data Vault](https://github.com/sdv-dev/SDV) (SDV) as a very comprehensive tool including many different techniques (their original Gaussian Copula, but also CTGAN, and implementations of Bayesian Networks, ...) , gretel.ai; synthpop offers decision trees (primary implementation is in R), DataSynthesizer offers Bayesian Networks. You can find a curated list e.g. at https://github.com/joofio/awesome-data-synthesis\n",
    "\n",
    "Prepare your data for evaluation; basically, you shall have a test set available for testing classifiers\n",
    "\n",
    "Create a synthetic data version from your original training data; for simplicity reasons, just create a dataset with the same number of samples as the original dataset.\n",
    "\n",
    "Perform a fidelity evaluation of the synthetic dataset, by comparing data characteristics to the original training data; you can utilise e.g. the SDMetric from the SDV https://github.com/sdv-dev/SDMetrics; select the most interesting aspects from the evaluation for your report.\n",
    "\n",
    "Perform a utility evaluation of the synthetic dataset, by training one classifier model, once on the original training data, and once on the synthetic data; then evaluate both models on the test data, and compare their performance. Use a fast, shallow, but still powerful model (e.g. SVM, RF, Boosting algorithms, ....)\n",
    "\n",
    "Perform a privacy evaluation of the synthetic dataset, by using a privacy evaluation tool. You can use e.g. Anonymeter (https://github.com/statice/anonymeter), and focus on metrics that can be computed from the synthetic data directly. There are other tools around, but many of them provide attack-based evaluation (e.g. membership inference attacks), which are computationally expensive. Again, select the most interesting aspects from the evaluation for your report.\n",
    "\n",
    "Write up all of this in a short report; in the report, describe what tools and parameter settings you used, and describe and discuss the results in terms of fidelity, utility and privacy of the synthetic data. Submit a complete package including your report, your code, and your data files (original and generated).\n",
    "\n",
    "To avoid everyone using the same dataset, you shall register your dataset on the wiki page, and make sure that each dataset is used at most by three groups."
   ]
  },
  {
   "cell_type": "markdown",
   "metadata": {},
   "source": [
    "## Packages\n",
    "The following packages are used in this project"
   ]
  },
  {
   "cell_type": "code",
   "execution_count": 1,
   "metadata": {},
   "outputs": [
    {
     "name": "stdout",
     "output_type": "stream",
     "text": [
      "Requirement already satisfied: numpy in /Users/maxkleinegger/miniconda3/lib/python3.9/site-packages (from -r ./requirements.txt (line 1)) (1.23.5)\n",
      "Requirement already satisfied: pandas in /Users/maxkleinegger/miniconda3/lib/python3.9/site-packages (from -r ./requirements.txt (line 2)) (1.5.2)\n",
      "Requirement already satisfied: scikit-learn in /Users/maxkleinegger/miniconda3/lib/python3.9/site-packages (from -r ./requirements.txt (line 3)) (1.4.0)\n",
      "Requirement already satisfied: matplotlib in /Users/maxkleinegger/miniconda3/lib/python3.9/site-packages (from -r ./requirements.txt (line 4)) (3.8.0)\n",
      "Requirement already satisfied: DataSynthesizer in /Users/maxkleinegger/miniconda3/lib/python3.9/site-packages (from -r ./requirements.txt (line 5)) (0.1.13)\n",
      "Requirement already satisfied: sdv in /Users/maxkleinegger/miniconda3/lib/python3.9/site-packages (from -r ./requirements.txt (line 6)) (1.12.1)\n",
      "Requirement already satisfied: nbformat>=4.2.0 in /Users/maxkleinegger/miniconda3/lib/python3.9/site-packages (from -r ./requirements.txt (line 7)) (5.10.4)\n",
      "Requirement already satisfied: python-dateutil>=2.8.1 in /Users/maxkleinegger/miniconda3/lib/python3.9/site-packages (from pandas->-r ./requirements.txt (line 2)) (2.8.2)\n",
      "Requirement already satisfied: pytz>=2020.1 in /Users/maxkleinegger/miniconda3/lib/python3.9/site-packages (from pandas->-r ./requirements.txt (line 2)) (2023.3.post1)\n",
      "Requirement already satisfied: scipy>=1.6.0 in /Users/maxkleinegger/miniconda3/lib/python3.9/site-packages (from scikit-learn->-r ./requirements.txt (line 3)) (1.12.0)\n",
      "Requirement already satisfied: joblib>=1.2.0 in /Users/maxkleinegger/miniconda3/lib/python3.9/site-packages (from scikit-learn->-r ./requirements.txt (line 3)) (1.3.2)\n",
      "Requirement already satisfied: threadpoolctl>=2.0.0 in /Users/maxkleinegger/miniconda3/lib/python3.9/site-packages (from scikit-learn->-r ./requirements.txt (line 3)) (3.2.0)\n",
      "Requirement already satisfied: contourpy>=1.0.1 in /Users/maxkleinegger/miniconda3/lib/python3.9/site-packages (from matplotlib->-r ./requirements.txt (line 4)) (1.2.0)\n",
      "Requirement already satisfied: cycler>=0.10 in /Users/maxkleinegger/miniconda3/lib/python3.9/site-packages (from matplotlib->-r ./requirements.txt (line 4)) (0.11.0)\n",
      "Requirement already satisfied: fonttools>=4.22.0 in /Users/maxkleinegger/miniconda3/lib/python3.9/site-packages (from matplotlib->-r ./requirements.txt (line 4)) (4.25.0)\n",
      "Requirement already satisfied: kiwisolver>=1.0.1 in /Users/maxkleinegger/miniconda3/lib/python3.9/site-packages (from matplotlib->-r ./requirements.txt (line 4)) (1.4.4)\n",
      "Requirement already satisfied: packaging>=20.0 in /Users/maxkleinegger/miniconda3/lib/python3.9/site-packages (from matplotlib->-r ./requirements.txt (line 4)) (23.1)\n",
      "Requirement already satisfied: pillow>=6.2.0 in /Users/maxkleinegger/miniconda3/lib/python3.9/site-packages (from matplotlib->-r ./requirements.txt (line 4)) (10.0.1)\n",
      "Requirement already satisfied: pyparsing>=2.3.1 in /Users/maxkleinegger/miniconda3/lib/python3.9/site-packages (from matplotlib->-r ./requirements.txt (line 4)) (3.0.9)\n",
      "Requirement already satisfied: importlib-resources>=3.2.0 in /Users/maxkleinegger/miniconda3/lib/python3.9/site-packages (from matplotlib->-r ./requirements.txt (line 4)) (6.1.1)\n",
      "Requirement already satisfied: seaborn>=0.10.1 in /Users/maxkleinegger/miniconda3/lib/python3.9/site-packages (from DataSynthesizer->-r ./requirements.txt (line 5)) (0.12.2)\n",
      "Requirement already satisfied: boto3>=1.28 in /Users/maxkleinegger/miniconda3/lib/python3.9/site-packages (from sdv->-r ./requirements.txt (line 6)) (1.34.88)\n",
      "Requirement already satisfied: botocore>=1.31 in /Users/maxkleinegger/miniconda3/lib/python3.9/site-packages (from sdv->-r ./requirements.txt (line 6)) (1.34.88)\n",
      "Requirement already satisfied: cloudpickle>=2.1.0 in /Users/maxkleinegger/miniconda3/lib/python3.9/site-packages (from sdv->-r ./requirements.txt (line 6)) (3.0.0)\n",
      "Requirement already satisfied: graphviz>=0.13.2 in /Users/maxkleinegger/miniconda3/lib/python3.9/site-packages (from sdv->-r ./requirements.txt (line 6)) (0.20.3)\n",
      "Requirement already satisfied: tqdm>=4.29 in /Users/maxkleinegger/miniconda3/lib/python3.9/site-packages (from sdv->-r ./requirements.txt (line 6)) (4.65.0)\n",
      "Requirement already satisfied: copulas>=0.11.0 in /Users/maxkleinegger/miniconda3/lib/python3.9/site-packages (from sdv->-r ./requirements.txt (line 6)) (0.11.0)\n",
      "Requirement already satisfied: ctgan>=0.10.0 in /Users/maxkleinegger/miniconda3/lib/python3.9/site-packages (from sdv->-r ./requirements.txt (line 6)) (0.10.0)\n",
      "Requirement already satisfied: deepecho>=0.6.0 in /Users/maxkleinegger/miniconda3/lib/python3.9/site-packages (from sdv->-r ./requirements.txt (line 6)) (0.6.0)\n",
      "Requirement already satisfied: rdt>=1.12.0 in /Users/maxkleinegger/miniconda3/lib/python3.9/site-packages (from sdv->-r ./requirements.txt (line 6)) (1.12.0)\n",
      "Requirement already satisfied: sdmetrics>=0.14.0 in /Users/maxkleinegger/miniconda3/lib/python3.9/site-packages (from sdv->-r ./requirements.txt (line 6)) (0.14.0)\n",
      "Requirement already satisfied: fastjsonschema>=2.15 in /Users/maxkleinegger/miniconda3/lib/python3.9/site-packages (from nbformat>=4.2.0->-r ./requirements.txt (line 7)) (2.19.1)\n",
      "Requirement already satisfied: jsonschema>=2.6 in /Users/maxkleinegger/miniconda3/lib/python3.9/site-packages (from nbformat>=4.2.0->-r ./requirements.txt (line 7)) (4.21.1)\n",
      "Requirement already satisfied: jupyter-core!=5.0.*,>=4.12 in /Users/maxkleinegger/miniconda3/lib/python3.9/site-packages (from nbformat>=4.2.0->-r ./requirements.txt (line 7)) (5.7.2)\n",
      "Requirement already satisfied: traitlets>=5.1 in /Users/maxkleinegger/miniconda3/lib/python3.9/site-packages (from nbformat>=4.2.0->-r ./requirements.txt (line 7)) (5.14.3)\n",
      "Requirement already satisfied: jmespath<2.0.0,>=0.7.1 in /Users/maxkleinegger/miniconda3/lib/python3.9/site-packages (from boto3>=1.28->sdv->-r ./requirements.txt (line 6)) (1.0.1)\n",
      "Requirement already satisfied: s3transfer<0.11.0,>=0.10.0 in /Users/maxkleinegger/miniconda3/lib/python3.9/site-packages (from boto3>=1.28->sdv->-r ./requirements.txt (line 6)) (0.10.1)\n",
      "Requirement already satisfied: urllib3<1.27,>=1.25.4 in /Users/maxkleinegger/miniconda3/lib/python3.9/site-packages (from botocore>=1.31->sdv->-r ./requirements.txt (line 6)) (1.26.18)\n",
      "Requirement already satisfied: plotly>=5.10.0 in /Users/maxkleinegger/miniconda3/lib/python3.9/site-packages (from copulas>=0.11.0->sdv->-r ./requirements.txt (line 6)) (5.21.0)\n",
      "Requirement already satisfied: torch>=1.8.0 in /Users/maxkleinegger/miniconda3/lib/python3.9/site-packages (from ctgan>=0.10.0->sdv->-r ./requirements.txt (line 6)) (2.1.2)\n",
      "Requirement already satisfied: zipp>=3.1.0 in /Users/maxkleinegger/miniconda3/lib/python3.9/site-packages (from importlib-resources>=3.2.0->matplotlib->-r ./requirements.txt (line 4)) (3.17.0)\n",
      "Requirement already satisfied: attrs>=22.2.0 in /Users/maxkleinegger/miniconda3/lib/python3.9/site-packages (from jsonschema>=2.6->nbformat>=4.2.0->-r ./requirements.txt (line 7)) (23.1.0)\n",
      "Requirement already satisfied: jsonschema-specifications>=2023.03.6 in /Users/maxkleinegger/miniconda3/lib/python3.9/site-packages (from jsonschema>=2.6->nbformat>=4.2.0->-r ./requirements.txt (line 7)) (2023.12.1)\n",
      "Requirement already satisfied: referencing>=0.28.4 in /Users/maxkleinegger/miniconda3/lib/python3.9/site-packages (from jsonschema>=2.6->nbformat>=4.2.0->-r ./requirements.txt (line 7)) (0.32.1)\n",
      "Requirement already satisfied: rpds-py>=0.7.1 in /Users/maxkleinegger/miniconda3/lib/python3.9/site-packages (from jsonschema>=2.6->nbformat>=4.2.0->-r ./requirements.txt (line 7)) (0.17.1)\n",
      "Requirement already satisfied: platformdirs>=2.5 in /Users/maxkleinegger/miniconda3/lib/python3.9/site-packages (from jupyter-core!=5.0.*,>=4.12->nbformat>=4.2.0->-r ./requirements.txt (line 7)) (3.10.0)\n",
      "Requirement already satisfied: six>=1.5 in /Users/maxkleinegger/miniconda3/lib/python3.9/site-packages (from python-dateutil>=2.8.1->pandas->-r ./requirements.txt (line 2)) (1.16.0)\n",
      "Requirement already satisfied: Faker>=17 in /Users/maxkleinegger/miniconda3/lib/python3.9/site-packages (from rdt>=1.12.0->sdv->-r ./requirements.txt (line 6)) (24.11.0)\n",
      "Requirement already satisfied: tenacity>=6.2.0 in /Users/maxkleinegger/miniconda3/lib/python3.9/site-packages (from plotly>=5.10.0->copulas>=0.11.0->sdv->-r ./requirements.txt (line 6)) (8.2.3)\n",
      "Requirement already satisfied: filelock in /Users/maxkleinegger/miniconda3/lib/python3.9/site-packages (from torch>=1.8.0->ctgan>=0.10.0->sdv->-r ./requirements.txt (line 6)) (3.13.1)\n",
      "Requirement already satisfied: typing-extensions in /Users/maxkleinegger/miniconda3/lib/python3.9/site-packages (from torch>=1.8.0->ctgan>=0.10.0->sdv->-r ./requirements.txt (line 6)) (4.9.0)\n",
      "Requirement already satisfied: sympy in /Users/maxkleinegger/miniconda3/lib/python3.9/site-packages (from torch>=1.8.0->ctgan>=0.10.0->sdv->-r ./requirements.txt (line 6)) (1.12)\n",
      "Requirement already satisfied: networkx in /Users/maxkleinegger/miniconda3/lib/python3.9/site-packages (from torch>=1.8.0->ctgan>=0.10.0->sdv->-r ./requirements.txt (line 6)) (3.2.1)\n",
      "Requirement already satisfied: jinja2 in /Users/maxkleinegger/miniconda3/lib/python3.9/site-packages (from torch>=1.8.0->ctgan>=0.10.0->sdv->-r ./requirements.txt (line 6)) (3.1.3)\n",
      "Requirement already satisfied: fsspec in /Users/maxkleinegger/miniconda3/lib/python3.9/site-packages (from torch>=1.8.0->ctgan>=0.10.0->sdv->-r ./requirements.txt (line 6)) (2023.12.2)\n",
      "Requirement already satisfied: MarkupSafe>=2.0 in /Users/maxkleinegger/miniconda3/lib/python3.9/site-packages (from jinja2->torch>=1.8.0->ctgan>=0.10.0->sdv->-r ./requirements.txt (line 6)) (2.1.3)\n",
      "Requirement already satisfied: mpmath>=0.19 in /Users/maxkleinegger/miniconda3/lib/python3.9/site-packages (from sympy->torch>=1.8.0->ctgan>=0.10.0->sdv->-r ./requirements.txt (line 6)) (1.3.0)\n"
     ]
    }
   ],
   "source": [
    "! pip install -r ./requirements.txt"
   ]
  },
  {
   "cell_type": "markdown",
   "metadata": {
    "deletable": false,
    "nbgrader": {
     "cell_type": "code",
     "checksum": "f8cea911828bf564dbe36285c3523029",
     "grade": false,
     "grade_id": "cell-306d37c936005bde",
     "locked": false,
     "schema_version": 3,
     "solution": true,
     "task": false
    }
   },
   "source": [
    "## General data"
   ]
  },
  {
   "cell_type": "code",
   "execution_count": 2,
   "metadata": {},
   "outputs": [],
   "source": [
    "# define a random state\n",
    "random_state = 12014500"
   ]
  },
  {
   "cell_type": "code",
   "execution_count": null,
   "metadata": {},
   "outputs": [],
   "source": [
    "import numpy as np\n",
    "np.random.seed(random_state)"
   ]
  },
  {
   "cell_type": "markdown",
   "metadata": {},
   "source": [
    "## Dataset\n",
    "We work with the compass dataset..."
   ]
  },
  {
   "cell_type": "code",
   "execution_count": 3,
   "metadata": {},
   "outputs": [
    {
     "data": {
      "text/html": [
       "<div>\n",
       "<style scoped>\n",
       "    .dataframe tbody tr th:only-of-type {\n",
       "        vertical-align: middle;\n",
       "    }\n",
       "\n",
       "    .dataframe tbody tr th {\n",
       "        vertical-align: top;\n",
       "    }\n",
       "\n",
       "    .dataframe thead th {\n",
       "        text-align: right;\n",
       "    }\n",
       "</style>\n",
       "<table border=\"1\" class=\"dataframe\">\n",
       "  <thead>\n",
       "    <tr style=\"text-align: right;\">\n",
       "      <th></th>\n",
       "      <th>Person_ID</th>\n",
       "      <th>AssessmentID</th>\n",
       "      <th>Case_ID</th>\n",
       "      <th>Agency_Text</th>\n",
       "      <th>LastName</th>\n",
       "      <th>FirstName</th>\n",
       "      <th>MiddleName</th>\n",
       "      <th>Sex_Code_Text</th>\n",
       "      <th>Ethnic_Code_Text</th>\n",
       "      <th>DateOfBirth</th>\n",
       "      <th>...</th>\n",
       "      <th>RecSupervisionLevel</th>\n",
       "      <th>RecSupervisionLevelText</th>\n",
       "      <th>Scale_ID</th>\n",
       "      <th>DisplayText</th>\n",
       "      <th>RawScore</th>\n",
       "      <th>DecileScore</th>\n",
       "      <th>ScoreText</th>\n",
       "      <th>AssessmentType</th>\n",
       "      <th>IsCompleted</th>\n",
       "      <th>IsDeleted</th>\n",
       "    </tr>\n",
       "  </thead>\n",
       "  <tbody>\n",
       "    <tr>\n",
       "      <th>0</th>\n",
       "      <td>50844</td>\n",
       "      <td>57167</td>\n",
       "      <td>51950</td>\n",
       "      <td>PRETRIAL</td>\n",
       "      <td>Fisher</td>\n",
       "      <td>Kevin</td>\n",
       "      <td>NaN</td>\n",
       "      <td>Male</td>\n",
       "      <td>Caucasian</td>\n",
       "      <td>12/05/92</td>\n",
       "      <td>...</td>\n",
       "      <td>1</td>\n",
       "      <td>Low</td>\n",
       "      <td>7</td>\n",
       "      <td>Risk of Violence</td>\n",
       "      <td>-2.08</td>\n",
       "      <td>4</td>\n",
       "      <td>Low</td>\n",
       "      <td>New</td>\n",
       "      <td>1</td>\n",
       "      <td>0</td>\n",
       "    </tr>\n",
       "    <tr>\n",
       "      <th>1</th>\n",
       "      <td>50844</td>\n",
       "      <td>57167</td>\n",
       "      <td>51950</td>\n",
       "      <td>PRETRIAL</td>\n",
       "      <td>Fisher</td>\n",
       "      <td>Kevin</td>\n",
       "      <td>NaN</td>\n",
       "      <td>Male</td>\n",
       "      <td>Caucasian</td>\n",
       "      <td>12/05/92</td>\n",
       "      <td>...</td>\n",
       "      <td>1</td>\n",
       "      <td>Low</td>\n",
       "      <td>8</td>\n",
       "      <td>Risk of Recidivism</td>\n",
       "      <td>-1.06</td>\n",
       "      <td>2</td>\n",
       "      <td>Low</td>\n",
       "      <td>New</td>\n",
       "      <td>1</td>\n",
       "      <td>0</td>\n",
       "    </tr>\n",
       "    <tr>\n",
       "      <th>2</th>\n",
       "      <td>50844</td>\n",
       "      <td>57167</td>\n",
       "      <td>51950</td>\n",
       "      <td>PRETRIAL</td>\n",
       "      <td>Fisher</td>\n",
       "      <td>Kevin</td>\n",
       "      <td>NaN</td>\n",
       "      <td>Male</td>\n",
       "      <td>Caucasian</td>\n",
       "      <td>12/05/92</td>\n",
       "      <td>...</td>\n",
       "      <td>1</td>\n",
       "      <td>Low</td>\n",
       "      <td>18</td>\n",
       "      <td>Risk of Failure to Appear</td>\n",
       "      <td>15.00</td>\n",
       "      <td>1</td>\n",
       "      <td>Low</td>\n",
       "      <td>New</td>\n",
       "      <td>1</td>\n",
       "      <td>0</td>\n",
       "    </tr>\n",
       "    <tr>\n",
       "      <th>3</th>\n",
       "      <td>50848</td>\n",
       "      <td>57174</td>\n",
       "      <td>51956</td>\n",
       "      <td>PRETRIAL</td>\n",
       "      <td>KENDALL</td>\n",
       "      <td>KEVIN</td>\n",
       "      <td>NaN</td>\n",
       "      <td>Male</td>\n",
       "      <td>Caucasian</td>\n",
       "      <td>09/16/84</td>\n",
       "      <td>...</td>\n",
       "      <td>1</td>\n",
       "      <td>Low</td>\n",
       "      <td>7</td>\n",
       "      <td>Risk of Violence</td>\n",
       "      <td>-2.84</td>\n",
       "      <td>2</td>\n",
       "      <td>Low</td>\n",
       "      <td>New</td>\n",
       "      <td>1</td>\n",
       "      <td>0</td>\n",
       "    </tr>\n",
       "    <tr>\n",
       "      <th>4</th>\n",
       "      <td>50848</td>\n",
       "      <td>57174</td>\n",
       "      <td>51956</td>\n",
       "      <td>PRETRIAL</td>\n",
       "      <td>KENDALL</td>\n",
       "      <td>KEVIN</td>\n",
       "      <td>NaN</td>\n",
       "      <td>Male</td>\n",
       "      <td>Caucasian</td>\n",
       "      <td>09/16/84</td>\n",
       "      <td>...</td>\n",
       "      <td>1</td>\n",
       "      <td>Low</td>\n",
       "      <td>8</td>\n",
       "      <td>Risk of Recidivism</td>\n",
       "      <td>-1.50</td>\n",
       "      <td>1</td>\n",
       "      <td>Low</td>\n",
       "      <td>New</td>\n",
       "      <td>1</td>\n",
       "      <td>0</td>\n",
       "    </tr>\n",
       "  </tbody>\n",
       "</table>\n",
       "<p>5 rows × 28 columns</p>\n",
       "</div>"
      ],
      "text/plain": [
       "   Person_ID  AssessmentID  Case_ID Agency_Text LastName FirstName MiddleName  \\\n",
       "0      50844         57167    51950    PRETRIAL   Fisher     Kevin        NaN   \n",
       "1      50844         57167    51950    PRETRIAL   Fisher     Kevin        NaN   \n",
       "2      50844         57167    51950    PRETRIAL   Fisher     Kevin        NaN   \n",
       "3      50848         57174    51956    PRETRIAL  KENDALL     KEVIN        NaN   \n",
       "4      50848         57174    51956    PRETRIAL  KENDALL     KEVIN        NaN   \n",
       "\n",
       "  Sex_Code_Text Ethnic_Code_Text DateOfBirth  ...  RecSupervisionLevel  \\\n",
       "0          Male        Caucasian    12/05/92  ...                    1   \n",
       "1          Male        Caucasian    12/05/92  ...                    1   \n",
       "2          Male        Caucasian    12/05/92  ...                    1   \n",
       "3          Male        Caucasian    09/16/84  ...                    1   \n",
       "4          Male        Caucasian    09/16/84  ...                    1   \n",
       "\n",
       "  RecSupervisionLevelText Scale_ID                DisplayText RawScore  \\\n",
       "0                     Low        7           Risk of Violence    -2.08   \n",
       "1                     Low        8         Risk of Recidivism    -1.06   \n",
       "2                     Low       18  Risk of Failure to Appear    15.00   \n",
       "3                     Low        7           Risk of Violence    -2.84   \n",
       "4                     Low        8         Risk of Recidivism    -1.50   \n",
       "\n",
       "  DecileScore ScoreText AssessmentType  IsCompleted IsDeleted  \n",
       "0           4       Low            New            1         0  \n",
       "1           2       Low            New            1         0  \n",
       "2           1       Low            New            1         0  \n",
       "3           2       Low            New            1         0  \n",
       "4           1       Low            New            1         0  \n",
       "\n",
       "[5 rows x 28 columns]"
      ]
     },
     "metadata": {},
     "output_type": "display_data"
    }
   ],
   "source": [
    "import pandas as pd\n",
    "\n",
    "file_path = './data/compas-scores-raw.csv'\n",
    "df = pd.read_csv(file_path)\n",
    "display(df.head())"
   ]
  },
  {
   "cell_type": "code",
   "execution_count": 4,
   "metadata": {},
   "outputs": [
    {
     "data": {
      "text/plain": [
       "Person_ID                    int64\n",
       "AssessmentID                 int64\n",
       "Case_ID                      int64\n",
       "Agency_Text                 object\n",
       "LastName                    object\n",
       "FirstName                   object\n",
       "MiddleName                  object\n",
       "Sex_Code_Text               object\n",
       "Ethnic_Code_Text            object\n",
       "DateOfBirth                 object\n",
       "ScaleSet_ID                  int64\n",
       "ScaleSet                    object\n",
       "AssessmentReason            object\n",
       "Language                    object\n",
       "LegalStatus                 object\n",
       "CustodyStatus               object\n",
       "MaritalStatus               object\n",
       "Screening_Date              object\n",
       "RecSupervisionLevel          int64\n",
       "RecSupervisionLevelText     object\n",
       "Scale_ID                     int64\n",
       "DisplayText                 object\n",
       "RawScore                   float64\n",
       "DecileScore                  int64\n",
       "ScoreText                   object\n",
       "AssessmentType              object\n",
       "IsCompleted                  int64\n",
       "IsDeleted                    int64\n",
       "dtype: object"
      ]
     },
     "execution_count": 4,
     "metadata": {},
     "output_type": "execute_result"
    }
   ],
   "source": [
    "df.dtypes"
   ]
  },
  {
   "cell_type": "code",
   "execution_count": 5,
   "metadata": {},
   "outputs": [
    {
     "data": {
      "text/plain": [
       "Index(['Person_ID', 'AssessmentID', 'Case_ID', 'Agency_Text', 'LastName',\n",
       "       'FirstName', 'MiddleName', 'Sex_Code_Text', 'Ethnic_Code_Text',\n",
       "       'DateOfBirth', 'ScaleSet_ID', 'ScaleSet', 'AssessmentReason',\n",
       "       'Language', 'LegalStatus', 'CustodyStatus', 'MaritalStatus',\n",
       "       'Screening_Date', 'RecSupervisionLevel', 'RecSupervisionLevelText',\n",
       "       'Scale_ID', 'DisplayText', 'RawScore', 'DecileScore', 'ScoreText',\n",
       "       'AssessmentType', 'IsCompleted', 'IsDeleted'],\n",
       "      dtype='object')"
      ]
     },
     "execution_count": 5,
     "metadata": {},
     "output_type": "execute_result"
    }
   ],
   "source": [
    "df.columns"
   ]
  },
  {
   "cell_type": "code",
   "execution_count": 28,
   "metadata": {},
   "outputs": [],
   "source": [
    "nominal_features = ['Agency_Text', 'Sex_Code_Text', 'Ethnic_Code_Text', 'AssessmentReason', 'Language', 'LegalStatus', 'CustodyStatus', 'MaritalStatus', 'RecSupervisionLevel']"
   ]
  },
  {
   "cell_type": "markdown",
   "metadata": {},
   "source": [
    "In the following code snippet, we do some small preprocessing. First we drop some redundant and unnecessary attributes. For example IDs that are unique to the person or the case should be ignored, because they do not represent any important information, other than identifying this person. Furthermore, we remove the name from the data, because this not only instantly allows to know, who the records belong to and it isn't important when training a simple model. Futhermore, we convert the date to timestamps and remove all other possible \"target\" attributes"
   ]
  },
  {
   "cell_type": "code",
   "execution_count": 6,
   "metadata": {},
   "outputs": [],
   "source": [
    "import numpy as np\n",
    "columns_to_drop = ['Person_ID', 'AssessmentID', 'Case_ID', 'LastName', 'FirstName', 'MiddleName', 'ScaleSet', 'RecSupervisionLevelText', 'DisplayText', 'RawScore', 'DecileScore', 'AssessmentType', 'IsCompleted', 'IsDeleted'] \n",
    "\n",
    "df = df.drop(columns_to_drop, axis=1)\n",
    "df['DateOfBirth'] = pd.to_datetime(df['DateOfBirth']).astype(int) // 10**9  # Convert to Unix timestamp\n",
    "df['Screening_Date'] = pd.to_datetime(df['Screening_Date']).astype(int) // 10**9  # Convert to Unix timestamp\n",
    "\n",
    "df = df.dropna(subset=['ScoreText'])"
   ]
  },
  {
   "cell_type": "code",
   "execution_count": 7,
   "metadata": {},
   "outputs": [],
   "source": [
    "from sklearn.model_selection import train_test_split\n",
    "\n",
    "df_train, df_test = train_test_split(df, test_size=0.2, random_state=random_state)"
   ]
  },
  {
   "cell_type": "code",
   "execution_count": 8,
   "metadata": {},
   "outputs": [],
   "source": [
    "import numpy as np\n",
    "# Replace '?' with NaN, if necessary (check those special characters)\n",
    "df_train.replace('NaN', np.nan, inplace=True)\n",
    "df_test.replace('NaN', np.nan, inplace=True)"
   ]
  },
  {
   "cell_type": "markdown",
   "metadata": {},
   "source": [
    "## Baseline Classifier"
   ]
  },
  {
   "cell_type": "code",
   "execution_count": 133,
   "metadata": {},
   "outputs": [],
   "source": [
    "def split_data(df_train, df_test):\n",
    "    X_train = df_train.drop('ScoreText', axis=1)\n",
    "    X_train = pd.get_dummies(X_train, columns=nominal_features)\n",
    "    y_train = df_train['ScoreText']\n",
    "\n",
    "    X_test = df_test.drop('ScoreText', axis=1)\n",
    "    X_test = pd.get_dummies(X_test, columns=nominal_features)\n",
    "    y_test = df_test['ScoreText']\n",
    "    \n",
    "    return X_train, y_train, X_test, y_test"
   ]
  },
  {
   "cell_type": "code",
   "execution_count": 134,
   "metadata": {},
   "outputs": [],
   "source": [
    "from sklearn.metrics import accuracy_score\n",
    "\n",
    "def train_and_evaluate(clf, df_train, df_test, remove_diff_cols=False):\n",
    "    X_train, y_train, X_test, y_test = split_data(df_train, df_test)\n",
    "    if remove_diff_cols:\n",
    "        # Remove columns that are not in the train set\n",
    "        X_test = X_test[X_train.columns]\n",
    "\n",
    "    clf.fit(X_train, y_train)\n",
    "    y_pred = clf.predict(X_test)\n",
    "    accuracy = accuracy_score(y_test, y_pred)\n",
    "    print(f\"Accuracy: {accuracy:0.2f}%\")\n"
   ]
  },
  {
   "cell_type": "code",
   "execution_count": 33,
   "metadata": {},
   "outputs": [
    {
     "name": "stdout",
     "output_type": "stream",
     "text": [
      "Accuracy: 0.8449013157894737%\n"
     ]
    }
   ],
   "source": [
    "from sklearn.ensemble import RandomForestClassifier\n",
    "\n",
    "clf = RandomForestClassifier(n_estimators=250, max_depth=15, random_state=random_state)\n",
    "train_and_evaluate(clf, df_train, df_test)"
   ]
  },
  {
   "cell_type": "markdown",
   "metadata": {},
   "source": [
    "## Data synthetization"
   ]
  },
  {
   "cell_type": "markdown",
   "metadata": {},
   "source": [
    "### Metadata"
   ]
  },
  {
   "cell_type": "code",
   "execution_count": 34,
   "metadata": {},
   "outputs": [],
   "source": [
    "from sdv.metadata import SingleTableMetadata\n",
    "\n",
    "metadata = SingleTableMetadata()\n",
    "metadata.detect_from_dataframe(df_train)\n",
    "\n",
    "metadata.visualize(\n",
    "    show_table_details='summarized',\n",
    "    output_filepath='my_metadata.png'\n",
    ")\n",
    "metadata.validate_data(data=df_train)"
   ]
  },
  {
   "cell_type": "markdown",
   "metadata": {},
   "source": [
    "### GaussianCopulaSynthesizer"
   ]
  },
  {
   "cell_type": "code",
   "execution_count": 35,
   "metadata": {},
   "outputs": [
    {
     "name": "stderr",
     "output_type": "stream",
     "text": [
      "/Users/maxkleinegger/miniconda3/lib/python3.9/site-packages/sdv/single_table/base.py:82: UserWarning:\n",
      "\n",
      "We strongly recommend saving the metadata using 'save_to_json' for replicability in future SDV versions.\n",
      "\n"
     ]
    }
   ],
   "source": [
    "from sdv.single_table import GaussianCopulaSynthesizer\n",
    "\n",
    "synthesizer = GaussianCopulaSynthesizer(metadata)\n",
    "synthesizer.fit(df_train)\n",
    "synthetic_data = synthesizer.sample(num_rows=len(df_train))"
   ]
  },
  {
   "cell_type": "code",
   "execution_count": null,
   "metadata": {},
   "outputs": [
    {
     "data": {
      "text/html": [
       "<div>\n",
       "<style scoped>\n",
       "    .dataframe tbody tr th:only-of-type {\n",
       "        vertical-align: middle;\n",
       "    }\n",
       "\n",
       "    .dataframe tbody tr th {\n",
       "        vertical-align: top;\n",
       "    }\n",
       "\n",
       "    .dataframe thead th {\n",
       "        text-align: right;\n",
       "    }\n",
       "</style>\n",
       "<table border=\"1\" class=\"dataframe\">\n",
       "  <thead>\n",
       "    <tr style=\"text-align: right;\">\n",
       "      <th></th>\n",
       "      <th>Agency_Text</th>\n",
       "      <th>Sex_Code_Text</th>\n",
       "      <th>Ethnic_Code_Text</th>\n",
       "      <th>DateOfBirth</th>\n",
       "      <th>ScaleSet_ID</th>\n",
       "      <th>AssessmentReason</th>\n",
       "      <th>Language</th>\n",
       "      <th>LegalStatus</th>\n",
       "      <th>CustodyStatus</th>\n",
       "      <th>MaritalStatus</th>\n",
       "      <th>Screening_Date</th>\n",
       "      <th>RecSupervisionLevel</th>\n",
       "      <th>Scale_ID</th>\n",
       "      <th>ScoreText</th>\n",
       "    </tr>\n",
       "  </thead>\n",
       "  <tbody>\n",
       "    <tr>\n",
       "      <th>0</th>\n",
       "      <td>PRETRIAL</td>\n",
       "      <td>Female</td>\n",
       "      <td>Caucasian</td>\n",
       "      <td>3087591231</td>\n",
       "      <td>22</td>\n",
       "      <td>Intake</td>\n",
       "      <td>English</td>\n",
       "      <td>Pretrial</td>\n",
       "      <td>Pretrial Defendant</td>\n",
       "      <td>Married</td>\n",
       "      <td>1367421196</td>\n",
       "      <td>1</td>\n",
       "      <td>7</td>\n",
       "      <td>Low</td>\n",
       "    </tr>\n",
       "    <tr>\n",
       "      <th>1</th>\n",
       "      <td>Probation</td>\n",
       "      <td>Male</td>\n",
       "      <td>Native American</td>\n",
       "      <td>512573810</td>\n",
       "      <td>22</td>\n",
       "      <td>Intake</td>\n",
       "      <td>English</td>\n",
       "      <td>Other</td>\n",
       "      <td>Probation</td>\n",
       "      <td>Single</td>\n",
       "      <td>1365116352</td>\n",
       "      <td>1</td>\n",
       "      <td>7</td>\n",
       "      <td>Low</td>\n",
       "    </tr>\n",
       "    <tr>\n",
       "      <th>2</th>\n",
       "      <td>DRRD</td>\n",
       "      <td>Male</td>\n",
       "      <td>African-American</td>\n",
       "      <td>574738297</td>\n",
       "      <td>17</td>\n",
       "      <td>Intake</td>\n",
       "      <td>English</td>\n",
       "      <td>Post Sentence</td>\n",
       "      <td>Probation</td>\n",
       "      <td>Single</td>\n",
       "      <td>1375433376</td>\n",
       "      <td>3</td>\n",
       "      <td>18</td>\n",
       "      <td>High</td>\n",
       "    </tr>\n",
       "    <tr>\n",
       "      <th>3</th>\n",
       "      <td>PRETRIAL</td>\n",
       "      <td>Male</td>\n",
       "      <td>Hispanic</td>\n",
       "      <td>507498928</td>\n",
       "      <td>22</td>\n",
       "      <td>Intake</td>\n",
       "      <td>English</td>\n",
       "      <td>Pretrial</td>\n",
       "      <td>Pretrial Defendant</td>\n",
       "      <td>Divorced</td>\n",
       "      <td>1380907287</td>\n",
       "      <td>1</td>\n",
       "      <td>8</td>\n",
       "      <td>Low</td>\n",
       "    </tr>\n",
       "    <tr>\n",
       "      <th>4</th>\n",
       "      <td>PRETRIAL</td>\n",
       "      <td>Male</td>\n",
       "      <td>African-American</td>\n",
       "      <td>572225354</td>\n",
       "      <td>22</td>\n",
       "      <td>Intake</td>\n",
       "      <td>English</td>\n",
       "      <td>Pretrial</td>\n",
       "      <td>Jail Inmate</td>\n",
       "      <td>Unknown</td>\n",
       "      <td>1416249008</td>\n",
       "      <td>1</td>\n",
       "      <td>8</td>\n",
       "      <td>Low</td>\n",
       "    </tr>\n",
       "  </tbody>\n",
       "</table>\n",
       "</div>"
      ],
      "text/plain": [
       "  Agency_Text Sex_Code_Text  Ethnic_Code_Text  DateOfBirth  ScaleSet_ID  \\\n",
       "0    PRETRIAL        Female         Caucasian   3087591231           22   \n",
       "1   Probation          Male   Native American    512573810           22   \n",
       "2        DRRD          Male  African-American    574738297           17   \n",
       "3    PRETRIAL          Male          Hispanic    507498928           22   \n",
       "4    PRETRIAL          Male  African-American    572225354           22   \n",
       "\n",
       "  AssessmentReason Language    LegalStatus       CustodyStatus MaritalStatus  \\\n",
       "0           Intake  English       Pretrial  Pretrial Defendant       Married   \n",
       "1           Intake  English          Other           Probation        Single   \n",
       "2           Intake  English  Post Sentence           Probation        Single   \n",
       "3           Intake  English       Pretrial  Pretrial Defendant      Divorced   \n",
       "4           Intake  English       Pretrial         Jail Inmate       Unknown   \n",
       "\n",
       "   Screening_Date  RecSupervisionLevel  Scale_ID ScoreText  \n",
       "0      1367421196                    1         7       Low  \n",
       "1      1365116352                    1         7       Low  \n",
       "2      1375433376                    3        18      High  \n",
       "3      1380907287                    1         8       Low  \n",
       "4      1416249008                    1         8       Low  "
      ]
     },
     "metadata": {},
     "output_type": "display_data"
    }
   ],
   "source": [
    "display(synthetic_data.head())"
   ]
  },
  {
   "cell_type": "markdown",
   "metadata": {},
   "source": [
    "#### Classifier"
   ]
  },
  {
   "cell_type": "code",
   "execution_count": 36,
   "metadata": {},
   "outputs": [
    {
     "name": "stdout",
     "output_type": "stream",
     "text": [
      "Accuracy: 0.6847861842105263%\n"
     ]
    }
   ],
   "source": [
    "clf = RandomForestClassifier(n_estimators=250, max_depth=15, random_state=random_state)\n",
    "train_and_evaluate(clf, synthetic_data, df_test)"
   ]
  },
  {
   "cell_type": "markdown",
   "metadata": {},
   "source": [
    "### CTGANSynthesizer"
   ]
  },
  {
   "cell_type": "code",
   "execution_count": 58,
   "metadata": {},
   "outputs": [
    {
     "name": "stderr",
     "output_type": "stream",
     "text": [
      "Gen. (-1.76) | Discrim. (-0.24): 100%|██████████| 200/200 [10:11<00:00,  3.06s/it]\n"
     ]
    }
   ],
   "source": [
    "from sdv.single_table import CTGANSynthesizer\n",
    "\n",
    "synthesizer_ctgan = CTGANSynthesizer(metadata, epochs=200, verbose=True)\n",
    "synthesizer_ctgan.fit(df_train)\n",
    "\n",
    "synthetic_data_ctgan = synthesizer_ctgan.sample(num_rows=len(df_train))"
   ]
  },
  {
   "cell_type": "code",
   "execution_count": 59,
   "metadata": {},
   "outputs": [
    {
     "data": {
      "text/html": [
       "<div>\n",
       "<style scoped>\n",
       "    .dataframe tbody tr th:only-of-type {\n",
       "        vertical-align: middle;\n",
       "    }\n",
       "\n",
       "    .dataframe tbody tr th {\n",
       "        vertical-align: top;\n",
       "    }\n",
       "\n",
       "    .dataframe thead th {\n",
       "        text-align: right;\n",
       "    }\n",
       "</style>\n",
       "<table border=\"1\" class=\"dataframe\">\n",
       "  <thead>\n",
       "    <tr style=\"text-align: right;\">\n",
       "      <th></th>\n",
       "      <th>Agency_Text</th>\n",
       "      <th>Sex_Code_Text</th>\n",
       "      <th>Ethnic_Code_Text</th>\n",
       "      <th>DateOfBirth</th>\n",
       "      <th>ScaleSet_ID</th>\n",
       "      <th>AssessmentReason</th>\n",
       "      <th>Language</th>\n",
       "      <th>LegalStatus</th>\n",
       "      <th>CustodyStatus</th>\n",
       "      <th>MaritalStatus</th>\n",
       "      <th>Screening_Date</th>\n",
       "      <th>RecSupervisionLevel</th>\n",
       "      <th>Scale_ID</th>\n",
       "      <th>ScoreText</th>\n",
       "    </tr>\n",
       "  </thead>\n",
       "  <tbody>\n",
       "    <tr>\n",
       "      <th>0</th>\n",
       "      <td>PRETRIAL</td>\n",
       "      <td>Male</td>\n",
       "      <td>African-American</td>\n",
       "      <td>3083589624</td>\n",
       "      <td>22</td>\n",
       "      <td>Intake</td>\n",
       "      <td>English</td>\n",
       "      <td>Pretrial</td>\n",
       "      <td>Probation</td>\n",
       "      <td>Married</td>\n",
       "      <td>1369844811</td>\n",
       "      <td>1</td>\n",
       "      <td>7</td>\n",
       "      <td>Low</td>\n",
       "    </tr>\n",
       "    <tr>\n",
       "      <th>1</th>\n",
       "      <td>PRETRIAL</td>\n",
       "      <td>Male</td>\n",
       "      <td>Native American</td>\n",
       "      <td>3120306771</td>\n",
       "      <td>22</td>\n",
       "      <td>Intake</td>\n",
       "      <td>English</td>\n",
       "      <td>Pretrial</td>\n",
       "      <td>Pretrial Defendant</td>\n",
       "      <td>Married</td>\n",
       "      <td>1362471562</td>\n",
       "      <td>1</td>\n",
       "      <td>18</td>\n",
       "      <td>Low</td>\n",
       "    </tr>\n",
       "    <tr>\n",
       "      <th>2</th>\n",
       "      <td>Probation</td>\n",
       "      <td>Male</td>\n",
       "      <td>Caucasian</td>\n",
       "      <td>692416916</td>\n",
       "      <td>22</td>\n",
       "      <td>Intake</td>\n",
       "      <td>English</td>\n",
       "      <td>Post Sentence</td>\n",
       "      <td>Probation</td>\n",
       "      <td>Married</td>\n",
       "      <td>1377745723</td>\n",
       "      <td>3</td>\n",
       "      <td>8</td>\n",
       "      <td>Medium</td>\n",
       "    </tr>\n",
       "    <tr>\n",
       "      <th>3</th>\n",
       "      <td>PRETRIAL</td>\n",
       "      <td>Male</td>\n",
       "      <td>African-American</td>\n",
       "      <td>622767518</td>\n",
       "      <td>22</td>\n",
       "      <td>Intake</td>\n",
       "      <td>English</td>\n",
       "      <td>Pretrial</td>\n",
       "      <td>Pretrial Defendant</td>\n",
       "      <td>Married</td>\n",
       "      <td>1370277698</td>\n",
       "      <td>1</td>\n",
       "      <td>7</td>\n",
       "      <td>Low</td>\n",
       "    </tr>\n",
       "    <tr>\n",
       "      <th>4</th>\n",
       "      <td>PRETRIAL</td>\n",
       "      <td>Male</td>\n",
       "      <td>African-American</td>\n",
       "      <td>3034402793</td>\n",
       "      <td>22</td>\n",
       "      <td>Intake</td>\n",
       "      <td>English</td>\n",
       "      <td>Pretrial</td>\n",
       "      <td>Jail Inmate</td>\n",
       "      <td>Unknown</td>\n",
       "      <td>1416264499</td>\n",
       "      <td>1</td>\n",
       "      <td>18</td>\n",
       "      <td>Low</td>\n",
       "    </tr>\n",
       "  </tbody>\n",
       "</table>\n",
       "</div>"
      ],
      "text/plain": [
       "  Agency_Text Sex_Code_Text  Ethnic_Code_Text  DateOfBirth  ScaleSet_ID  \\\n",
       "0    PRETRIAL          Male  African-American   3083589624           22   \n",
       "1    PRETRIAL          Male   Native American   3120306771           22   \n",
       "2   Probation          Male         Caucasian    692416916           22   \n",
       "3    PRETRIAL          Male  African-American    622767518           22   \n",
       "4    PRETRIAL          Male  African-American   3034402793           22   \n",
       "\n",
       "  AssessmentReason Language    LegalStatus       CustodyStatus MaritalStatus  \\\n",
       "0           Intake  English       Pretrial           Probation       Married   \n",
       "1           Intake  English       Pretrial  Pretrial Defendant       Married   \n",
       "2           Intake  English  Post Sentence           Probation       Married   \n",
       "3           Intake  English       Pretrial  Pretrial Defendant       Married   \n",
       "4           Intake  English       Pretrial         Jail Inmate       Unknown   \n",
       "\n",
       "   Screening_Date  RecSupervisionLevel  Scale_ID ScoreText  \n",
       "0      1369844811                    1         7       Low  \n",
       "1      1362471562                    1        18       Low  \n",
       "2      1377745723                    3         8    Medium  \n",
       "3      1370277698                    1         7       Low  \n",
       "4      1416264499                    1        18       Low  "
      ]
     },
     "metadata": {},
     "output_type": "display_data"
    }
   ],
   "source": [
    "display(synthetic_data_ctgan.head())"
   ]
  },
  {
   "cell_type": "markdown",
   "metadata": {},
   "source": [
    "#### Classifier"
   ]
  },
  {
   "cell_type": "code",
   "execution_count": 60,
   "metadata": {},
   "outputs": [
    {
     "name": "stdout",
     "output_type": "stream",
     "text": [
      "Accuracy: 0.7552631578947369%\n"
     ]
    }
   ],
   "source": [
    "clf = RandomForestClassifier(n_estimators=250, max_depth=15, random_state=random_state)\n",
    "train_and_evaluate(clf, synthetic_data_ctgan, df_test)"
   ]
  },
  {
   "cell_type": "markdown",
   "metadata": {},
   "source": [
    "### CopulaGANSynthesizer"
   ]
  },
  {
   "cell_type": "code",
   "execution_count": 61,
   "metadata": {},
   "outputs": [
    {
     "name": "stderr",
     "output_type": "stream",
     "text": [
      "Gen. (-1.31) | Discrim. (-0.18): 100%|██████████| 200/200 [12:11<00:00,  3.66s/it]\n"
     ]
    }
   ],
   "source": [
    "from sdv.single_table import CopulaGANSynthesizer\n",
    "\n",
    "synthesizer_tvae = CopulaGANSynthesizer(metadata, epochs=200, verbose=True)\n",
    "synthesizer_tvae.fit(df_train)\n",
    "\n",
    "synthetic_data_tvae = synthesizer_tvae.sample(num_rows=len(df_train))"
   ]
  },
  {
   "cell_type": "code",
   "execution_count": 62,
   "metadata": {},
   "outputs": [
    {
     "data": {
      "text/html": [
       "<div>\n",
       "<style scoped>\n",
       "    .dataframe tbody tr th:only-of-type {\n",
       "        vertical-align: middle;\n",
       "    }\n",
       "\n",
       "    .dataframe tbody tr th {\n",
       "        vertical-align: top;\n",
       "    }\n",
       "\n",
       "    .dataframe thead th {\n",
       "        text-align: right;\n",
       "    }\n",
       "</style>\n",
       "<table border=\"1\" class=\"dataframe\">\n",
       "  <thead>\n",
       "    <tr style=\"text-align: right;\">\n",
       "      <th></th>\n",
       "      <th>Agency_Text</th>\n",
       "      <th>Sex_Code_Text</th>\n",
       "      <th>Ethnic_Code_Text</th>\n",
       "      <th>DateOfBirth</th>\n",
       "      <th>ScaleSet_ID</th>\n",
       "      <th>AssessmentReason</th>\n",
       "      <th>Language</th>\n",
       "      <th>LegalStatus</th>\n",
       "      <th>CustodyStatus</th>\n",
       "      <th>MaritalStatus</th>\n",
       "      <th>Screening_Date</th>\n",
       "      <th>RecSupervisionLevel</th>\n",
       "      <th>Scale_ID</th>\n",
       "      <th>ScoreText</th>\n",
       "    </tr>\n",
       "  </thead>\n",
       "  <tbody>\n",
       "    <tr>\n",
       "      <th>0</th>\n",
       "      <td>Probation</td>\n",
       "      <td>Male</td>\n",
       "      <td>Caucasian</td>\n",
       "      <td>2799653771</td>\n",
       "      <td>22</td>\n",
       "      <td>Intake</td>\n",
       "      <td>English</td>\n",
       "      <td>Post Sentence</td>\n",
       "      <td>Probation</td>\n",
       "      <td>Married</td>\n",
       "      <td>1357019144</td>\n",
       "      <td>1</td>\n",
       "      <td>7</td>\n",
       "      <td>Low</td>\n",
       "    </tr>\n",
       "    <tr>\n",
       "      <th>1</th>\n",
       "      <td>PRETRIAL</td>\n",
       "      <td>Female</td>\n",
       "      <td>Native American</td>\n",
       "      <td>451822190</td>\n",
       "      <td>22</td>\n",
       "      <td>Intake</td>\n",
       "      <td>English</td>\n",
       "      <td>Pretrial</td>\n",
       "      <td>Pretrial Defendant</td>\n",
       "      <td>Single</td>\n",
       "      <td>1387839313</td>\n",
       "      <td>1</td>\n",
       "      <td>18</td>\n",
       "      <td>Low</td>\n",
       "    </tr>\n",
       "    <tr>\n",
       "      <th>2</th>\n",
       "      <td>Probation</td>\n",
       "      <td>Female</td>\n",
       "      <td>Caucasian</td>\n",
       "      <td>827719971</td>\n",
       "      <td>22</td>\n",
       "      <td>Intake</td>\n",
       "      <td>English</td>\n",
       "      <td>Post Sentence</td>\n",
       "      <td>Probation</td>\n",
       "      <td>Single</td>\n",
       "      <td>1406086151</td>\n",
       "      <td>1</td>\n",
       "      <td>8</td>\n",
       "      <td>Low</td>\n",
       "    </tr>\n",
       "    <tr>\n",
       "      <th>3</th>\n",
       "      <td>PRETRIAL</td>\n",
       "      <td>Male</td>\n",
       "      <td>Hispanic</td>\n",
       "      <td>596773614</td>\n",
       "      <td>22</td>\n",
       "      <td>Intake</td>\n",
       "      <td>English</td>\n",
       "      <td>Pretrial</td>\n",
       "      <td>Jail Inmate</td>\n",
       "      <td>Divorced</td>\n",
       "      <td>1410770343</td>\n",
       "      <td>1</td>\n",
       "      <td>8</td>\n",
       "      <td>Medium</td>\n",
       "    </tr>\n",
       "    <tr>\n",
       "      <th>4</th>\n",
       "      <td>PRETRIAL</td>\n",
       "      <td>Male</td>\n",
       "      <td>Hispanic</td>\n",
       "      <td>2781048197</td>\n",
       "      <td>22</td>\n",
       "      <td>Intake</td>\n",
       "      <td>English</td>\n",
       "      <td>Pretrial</td>\n",
       "      <td>Jail Inmate</td>\n",
       "      <td>Unknown</td>\n",
       "      <td>1398808805</td>\n",
       "      <td>1</td>\n",
       "      <td>18</td>\n",
       "      <td>Low</td>\n",
       "    </tr>\n",
       "  </tbody>\n",
       "</table>\n",
       "</div>"
      ],
      "text/plain": [
       "  Agency_Text Sex_Code_Text Ethnic_Code_Text  DateOfBirth  ScaleSet_ID  \\\n",
       "0   Probation          Male        Caucasian   2799653771           22   \n",
       "1    PRETRIAL        Female  Native American    451822190           22   \n",
       "2   Probation        Female        Caucasian    827719971           22   \n",
       "3    PRETRIAL          Male         Hispanic    596773614           22   \n",
       "4    PRETRIAL          Male         Hispanic   2781048197           22   \n",
       "\n",
       "  AssessmentReason Language    LegalStatus       CustodyStatus MaritalStatus  \\\n",
       "0           Intake  English  Post Sentence           Probation       Married   \n",
       "1           Intake  English       Pretrial  Pretrial Defendant        Single   \n",
       "2           Intake  English  Post Sentence           Probation        Single   \n",
       "3           Intake  English       Pretrial         Jail Inmate      Divorced   \n",
       "4           Intake  English       Pretrial         Jail Inmate       Unknown   \n",
       "\n",
       "   Screening_Date  RecSupervisionLevel  Scale_ID ScoreText  \n",
       "0      1357019144                    1         7       Low  \n",
       "1      1387839313                    1        18       Low  \n",
       "2      1406086151                    1         8       Low  \n",
       "3      1410770343                    1         8    Medium  \n",
       "4      1398808805                    1        18       Low  "
      ]
     },
     "metadata": {},
     "output_type": "display_data"
    }
   ],
   "source": [
    "display(synthetic_data_tvae.head())"
   ]
  },
  {
   "cell_type": "markdown",
   "metadata": {},
   "source": [
    "#### Classifier"
   ]
  },
  {
   "cell_type": "code",
   "execution_count": 63,
   "metadata": {},
   "outputs": [
    {
     "name": "stdout",
     "output_type": "stream",
     "text": [
      "Accuracy: 0.7770559210526315%\n"
     ]
    }
   ],
   "source": [
    "clf = RandomForestClassifier(n_estimators=250, max_depth=15, random_state=random_state)\n",
    "train_and_evaluate(clf, synthetic_data_tvae, df_test)"
   ]
  },
  {
   "cell_type": "markdown",
   "metadata": {},
   "source": [
    "### DataSynthesizer (correlated attribute mode)"
   ]
  },
  {
   "cell_type": "code",
   "execution_count": 66,
   "metadata": {},
   "outputs": [],
   "source": [
    "from DataSynthesizer.DataDescriber import DataDescriber\n",
    "from DataSynthesizer.DataGenerator import DataGenerator\n",
    "from DataSynthesizer.ModelInspector import ModelInspector\n",
    "from DataSynthesizer.lib.utils import read_json_file, display_bayesian_network\n",
    "\n",
    "import pandas as pd"
   ]
  },
  {
   "cell_type": "code",
   "execution_count": 99,
   "metadata": {},
   "outputs": [],
   "source": [
    "file_path_preprocessed = './data/preprocessed_data.csv'\n",
    "# location of two output files\n",
    "mode = 'correlated_attribute_mode'\n",
    "description_file = f'./out/{mode}/description.json'\n",
    "synthetic_data = f'./out/{mode}/sythetic_data.csv'"
   ]
  },
  {
   "cell_type": "code",
   "execution_count": 72,
   "metadata": {},
   "outputs": [],
   "source": [
    "threshold_value = 10\n",
    "\n",
    "categorical_attributes = { col: True for col in df_train.columns if df_train[col].value_counts().shape[0] < threshold_value }\n",
    "\n",
    "candidate_keys = {}\n",
    "epsilon = 1\n",
    "\n",
    "degree_of_bayesian_network = 2\n",
    "\n",
    "num_tuples_to_generate = len(df_train) "
   ]
  },
  {
   "cell_type": "code",
   "execution_count": 73,
   "metadata": {},
   "outputs": [],
   "source": [
    "df_train.to_csv(file_path_preprocessed, index=False)"
   ]
  },
  {
   "cell_type": "code",
   "execution_count": 74,
   "metadata": {},
   "outputs": [
    {
     "name": "stdout",
     "output_type": "stream",
     "text": [
      "================ Constructing Bayesian Network (BN) ================\n",
      "Adding ROOT ScoreText\n",
      "Adding attribute RecSupervisionLevel\n",
      "Adding attribute Scale_ID\n",
      "Adding attribute DateOfBirth\n",
      "Adding attribute MaritalStatus\n",
      "Adding attribute Ethnic_Code_Text\n",
      "Adding attribute LegalStatus\n",
      "Adding attribute CustodyStatus\n",
      "Adding attribute Agency_Text\n",
      "Adding attribute Screening_Date\n",
      "Adding attribute ScaleSet_ID\n",
      "Adding attribute Language\n",
      "Adding attribute Sex_Code_Text\n",
      "Adding attribute AssessmentReason\n",
      "========================== BN constructed ==========================\n"
     ]
    }
   ],
   "source": [
    "describer = DataDescriber(category_threshold=threshold_value)\n",
    "describer.describe_dataset_in_correlated_attribute_mode(dataset_file=file_path_preprocessed, \n",
    "                                                        epsilon=epsilon, \n",
    "                                                        k=degree_of_bayesian_network,\n",
    "                                                        attribute_to_is_categorical=categorical_attributes,\n",
    "                                                        attribute_to_is_candidate_key=candidate_keys)\n",
    "describer.save_dataset_description_to_file(description_file)"
   ]
  },
  {
   "cell_type": "code",
   "execution_count": 75,
   "metadata": {},
   "outputs": [
    {
     "name": "stdout",
     "output_type": "stream",
     "text": [
      "Constructed Bayesian network:\n",
      "    RecSupervisionLevel has parents ['ScoreText'].\n",
      "    Scale_ID            has parents ['RecSupervisionLevel', 'ScoreText'].\n",
      "    DateOfBirth         has parents ['Scale_ID', 'ScoreText'].\n",
      "    MaritalStatus       has parents ['DateOfBirth', 'RecSupervisionLevel'].\n",
      "    Ethnic_Code_Text    has parents ['MaritalStatus', 'RecSupervisionLevel'].\n",
      "    LegalStatus         has parents ['Ethnic_Code_Text', 'DateOfBirth'].\n",
      "    CustodyStatus       has parents ['LegalStatus', 'Scale_ID'].\n",
      "    Agency_Text         has parents ['CustodyStatus', 'Ethnic_Code_Text'].\n",
      "    Screening_Date      has parents ['CustodyStatus', 'Ethnic_Code_Text'].\n",
      "    ScaleSet_ID         has parents ['CustodyStatus', 'Scale_ID'].\n",
      "    Language            has parents ['Screening_Date', 'Scale_ID'].\n",
      "    Sex_Code_Text       has parents ['ScaleSet_ID', 'CustodyStatus'].\n",
      "    AssessmentReason    has parents ['CustodyStatus', 'MaritalStatus'].\n"
     ]
    }
   ],
   "source": [
    "display_bayesian_network(describer.bayesian_network)"
   ]
  },
  {
   "cell_type": "code",
   "execution_count": 76,
   "metadata": {},
   "outputs": [],
   "source": [
    "generator = DataGenerator()\n",
    "generator.generate_dataset_in_correlated_attribute_mode(num_tuples_to_generate, description_file)\n",
    "generator.save_synthetic_data(synthetic_data)"
   ]
  },
  {
   "cell_type": "code",
   "execution_count": 100,
   "metadata": {},
   "outputs": [],
   "source": [
    "synthetic_df = pd.read_csv(synthetic_data)\n",
    "attribute_description = read_json_file(description_file)['attribute_description']"
   ]
  },
  {
   "cell_type": "markdown",
   "metadata": {},
   "source": [
    "#### Classifier"
   ]
  },
  {
   "cell_type": "code",
   "execution_count": 101,
   "metadata": {},
   "outputs": [
    {
     "name": "stdout",
     "output_type": "stream",
     "text": [
      "Accuracy: 0.84%\n"
     ]
    }
   ],
   "source": [
    "clf = RandomForestClassifier(n_estimators=250, max_depth=15, random_state=random_state)\n",
    "train_and_evaluate(clf, synthetic_df, df_test)"
   ]
  },
  {
   "cell_type": "markdown",
   "metadata": {},
   "source": [
    "### DataSynthesizer (independent attribute mode)"
   ]
  },
  {
   "cell_type": "code",
   "execution_count": 79,
   "metadata": {},
   "outputs": [],
   "source": [
    "from DataSynthesizer.DataDescriber import DataDescriber\n",
    "from DataSynthesizer.DataGenerator import DataGenerator\n",
    "from DataSynthesizer.ModelInspector import ModelInspector\n",
    "from DataSynthesizer.lib.utils import read_json_file, display_bayesian_network\n",
    "\n",
    "import pandas as pd"
   ]
  },
  {
   "cell_type": "code",
   "execution_count": 106,
   "metadata": {},
   "outputs": [],
   "source": [
    "file_path_preprocessed = './data/preprocessed_data.csv'\n",
    "\n",
    "mode = 'independent_attribute_mode'\n",
    "description_file = f'./out/{mode}/description.json'\n",
    "synthetic_data = f'./out/{mode}/sythetic_data.csv'"
   ]
  },
  {
   "cell_type": "code",
   "execution_count": 127,
   "metadata": {},
   "outputs": [],
   "source": [
    "threshold_value = 15\n",
    "\n",
    "categorical_attributes = { col: True for col in df_train.columns if df_train[col].value_counts().shape[0] < threshold_value }\n",
    "\n",
    "candidate_keys = {}\n",
    "\n",
    "num_tuples_to_generate = len(df_train)"
   ]
  },
  {
   "cell_type": "code",
   "execution_count": 128,
   "metadata": {},
   "outputs": [],
   "source": [
    "df_train.to_csv(file_path_preprocessed, index=False)"
   ]
  },
  {
   "cell_type": "code",
   "execution_count": 129,
   "metadata": {},
   "outputs": [],
   "source": [
    "describer = DataDescriber(category_threshold=threshold_value)\n",
    "describer.describe_dataset_in_independent_attribute_mode(dataset_file=file_path_preprocessed,\n",
    "                                                         attribute_to_is_categorical=categorical_attributes,\n",
    "                                                         attribute_to_is_candidate_key=candidate_keys)\n",
    "describer.save_dataset_description_to_file(description_file)"
   ]
  },
  {
   "cell_type": "code",
   "execution_count": 130,
   "metadata": {},
   "outputs": [],
   "source": [
    "generator = DataGenerator()\n",
    "generator.generate_dataset_in_independent_mode(num_tuples_to_generate, description_file)\n",
    "generator.save_synthetic_data(synthetic_data)"
   ]
  },
  {
   "cell_type": "code",
   "execution_count": 131,
   "metadata": {},
   "outputs": [],
   "source": [
    "synthetic_df = pd.read_csv(synthetic_data)\n",
    "attribute_description = read_json_file(description_file)['attribute_description']"
   ]
  },
  {
   "cell_type": "markdown",
   "metadata": {},
   "source": [
    "#### Classifier"
   ]
  },
  {
   "cell_type": "code",
   "execution_count": 135,
   "metadata": {},
   "outputs": [
    {
     "ename": "ValueError",
     "evalue": "The feature names should match those that were passed during fit.\nFeature names unseen at fit time:\n- CustodyStatus_Residential Program\n- Ethnic_Code_Text_African-Am\n- Ethnic_Code_Text_Native American\n- Ethnic_Code_Text_Oriental\n- Language_Spanish\n- ...\n",
     "output_type": "error",
     "traceback": [
      "\u001b[0;31m---------------------------------------------------------------------------\u001b[0m",
      "\u001b[0;31mValueError\u001b[0m                                Traceback (most recent call last)",
      "Cell \u001b[0;32mIn[135], line 2\u001b[0m\n\u001b[1;32m      1\u001b[0m clf \u001b[38;5;241m=\u001b[39m RandomForestClassifier(n_estimators\u001b[38;5;241m=\u001b[39m\u001b[38;5;241m250\u001b[39m, max_depth\u001b[38;5;241m=\u001b[39m\u001b[38;5;241m15\u001b[39m, random_state\u001b[38;5;241m=\u001b[39mrandom_state)\n\u001b[0;32m----> 2\u001b[0m \u001b[43mtrain_and_evaluate\u001b[49m\u001b[43m(\u001b[49m\u001b[43mclf\u001b[49m\u001b[43m,\u001b[49m\u001b[43m \u001b[49m\u001b[43msynthetic_df\u001b[49m\u001b[43m,\u001b[49m\u001b[43m \u001b[49m\u001b[43mdf_test\u001b[49m\u001b[43m,\u001b[49m\u001b[43m \u001b[49m\u001b[43mremove_diff_cols\u001b[49m\u001b[38;5;241;43m=\u001b[39;49m\u001b[38;5;28;43;01mFalse\u001b[39;49;00m\u001b[43m)\u001b[49m\n",
      "Cell \u001b[0;32mIn[134], line 10\u001b[0m, in \u001b[0;36mtrain_and_evaluate\u001b[0;34m(clf, df_train, df_test, remove_diff_cols)\u001b[0m\n\u001b[1;32m      7\u001b[0m     X_test \u001b[38;5;241m=\u001b[39m X_test[X_train\u001b[38;5;241m.\u001b[39mcolumns]\n\u001b[1;32m      9\u001b[0m clf\u001b[38;5;241m.\u001b[39mfit(X_train, y_train)\n\u001b[0;32m---> 10\u001b[0m y_pred \u001b[38;5;241m=\u001b[39m \u001b[43mclf\u001b[49m\u001b[38;5;241;43m.\u001b[39;49m\u001b[43mpredict\u001b[49m\u001b[43m(\u001b[49m\u001b[43mX_test\u001b[49m\u001b[43m)\u001b[49m\n\u001b[1;32m     11\u001b[0m accuracy \u001b[38;5;241m=\u001b[39m accuracy_score(y_test, y_pred)\n\u001b[1;32m     12\u001b[0m \u001b[38;5;28mprint\u001b[39m(\u001b[38;5;124mf\u001b[39m\u001b[38;5;124m\"\u001b[39m\u001b[38;5;124mAccuracy: \u001b[39m\u001b[38;5;132;01m{\u001b[39;00maccuracy\u001b[38;5;132;01m:\u001b[39;00m\u001b[38;5;124m0.2f\u001b[39m\u001b[38;5;132;01m}\u001b[39;00m\u001b[38;5;124m%\u001b[39m\u001b[38;5;124m\"\u001b[39m)\n",
      "File \u001b[0;32m~/miniconda3/lib/python3.9/site-packages/sklearn/ensemble/_forest.py:905\u001b[0m, in \u001b[0;36mForestClassifier.predict\u001b[0;34m(self, X)\u001b[0m\n\u001b[1;32m    884\u001b[0m \u001b[38;5;28;01mdef\u001b[39;00m \u001b[38;5;21mpredict\u001b[39m(\u001b[38;5;28mself\u001b[39m, X):\n\u001b[1;32m    885\u001b[0m \u001b[38;5;250m    \u001b[39m\u001b[38;5;124;03m\"\"\"\u001b[39;00m\n\u001b[1;32m    886\u001b[0m \u001b[38;5;124;03m    Predict class for X.\u001b[39;00m\n\u001b[1;32m    887\u001b[0m \n\u001b[0;32m   (...)\u001b[0m\n\u001b[1;32m    903\u001b[0m \u001b[38;5;124;03m        The predicted classes.\u001b[39;00m\n\u001b[1;32m    904\u001b[0m \u001b[38;5;124;03m    \"\"\"\u001b[39;00m\n\u001b[0;32m--> 905\u001b[0m     proba \u001b[38;5;241m=\u001b[39m \u001b[38;5;28;43mself\u001b[39;49m\u001b[38;5;241;43m.\u001b[39;49m\u001b[43mpredict_proba\u001b[49m\u001b[43m(\u001b[49m\u001b[43mX\u001b[49m\u001b[43m)\u001b[49m\n\u001b[1;32m    907\u001b[0m     \u001b[38;5;28;01mif\u001b[39;00m \u001b[38;5;28mself\u001b[39m\u001b[38;5;241m.\u001b[39mn_outputs_ \u001b[38;5;241m==\u001b[39m \u001b[38;5;241m1\u001b[39m:\n\u001b[1;32m    908\u001b[0m         \u001b[38;5;28;01mreturn\u001b[39;00m \u001b[38;5;28mself\u001b[39m\u001b[38;5;241m.\u001b[39mclasses_\u001b[38;5;241m.\u001b[39mtake(np\u001b[38;5;241m.\u001b[39margmax(proba, axis\u001b[38;5;241m=\u001b[39m\u001b[38;5;241m1\u001b[39m), axis\u001b[38;5;241m=\u001b[39m\u001b[38;5;241m0\u001b[39m)\n",
      "File \u001b[0;32m~/miniconda3/lib/python3.9/site-packages/sklearn/ensemble/_forest.py:947\u001b[0m, in \u001b[0;36mForestClassifier.predict_proba\u001b[0;34m(self, X)\u001b[0m\n\u001b[1;32m    945\u001b[0m check_is_fitted(\u001b[38;5;28mself\u001b[39m)\n\u001b[1;32m    946\u001b[0m \u001b[38;5;66;03m# Check data\u001b[39;00m\n\u001b[0;32m--> 947\u001b[0m X \u001b[38;5;241m=\u001b[39m \u001b[38;5;28;43mself\u001b[39;49m\u001b[38;5;241;43m.\u001b[39;49m\u001b[43m_validate_X_predict\u001b[49m\u001b[43m(\u001b[49m\u001b[43mX\u001b[49m\u001b[43m)\u001b[49m\n\u001b[1;32m    949\u001b[0m \u001b[38;5;66;03m# Assign chunk of trees to jobs\u001b[39;00m\n\u001b[1;32m    950\u001b[0m n_jobs, _, _ \u001b[38;5;241m=\u001b[39m _partition_estimators(\u001b[38;5;28mself\u001b[39m\u001b[38;5;241m.\u001b[39mn_estimators, \u001b[38;5;28mself\u001b[39m\u001b[38;5;241m.\u001b[39mn_jobs)\n",
      "File \u001b[0;32m~/miniconda3/lib/python3.9/site-packages/sklearn/ensemble/_forest.py:641\u001b[0m, in \u001b[0;36mBaseForest._validate_X_predict\u001b[0;34m(self, X)\u001b[0m\n\u001b[1;32m    638\u001b[0m \u001b[38;5;28;01melse\u001b[39;00m:\n\u001b[1;32m    639\u001b[0m     force_all_finite \u001b[38;5;241m=\u001b[39m \u001b[38;5;28;01mTrue\u001b[39;00m\n\u001b[0;32m--> 641\u001b[0m X \u001b[38;5;241m=\u001b[39m \u001b[38;5;28;43mself\u001b[39;49m\u001b[38;5;241;43m.\u001b[39;49m\u001b[43m_validate_data\u001b[49m\u001b[43m(\u001b[49m\n\u001b[1;32m    642\u001b[0m \u001b[43m    \u001b[49m\u001b[43mX\u001b[49m\u001b[43m,\u001b[49m\n\u001b[1;32m    643\u001b[0m \u001b[43m    \u001b[49m\u001b[43mdtype\u001b[49m\u001b[38;5;241;43m=\u001b[39;49m\u001b[43mDTYPE\u001b[49m\u001b[43m,\u001b[49m\n\u001b[1;32m    644\u001b[0m \u001b[43m    \u001b[49m\u001b[43maccept_sparse\u001b[49m\u001b[38;5;241;43m=\u001b[39;49m\u001b[38;5;124;43m\"\u001b[39;49m\u001b[38;5;124;43mcsr\u001b[39;49m\u001b[38;5;124;43m\"\u001b[39;49m\u001b[43m,\u001b[49m\n\u001b[1;32m    645\u001b[0m \u001b[43m    \u001b[49m\u001b[43mreset\u001b[49m\u001b[38;5;241;43m=\u001b[39;49m\u001b[38;5;28;43;01mFalse\u001b[39;49;00m\u001b[43m,\u001b[49m\n\u001b[1;32m    646\u001b[0m \u001b[43m    \u001b[49m\u001b[43mforce_all_finite\u001b[49m\u001b[38;5;241;43m=\u001b[39;49m\u001b[43mforce_all_finite\u001b[49m\u001b[43m,\u001b[49m\n\u001b[1;32m    647\u001b[0m \u001b[43m\u001b[49m\u001b[43m)\u001b[49m\n\u001b[1;32m    648\u001b[0m \u001b[38;5;28;01mif\u001b[39;00m issparse(X) \u001b[38;5;129;01mand\u001b[39;00m (X\u001b[38;5;241m.\u001b[39mindices\u001b[38;5;241m.\u001b[39mdtype \u001b[38;5;241m!=\u001b[39m np\u001b[38;5;241m.\u001b[39mintc \u001b[38;5;129;01mor\u001b[39;00m X\u001b[38;5;241m.\u001b[39mindptr\u001b[38;5;241m.\u001b[39mdtype \u001b[38;5;241m!=\u001b[39m np\u001b[38;5;241m.\u001b[39mintc):\n\u001b[1;32m    649\u001b[0m     \u001b[38;5;28;01mraise\u001b[39;00m \u001b[38;5;167;01mValueError\u001b[39;00m(\u001b[38;5;124m\"\u001b[39m\u001b[38;5;124mNo support for np.int64 index based sparse matrices\u001b[39m\u001b[38;5;124m\"\u001b[39m)\n",
      "File \u001b[0;32m~/miniconda3/lib/python3.9/site-packages/sklearn/base.py:608\u001b[0m, in \u001b[0;36mBaseEstimator._validate_data\u001b[0;34m(self, X, y, reset, validate_separately, cast_to_ndarray, **check_params)\u001b[0m\n\u001b[1;32m    537\u001b[0m \u001b[38;5;28;01mdef\u001b[39;00m \u001b[38;5;21m_validate_data\u001b[39m(\n\u001b[1;32m    538\u001b[0m     \u001b[38;5;28mself\u001b[39m,\n\u001b[1;32m    539\u001b[0m     X\u001b[38;5;241m=\u001b[39m\u001b[38;5;124m\"\u001b[39m\u001b[38;5;124mno_validation\u001b[39m\u001b[38;5;124m\"\u001b[39m,\n\u001b[0;32m   (...)\u001b[0m\n\u001b[1;32m    544\u001b[0m     \u001b[38;5;241m*\u001b[39m\u001b[38;5;241m*\u001b[39mcheck_params,\n\u001b[1;32m    545\u001b[0m ):\n\u001b[1;32m    546\u001b[0m \u001b[38;5;250m    \u001b[39m\u001b[38;5;124;03m\"\"\"Validate input data and set or check the `n_features_in_` attribute.\u001b[39;00m\n\u001b[1;32m    547\u001b[0m \n\u001b[1;32m    548\u001b[0m \u001b[38;5;124;03m    Parameters\u001b[39;00m\n\u001b[0;32m   (...)\u001b[0m\n\u001b[1;32m    606\u001b[0m \u001b[38;5;124;03m        validated.\u001b[39;00m\n\u001b[1;32m    607\u001b[0m \u001b[38;5;124;03m    \"\"\"\u001b[39;00m\n\u001b[0;32m--> 608\u001b[0m     \u001b[38;5;28;43mself\u001b[39;49m\u001b[38;5;241;43m.\u001b[39;49m\u001b[43m_check_feature_names\u001b[49m\u001b[43m(\u001b[49m\u001b[43mX\u001b[49m\u001b[43m,\u001b[49m\u001b[43m \u001b[49m\u001b[43mreset\u001b[49m\u001b[38;5;241;43m=\u001b[39;49m\u001b[43mreset\u001b[49m\u001b[43m)\u001b[49m\n\u001b[1;32m    610\u001b[0m     \u001b[38;5;28;01mif\u001b[39;00m y \u001b[38;5;129;01mis\u001b[39;00m \u001b[38;5;28;01mNone\u001b[39;00m \u001b[38;5;129;01mand\u001b[39;00m \u001b[38;5;28mself\u001b[39m\u001b[38;5;241m.\u001b[39m_get_tags()[\u001b[38;5;124m\"\u001b[39m\u001b[38;5;124mrequires_y\u001b[39m\u001b[38;5;124m\"\u001b[39m]:\n\u001b[1;32m    611\u001b[0m         \u001b[38;5;28;01mraise\u001b[39;00m \u001b[38;5;167;01mValueError\u001b[39;00m(\n\u001b[1;32m    612\u001b[0m             \u001b[38;5;124mf\u001b[39m\u001b[38;5;124m\"\u001b[39m\u001b[38;5;124mThis \u001b[39m\u001b[38;5;132;01m{\u001b[39;00m\u001b[38;5;28mself\u001b[39m\u001b[38;5;241m.\u001b[39m\u001b[38;5;18m__class__\u001b[39m\u001b[38;5;241m.\u001b[39m\u001b[38;5;18m__name__\u001b[39m\u001b[38;5;132;01m}\u001b[39;00m\u001b[38;5;124m estimator \u001b[39m\u001b[38;5;124m\"\u001b[39m\n\u001b[1;32m    613\u001b[0m             \u001b[38;5;124m\"\u001b[39m\u001b[38;5;124mrequires y to be passed, but the target y is None.\u001b[39m\u001b[38;5;124m\"\u001b[39m\n\u001b[1;32m    614\u001b[0m         )\n",
      "File \u001b[0;32m~/miniconda3/lib/python3.9/site-packages/sklearn/base.py:535\u001b[0m, in \u001b[0;36mBaseEstimator._check_feature_names\u001b[0;34m(self, X, reset)\u001b[0m\n\u001b[1;32m    530\u001b[0m \u001b[38;5;28;01mif\u001b[39;00m \u001b[38;5;129;01mnot\u001b[39;00m missing_names \u001b[38;5;129;01mand\u001b[39;00m \u001b[38;5;129;01mnot\u001b[39;00m unexpected_names:\n\u001b[1;32m    531\u001b[0m     message \u001b[38;5;241m+\u001b[39m\u001b[38;5;241m=\u001b[39m (\n\u001b[1;32m    532\u001b[0m         \u001b[38;5;124m\"\u001b[39m\u001b[38;5;124mFeature names must be in the same order as they were in fit.\u001b[39m\u001b[38;5;130;01m\\n\u001b[39;00m\u001b[38;5;124m\"\u001b[39m\n\u001b[1;32m    533\u001b[0m     )\n\u001b[0;32m--> 535\u001b[0m \u001b[38;5;28;01mraise\u001b[39;00m \u001b[38;5;167;01mValueError\u001b[39;00m(message)\n",
      "\u001b[0;31mValueError\u001b[0m: The feature names should match those that were passed during fit.\nFeature names unseen at fit time:\n- CustodyStatus_Residential Program\n- Ethnic_Code_Text_African-Am\n- Ethnic_Code_Text_Native American\n- Ethnic_Code_Text_Oriental\n- Language_Spanish\n- ...\n"
     ]
    }
   ],
   "source": [
    "clf = RandomForestClassifier(n_estimators=250, max_depth=15, random_state=random_state)\n",
    "train_and_evaluate(clf, synthetic_df, df_test, remove_diff_cols=False)"
   ]
  },
  {
   "cell_type": "code",
   "execution_count": null,
   "metadata": {},
   "outputs": [],
   "source": []
  }
 ],
 "metadata": {
  "kernelspec": {
   "display_name": "Python 3 (ipykernel)",
   "language": "python",
   "name": "python3"
  },
  "language_info": {
   "codemirror_mode": {
    "name": "ipython",
    "version": 3
   },
   "file_extension": ".py",
   "mimetype": "text/x-python",
   "name": "python",
   "nbconvert_exporter": "python",
   "pygments_lexer": "ipython3",
   "version": "3.9.18"
  },
  "toc": {
   "base_numbering": 1,
   "nav_menu": {
    "height": "12px",
    "width": "252px"
   },
   "number_sections": true,
   "sideBar": true,
   "skip_h1_title": false,
   "title_cell": "Table of Contents",
   "title_sidebar": "Contents",
   "toc_cell": false,
   "toc_position": {
    "height": "calc(100% - 180px)",
    "left": "10px",
    "top": "150px",
    "width": "463px"
   },
   "toc_section_display": "block",
   "toc_window_display": true
  }
 },
 "nbformat": 4,
 "nbformat_minor": 2
}
