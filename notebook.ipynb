{
 "cells": [
  {
   "cell_type": "markdown",
   "metadata": {},
   "source": [
    "# Evaluation of fidelity, utility, and privacy aspects of synthetic data sets\n",
    "---\n",
    "The goal of this notebook is to utilize a synthetic data generation tool to create synthetic tabular data. Afterward, the synthetic data’s fidelity, utility, and privacy aspects should be evaluated. However, already existing tools should be leveraged and not implemented in any way. Therefore the assignment primarily involves leveraging existing code and implementing necessary\n",
    "boilerplate code to get some results.\n",
    "\n",
    "This project was carried out for the course 194.055 VU Security, Privacy and Explainability in Machine Learning at TU Wien."
   ]
  },
  {
   "cell_type": "markdown",
   "metadata": {},
   "source": [
    "## Packages\n",
    "For this notebook to run properly, we need to install the required packages"
   ]
  },
  {
   "cell_type": "code",
   "execution_count": 1,
   "metadata": {},
   "outputs": [
    {
     "name": "stdout",
     "output_type": "stream",
     "text": [
      "Requirement already satisfied: numpy in /Users/maxkleinegger/miniconda3/lib/python3.9/site-packages (from -r ./requirements.txt (line 1)) (1.23.5)\n",
      "Requirement already satisfied: pandas in /Users/maxkleinegger/miniconda3/lib/python3.9/site-packages (from -r ./requirements.txt (line 2)) (1.5.2)\n",
      "Requirement already satisfied: scikit-learn in /Users/maxkleinegger/miniconda3/lib/python3.9/site-packages (from -r ./requirements.txt (line 3)) (1.4.0)\n",
      "Requirement already satisfied: matplotlib in /Users/maxkleinegger/miniconda3/lib/python3.9/site-packages (from -r ./requirements.txt (line 4)) (3.8.0)\n",
      "Requirement already satisfied: DataSynthesizer in /Users/maxkleinegger/miniconda3/lib/python3.9/site-packages (from -r ./requirements.txt (line 5)) (0.1.13)\n",
      "Requirement already satisfied: anonymeter in /Users/maxkleinegger/miniconda3/lib/python3.9/site-packages (from -r ./requirements.txt (line 6)) (1.0.0)\n",
      "Requirement already satisfied: sdv in /Users/maxkleinegger/miniconda3/lib/python3.9/site-packages (from -r ./requirements.txt (line 7)) (1.12.1)\n",
      "Requirement already satisfied: nbformat>=4.2.0 in /Users/maxkleinegger/miniconda3/lib/python3.9/site-packages (from -r ./requirements.txt (line 8)) (5.10.4)\n",
      "Requirement already satisfied: pomegranate in /Users/maxkleinegger/miniconda3/lib/python3.9/site-packages (from -r ./requirements.txt (line 9)) (1.0.4)\n",
      "Requirement already satisfied: sdmetrics in /Users/maxkleinegger/miniconda3/lib/python3.9/site-packages (from -r ./requirements.txt (line 10)) (0.14.0)\n",
      "Requirement already satisfied: kaleido in /Users/maxkleinegger/miniconda3/lib/python3.9/site-packages (from -r ./requirements.txt (line 11)) (0.2.1)\n",
      "Requirement already satisfied: python-dateutil>=2.8.1 in /Users/maxkleinegger/miniconda3/lib/python3.9/site-packages (from pandas->-r ./requirements.txt (line 2)) (2.8.2)\n",
      "Requirement already satisfied: pytz>=2020.1 in /Users/maxkleinegger/miniconda3/lib/python3.9/site-packages (from pandas->-r ./requirements.txt (line 2)) (2023.3.post1)\n",
      "Requirement already satisfied: scipy>=1.6.0 in /Users/maxkleinegger/miniconda3/lib/python3.9/site-packages (from scikit-learn->-r ./requirements.txt (line 3)) (1.12.0)\n",
      "Requirement already satisfied: joblib>=1.2.0 in /Users/maxkleinegger/miniconda3/lib/python3.9/site-packages (from scikit-learn->-r ./requirements.txt (line 3)) (1.3.2)\n",
      "Requirement already satisfied: threadpoolctl>=2.0.0 in /Users/maxkleinegger/miniconda3/lib/python3.9/site-packages (from scikit-learn->-r ./requirements.txt (line 3)) (3.2.0)\n",
      "Requirement already satisfied: contourpy>=1.0.1 in /Users/maxkleinegger/miniconda3/lib/python3.9/site-packages (from matplotlib->-r ./requirements.txt (line 4)) (1.2.0)\n",
      "Requirement already satisfied: cycler>=0.10 in /Users/maxkleinegger/miniconda3/lib/python3.9/site-packages (from matplotlib->-r ./requirements.txt (line 4)) (0.11.0)\n",
      "Requirement already satisfied: fonttools>=4.22.0 in /Users/maxkleinegger/miniconda3/lib/python3.9/site-packages (from matplotlib->-r ./requirements.txt (line 4)) (4.25.0)\n",
      "Requirement already satisfied: kiwisolver>=1.0.1 in /Users/maxkleinegger/miniconda3/lib/python3.9/site-packages (from matplotlib->-r ./requirements.txt (line 4)) (1.4.4)\n",
      "Requirement already satisfied: packaging>=20.0 in /Users/maxkleinegger/miniconda3/lib/python3.9/site-packages (from matplotlib->-r ./requirements.txt (line 4)) (23.1)\n",
      "Requirement already satisfied: pillow>=6.2.0 in /Users/maxkleinegger/miniconda3/lib/python3.9/site-packages (from matplotlib->-r ./requirements.txt (line 4)) (10.0.1)\n",
      "Requirement already satisfied: pyparsing>=2.3.1 in /Users/maxkleinegger/miniconda3/lib/python3.9/site-packages (from matplotlib->-r ./requirements.txt (line 4)) (3.0.9)\n",
      "Requirement already satisfied: importlib-resources>=3.2.0 in /Users/maxkleinegger/miniconda3/lib/python3.9/site-packages (from matplotlib->-r ./requirements.txt (line 4)) (6.1.1)\n",
      "Requirement already satisfied: seaborn>=0.10.1 in /Users/maxkleinegger/miniconda3/lib/python3.9/site-packages (from DataSynthesizer->-r ./requirements.txt (line 5)) (0.12.2)\n",
      "Requirement already satisfied: numba~=0.58 in /Users/maxkleinegger/miniconda3/lib/python3.9/site-packages (from anonymeter->-r ./requirements.txt (line 6)) (0.59.1)\n",
      "Requirement already satisfied: boto3>=1.28 in /Users/maxkleinegger/miniconda3/lib/python3.9/site-packages (from sdv->-r ./requirements.txt (line 7)) (1.34.88)\n",
      "Requirement already satisfied: botocore>=1.31 in /Users/maxkleinegger/miniconda3/lib/python3.9/site-packages (from sdv->-r ./requirements.txt (line 7)) (1.34.88)\n",
      "Requirement already satisfied: cloudpickle>=2.1.0 in /Users/maxkleinegger/miniconda3/lib/python3.9/site-packages (from sdv->-r ./requirements.txt (line 7)) (3.0.0)\n",
      "Requirement already satisfied: graphviz>=0.13.2 in /Users/maxkleinegger/miniconda3/lib/python3.9/site-packages (from sdv->-r ./requirements.txt (line 7)) (0.20.3)\n",
      "Requirement already satisfied: tqdm>=4.29 in /Users/maxkleinegger/miniconda3/lib/python3.9/site-packages (from sdv->-r ./requirements.txt (line 7)) (4.65.0)\n",
      "Requirement already satisfied: copulas>=0.11.0 in /Users/maxkleinegger/miniconda3/lib/python3.9/site-packages (from sdv->-r ./requirements.txt (line 7)) (0.11.0)\n",
      "Requirement already satisfied: ctgan>=0.10.0 in /Users/maxkleinegger/miniconda3/lib/python3.9/site-packages (from sdv->-r ./requirements.txt (line 7)) (0.10.0)\n",
      "Requirement already satisfied: deepecho>=0.6.0 in /Users/maxkleinegger/miniconda3/lib/python3.9/site-packages (from sdv->-r ./requirements.txt (line 7)) (0.6.0)\n",
      "Requirement already satisfied: rdt>=1.12.0 in /Users/maxkleinegger/miniconda3/lib/python3.9/site-packages (from sdv->-r ./requirements.txt (line 7)) (1.12.0)\n",
      "Requirement already satisfied: fastjsonschema>=2.15 in /Users/maxkleinegger/miniconda3/lib/python3.9/site-packages (from nbformat>=4.2.0->-r ./requirements.txt (line 8)) (2.19.1)\n",
      "Requirement already satisfied: jsonschema>=2.6 in /Users/maxkleinegger/miniconda3/lib/python3.9/site-packages (from nbformat>=4.2.0->-r ./requirements.txt (line 8)) (4.21.1)\n",
      "Requirement already satisfied: jupyter-core!=5.0.*,>=4.12 in /Users/maxkleinegger/miniconda3/lib/python3.9/site-packages (from nbformat>=4.2.0->-r ./requirements.txt (line 8)) (5.7.2)\n",
      "Requirement already satisfied: traitlets>=5.1 in /Users/maxkleinegger/miniconda3/lib/python3.9/site-packages (from nbformat>=4.2.0->-r ./requirements.txt (line 8)) (5.14.3)\n",
      "Requirement already satisfied: torch>=1.9.0 in /Users/maxkleinegger/miniconda3/lib/python3.9/site-packages (from pomegranate->-r ./requirements.txt (line 9)) (2.1.2)\n",
      "Requirement already satisfied: apricot-select>=0.6.1 in /Users/maxkleinegger/miniconda3/lib/python3.9/site-packages (from pomegranate->-r ./requirements.txt (line 9)) (0.6.1)\n",
      "Requirement already satisfied: networkx>=2.8.4 in /Users/maxkleinegger/miniconda3/lib/python3.9/site-packages (from pomegranate->-r ./requirements.txt (line 9)) (3.2.1)\n",
      "Requirement already satisfied: plotly>=5.19.0 in /Users/maxkleinegger/miniconda3/lib/python3.9/site-packages (from sdmetrics->-r ./requirements.txt (line 10)) (5.21.0)\n",
      "Requirement already satisfied: nose in /Users/maxkleinegger/miniconda3/lib/python3.9/site-packages (from apricot-select>=0.6.1->pomegranate->-r ./requirements.txt (line 9)) (1.3.7)\n",
      "Requirement already satisfied: jmespath<2.0.0,>=0.7.1 in /Users/maxkleinegger/miniconda3/lib/python3.9/site-packages (from boto3>=1.28->sdv->-r ./requirements.txt (line 7)) (1.0.1)\n",
      "Requirement already satisfied: s3transfer<0.11.0,>=0.10.0 in /Users/maxkleinegger/miniconda3/lib/python3.9/site-packages (from boto3>=1.28->sdv->-r ./requirements.txt (line 7)) (0.10.1)\n",
      "Requirement already satisfied: urllib3<1.27,>=1.25.4 in /Users/maxkleinegger/miniconda3/lib/python3.9/site-packages (from botocore>=1.31->sdv->-r ./requirements.txt (line 7)) (1.26.18)\n",
      "Requirement already satisfied: zipp>=3.1.0 in /Users/maxkleinegger/miniconda3/lib/python3.9/site-packages (from importlib-resources>=3.2.0->matplotlib->-r ./requirements.txt (line 4)) (3.17.0)\n",
      "Requirement already satisfied: attrs>=22.2.0 in /Users/maxkleinegger/miniconda3/lib/python3.9/site-packages (from jsonschema>=2.6->nbformat>=4.2.0->-r ./requirements.txt (line 8)) (23.1.0)\n",
      "Requirement already satisfied: jsonschema-specifications>=2023.03.6 in /Users/maxkleinegger/miniconda3/lib/python3.9/site-packages (from jsonschema>=2.6->nbformat>=4.2.0->-r ./requirements.txt (line 8)) (2023.12.1)\n",
      "Requirement already satisfied: referencing>=0.28.4 in /Users/maxkleinegger/miniconda3/lib/python3.9/site-packages (from jsonschema>=2.6->nbformat>=4.2.0->-r ./requirements.txt (line 8)) (0.32.1)\n",
      "Requirement already satisfied: rpds-py>=0.7.1 in /Users/maxkleinegger/miniconda3/lib/python3.9/site-packages (from jsonschema>=2.6->nbformat>=4.2.0->-r ./requirements.txt (line 8)) (0.17.1)\n",
      "Requirement already satisfied: platformdirs>=2.5 in /Users/maxkleinegger/miniconda3/lib/python3.9/site-packages (from jupyter-core!=5.0.*,>=4.12->nbformat>=4.2.0->-r ./requirements.txt (line 8)) (3.10.0)\n",
      "Requirement already satisfied: llvmlite<0.43,>=0.42.0dev0 in /Users/maxkleinegger/miniconda3/lib/python3.9/site-packages (from numba~=0.58->anonymeter->-r ./requirements.txt (line 6)) (0.42.0)\n",
      "Requirement already satisfied: tenacity>=6.2.0 in /Users/maxkleinegger/miniconda3/lib/python3.9/site-packages (from plotly>=5.19.0->sdmetrics->-r ./requirements.txt (line 10)) (8.2.3)\n",
      "Requirement already satisfied: six>=1.5 in /Users/maxkleinegger/miniconda3/lib/python3.9/site-packages (from python-dateutil>=2.8.1->pandas->-r ./requirements.txt (line 2)) (1.16.0)\n",
      "Requirement already satisfied: Faker>=17 in /Users/maxkleinegger/miniconda3/lib/python3.9/site-packages (from rdt>=1.12.0->sdv->-r ./requirements.txt (line 7)) (24.11.0)\n",
      "Requirement already satisfied: filelock in /Users/maxkleinegger/miniconda3/lib/python3.9/site-packages (from torch>=1.9.0->pomegranate->-r ./requirements.txt (line 9)) (3.13.1)\n",
      "Requirement already satisfied: typing-extensions in /Users/maxkleinegger/miniconda3/lib/python3.9/site-packages (from torch>=1.9.0->pomegranate->-r ./requirements.txt (line 9)) (4.9.0)\n",
      "Requirement already satisfied: sympy in /Users/maxkleinegger/miniconda3/lib/python3.9/site-packages (from torch>=1.9.0->pomegranate->-r ./requirements.txt (line 9)) (1.12)\n",
      "Requirement already satisfied: jinja2 in /Users/maxkleinegger/miniconda3/lib/python3.9/site-packages (from torch>=1.9.0->pomegranate->-r ./requirements.txt (line 9)) (3.1.3)\n",
      "Requirement already satisfied: fsspec in /Users/maxkleinegger/miniconda3/lib/python3.9/site-packages (from torch>=1.9.0->pomegranate->-r ./requirements.txt (line 9)) (2023.12.2)\n",
      "Requirement already satisfied: MarkupSafe>=2.0 in /Users/maxkleinegger/miniconda3/lib/python3.9/site-packages (from jinja2->torch>=1.9.0->pomegranate->-r ./requirements.txt (line 9)) (2.1.3)\n",
      "Requirement already satisfied: mpmath>=0.19 in /Users/maxkleinegger/miniconda3/lib/python3.9/site-packages (from sympy->torch>=1.9.0->pomegranate->-r ./requirements.txt (line 9)) (1.3.0)\n",
      "Note: you may need to restart the kernel to use updated packages.\n"
     ]
    }
   ],
   "source": [
    "%pip install -r ./requirements.txt"
   ]
  },
  {
   "cell_type": "markdown",
   "metadata": {},
   "source": [
    "## General data & imports\n",
    "In this section we define globally used variables and import the most used packages."
   ]
  },
  {
   "cell_type": "code",
   "execution_count": 182,
   "metadata": {},
   "outputs": [],
   "source": [
    "import numpy as np\n",
    "import pandas as pd\n",
    "\n",
    "from utils import train_and_evaluate"
   ]
  },
  {
   "cell_type": "code",
   "execution_count": 183,
   "metadata": {},
   "outputs": [],
   "source": [
    "# define a random state\n",
    "random_state = 12014500\n",
    "\n",
    "# set the random state\n",
    "np.random.seed(random_state)"
   ]
  },
  {
   "cell_type": "markdown",
   "metadata": {},
   "source": [
    "## Dataset\n",
    "In this notebook, we perform all action on the COMPASS-dataset. For our usecase we use the un-preprocessed version of it (./compass-scores-raw.csv). Therefore the following cells give a brief insight into the data itself."
   ]
  },
  {
   "cell_type": "code",
   "execution_count": 184,
   "metadata": {},
   "outputs": [],
   "source": [
    "file_path = './data/compas-scores-raw.csv'\n",
    "df = pd.read_csv(file_path)"
   ]
  },
  {
   "cell_type": "code",
   "execution_count": 185,
   "metadata": {},
   "outputs": [
    {
     "data": {
      "text/html": [
       "<div>\n",
       "<style scoped>\n",
       "    .dataframe tbody tr th:only-of-type {\n",
       "        vertical-align: middle;\n",
       "    }\n",
       "\n",
       "    .dataframe tbody tr th {\n",
       "        vertical-align: top;\n",
       "    }\n",
       "\n",
       "    .dataframe thead th {\n",
       "        text-align: right;\n",
       "    }\n",
       "</style>\n",
       "<table border=\"1\" class=\"dataframe\">\n",
       "  <thead>\n",
       "    <tr style=\"text-align: right;\">\n",
       "      <th></th>\n",
       "      <th>Person_ID</th>\n",
       "      <th>AssessmentID</th>\n",
       "      <th>Case_ID</th>\n",
       "      <th>Agency_Text</th>\n",
       "      <th>LastName</th>\n",
       "      <th>FirstName</th>\n",
       "      <th>MiddleName</th>\n",
       "      <th>Sex_Code_Text</th>\n",
       "      <th>Ethnic_Code_Text</th>\n",
       "      <th>DateOfBirth</th>\n",
       "      <th>...</th>\n",
       "      <th>RecSupervisionLevel</th>\n",
       "      <th>RecSupervisionLevelText</th>\n",
       "      <th>Scale_ID</th>\n",
       "      <th>DisplayText</th>\n",
       "      <th>RawScore</th>\n",
       "      <th>DecileScore</th>\n",
       "      <th>ScoreText</th>\n",
       "      <th>AssessmentType</th>\n",
       "      <th>IsCompleted</th>\n",
       "      <th>IsDeleted</th>\n",
       "    </tr>\n",
       "  </thead>\n",
       "  <tbody>\n",
       "    <tr>\n",
       "      <th>0</th>\n",
       "      <td>50844</td>\n",
       "      <td>57167</td>\n",
       "      <td>51950</td>\n",
       "      <td>PRETRIAL</td>\n",
       "      <td>Fisher</td>\n",
       "      <td>Kevin</td>\n",
       "      <td>NaN</td>\n",
       "      <td>Male</td>\n",
       "      <td>Caucasian</td>\n",
       "      <td>12/05/92</td>\n",
       "      <td>...</td>\n",
       "      <td>1</td>\n",
       "      <td>Low</td>\n",
       "      <td>7</td>\n",
       "      <td>Risk of Violence</td>\n",
       "      <td>-2.08</td>\n",
       "      <td>4</td>\n",
       "      <td>Low</td>\n",
       "      <td>New</td>\n",
       "      <td>1</td>\n",
       "      <td>0</td>\n",
       "    </tr>\n",
       "    <tr>\n",
       "      <th>1</th>\n",
       "      <td>50844</td>\n",
       "      <td>57167</td>\n",
       "      <td>51950</td>\n",
       "      <td>PRETRIAL</td>\n",
       "      <td>Fisher</td>\n",
       "      <td>Kevin</td>\n",
       "      <td>NaN</td>\n",
       "      <td>Male</td>\n",
       "      <td>Caucasian</td>\n",
       "      <td>12/05/92</td>\n",
       "      <td>...</td>\n",
       "      <td>1</td>\n",
       "      <td>Low</td>\n",
       "      <td>8</td>\n",
       "      <td>Risk of Recidivism</td>\n",
       "      <td>-1.06</td>\n",
       "      <td>2</td>\n",
       "      <td>Low</td>\n",
       "      <td>New</td>\n",
       "      <td>1</td>\n",
       "      <td>0</td>\n",
       "    </tr>\n",
       "    <tr>\n",
       "      <th>2</th>\n",
       "      <td>50844</td>\n",
       "      <td>57167</td>\n",
       "      <td>51950</td>\n",
       "      <td>PRETRIAL</td>\n",
       "      <td>Fisher</td>\n",
       "      <td>Kevin</td>\n",
       "      <td>NaN</td>\n",
       "      <td>Male</td>\n",
       "      <td>Caucasian</td>\n",
       "      <td>12/05/92</td>\n",
       "      <td>...</td>\n",
       "      <td>1</td>\n",
       "      <td>Low</td>\n",
       "      <td>18</td>\n",
       "      <td>Risk of Failure to Appear</td>\n",
       "      <td>15.00</td>\n",
       "      <td>1</td>\n",
       "      <td>Low</td>\n",
       "      <td>New</td>\n",
       "      <td>1</td>\n",
       "      <td>0</td>\n",
       "    </tr>\n",
       "    <tr>\n",
       "      <th>3</th>\n",
       "      <td>50848</td>\n",
       "      <td>57174</td>\n",
       "      <td>51956</td>\n",
       "      <td>PRETRIAL</td>\n",
       "      <td>KENDALL</td>\n",
       "      <td>KEVIN</td>\n",
       "      <td>NaN</td>\n",
       "      <td>Male</td>\n",
       "      <td>Caucasian</td>\n",
       "      <td>09/16/84</td>\n",
       "      <td>...</td>\n",
       "      <td>1</td>\n",
       "      <td>Low</td>\n",
       "      <td>7</td>\n",
       "      <td>Risk of Violence</td>\n",
       "      <td>-2.84</td>\n",
       "      <td>2</td>\n",
       "      <td>Low</td>\n",
       "      <td>New</td>\n",
       "      <td>1</td>\n",
       "      <td>0</td>\n",
       "    </tr>\n",
       "    <tr>\n",
       "      <th>4</th>\n",
       "      <td>50848</td>\n",
       "      <td>57174</td>\n",
       "      <td>51956</td>\n",
       "      <td>PRETRIAL</td>\n",
       "      <td>KENDALL</td>\n",
       "      <td>KEVIN</td>\n",
       "      <td>NaN</td>\n",
       "      <td>Male</td>\n",
       "      <td>Caucasian</td>\n",
       "      <td>09/16/84</td>\n",
       "      <td>...</td>\n",
       "      <td>1</td>\n",
       "      <td>Low</td>\n",
       "      <td>8</td>\n",
       "      <td>Risk of Recidivism</td>\n",
       "      <td>-1.50</td>\n",
       "      <td>1</td>\n",
       "      <td>Low</td>\n",
       "      <td>New</td>\n",
       "      <td>1</td>\n",
       "      <td>0</td>\n",
       "    </tr>\n",
       "  </tbody>\n",
       "</table>\n",
       "<p>5 rows × 28 columns</p>\n",
       "</div>"
      ],
      "text/plain": [
       "   Person_ID  AssessmentID  Case_ID Agency_Text LastName FirstName MiddleName  \\\n",
       "0      50844         57167    51950    PRETRIAL   Fisher     Kevin        NaN   \n",
       "1      50844         57167    51950    PRETRIAL   Fisher     Kevin        NaN   \n",
       "2      50844         57167    51950    PRETRIAL   Fisher     Kevin        NaN   \n",
       "3      50848         57174    51956    PRETRIAL  KENDALL     KEVIN        NaN   \n",
       "4      50848         57174    51956    PRETRIAL  KENDALL     KEVIN        NaN   \n",
       "\n",
       "  Sex_Code_Text Ethnic_Code_Text DateOfBirth  ...  RecSupervisionLevel  \\\n",
       "0          Male        Caucasian    12/05/92  ...                    1   \n",
       "1          Male        Caucasian    12/05/92  ...                    1   \n",
       "2          Male        Caucasian    12/05/92  ...                    1   \n",
       "3          Male        Caucasian    09/16/84  ...                    1   \n",
       "4          Male        Caucasian    09/16/84  ...                    1   \n",
       "\n",
       "  RecSupervisionLevelText Scale_ID                DisplayText RawScore  \\\n",
       "0                     Low        7           Risk of Violence    -2.08   \n",
       "1                     Low        8         Risk of Recidivism    -1.06   \n",
       "2                     Low       18  Risk of Failure to Appear    15.00   \n",
       "3                     Low        7           Risk of Violence    -2.84   \n",
       "4                     Low        8         Risk of Recidivism    -1.50   \n",
       "\n",
       "  DecileScore ScoreText AssessmentType  IsCompleted IsDeleted  \n",
       "0           4       Low            New            1         0  \n",
       "1           2       Low            New            1         0  \n",
       "2           1       Low            New            1         0  \n",
       "3           2       Low            New            1         0  \n",
       "4           1       Low            New            1         0  \n",
       "\n",
       "[5 rows x 28 columns]"
      ]
     },
     "metadata": {},
     "output_type": "display_data"
    }
   ],
   "source": [
    "display(df.head())"
   ]
  },
  {
   "cell_type": "code",
   "execution_count": 186,
   "metadata": {},
   "outputs": [
    {
     "data": {
      "text/plain": [
       "(60843, 28)"
      ]
     },
     "execution_count": 186,
     "metadata": {},
     "output_type": "execute_result"
    }
   ],
   "source": [
    "df.shape"
   ]
  },
  {
   "cell_type": "code",
   "execution_count": 187,
   "metadata": {},
   "outputs": [
    {
     "data": {
      "text/plain": [
       "Person_ID                    int64\n",
       "AssessmentID                 int64\n",
       "Case_ID                      int64\n",
       "Agency_Text                 object\n",
       "LastName                    object\n",
       "FirstName                   object\n",
       "MiddleName                  object\n",
       "Sex_Code_Text               object\n",
       "Ethnic_Code_Text            object\n",
       "DateOfBirth                 object\n",
       "ScaleSet_ID                  int64\n",
       "ScaleSet                    object\n",
       "AssessmentReason            object\n",
       "Language                    object\n",
       "LegalStatus                 object\n",
       "CustodyStatus               object\n",
       "MaritalStatus               object\n",
       "Screening_Date              object\n",
       "RecSupervisionLevel          int64\n",
       "RecSupervisionLevelText     object\n",
       "Scale_ID                     int64\n",
       "DisplayText                 object\n",
       "RawScore                   float64\n",
       "DecileScore                  int64\n",
       "ScoreText                   object\n",
       "AssessmentType              object\n",
       "IsCompleted                  int64\n",
       "IsDeleted                    int64\n",
       "dtype: object"
      ]
     },
     "execution_count": 187,
     "metadata": {},
     "output_type": "execute_result"
    }
   ],
   "source": [
    "df.dtypes"
   ]
  },
  {
   "cell_type": "code",
   "execution_count": 188,
   "metadata": {},
   "outputs": [
    {
     "data": {
      "text/plain": [
       "Person_ID                      0\n",
       "AssessmentID                   0\n",
       "Case_ID                        0\n",
       "Agency_Text                    0\n",
       "LastName                       0\n",
       "FirstName                      0\n",
       "MiddleName                 45195\n",
       "Sex_Code_Text                  0\n",
       "Ethnic_Code_Text               0\n",
       "DateOfBirth                    0\n",
       "ScaleSet_ID                    0\n",
       "ScaleSet                       0\n",
       "AssessmentReason               0\n",
       "Language                       0\n",
       "LegalStatus                    0\n",
       "CustodyStatus                  0\n",
       "MaritalStatus                  0\n",
       "Screening_Date                 0\n",
       "RecSupervisionLevel            0\n",
       "RecSupervisionLevelText        0\n",
       "Scale_ID                       0\n",
       "DisplayText                    0\n",
       "RawScore                       0\n",
       "DecileScore                    0\n",
       "ScoreText                     45\n",
       "AssessmentType                 0\n",
       "IsCompleted                    0\n",
       "IsDeleted                      0\n",
       "dtype: int64"
      ]
     },
     "execution_count": 188,
     "metadata": {},
     "output_type": "execute_result"
    }
   ],
   "source": [
    "df.isna().sum()"
   ]
  },
  {
   "cell_type": "code",
   "execution_count": 189,
   "metadata": {},
   "outputs": [
    {
     "data": {
      "text/html": [
       "<div>\n",
       "<style scoped>\n",
       "    .dataframe tbody tr th:only-of-type {\n",
       "        vertical-align: middle;\n",
       "    }\n",
       "\n",
       "    .dataframe tbody tr th {\n",
       "        vertical-align: top;\n",
       "    }\n",
       "\n",
       "    .dataframe thead th {\n",
       "        text-align: right;\n",
       "    }\n",
       "</style>\n",
       "<table border=\"1\" class=\"dataframe\">\n",
       "  <thead>\n",
       "    <tr style=\"text-align: right;\">\n",
       "      <th></th>\n",
       "      <th>Person_ID</th>\n",
       "      <th>AssessmentID</th>\n",
       "      <th>Case_ID</th>\n",
       "      <th>ScaleSet_ID</th>\n",
       "      <th>RecSupervisionLevel</th>\n",
       "      <th>Scale_ID</th>\n",
       "      <th>RawScore</th>\n",
       "      <th>DecileScore</th>\n",
       "      <th>IsCompleted</th>\n",
       "      <th>IsDeleted</th>\n",
       "    </tr>\n",
       "  </thead>\n",
       "  <tbody>\n",
       "    <tr>\n",
       "      <th>count</th>\n",
       "      <td>60843.000000</td>\n",
       "      <td>60843.000000</td>\n",
       "      <td>60843.000000</td>\n",
       "      <td>60843.000000</td>\n",
       "      <td>60843.000000</td>\n",
       "      <td>60843.000000</td>\n",
       "      <td>60843.000000</td>\n",
       "      <td>60843.000000</td>\n",
       "      <td>60843.0</td>\n",
       "      <td>60843.0</td>\n",
       "    </tr>\n",
       "    <tr>\n",
       "      <th>mean</th>\n",
       "      <td>53683.206154</td>\n",
       "      <td>68061.029190</td>\n",
       "      <td>60209.128149</td>\n",
       "      <td>21.819536</td>\n",
       "      <td>1.630048</td>\n",
       "      <td>11.000000</td>\n",
       "      <td>5.081457</td>\n",
       "      <td>3.571701</td>\n",
       "      <td>1.0</td>\n",
       "      <td>0.0</td>\n",
       "    </tr>\n",
       "    <tr>\n",
       "      <th>std</th>\n",
       "      <td>14363.648515</td>\n",
       "      <td>7320.208226</td>\n",
       "      <td>9638.501654</td>\n",
       "      <td>0.932614</td>\n",
       "      <td>0.944220</td>\n",
       "      <td>4.966596</td>\n",
       "      <td>10.080518</td>\n",
       "      <td>2.617854</td>\n",
       "      <td>0.0</td>\n",
       "      <td>0.0</td>\n",
       "    </tr>\n",
       "    <tr>\n",
       "      <th>min</th>\n",
       "      <td>656.000000</td>\n",
       "      <td>649.000000</td>\n",
       "      <td>350.000000</td>\n",
       "      <td>17.000000</td>\n",
       "      <td>1.000000</td>\n",
       "      <td>7.000000</td>\n",
       "      <td>-4.790000</td>\n",
       "      <td>-1.000000</td>\n",
       "      <td>1.0</td>\n",
       "      <td>0.0</td>\n",
       "    </tr>\n",
       "    <tr>\n",
       "      <th>25%</th>\n",
       "      <td>52039.000000</td>\n",
       "      <td>62582.000000</td>\n",
       "      <td>56021.000000</td>\n",
       "      <td>22.000000</td>\n",
       "      <td>1.000000</td>\n",
       "      <td>7.000000</td>\n",
       "      <td>-2.090000</td>\n",
       "      <td>1.000000</td>\n",
       "      <td>1.0</td>\n",
       "      <td>0.0</td>\n",
       "    </tr>\n",
       "    <tr>\n",
       "      <th>50%</th>\n",
       "      <td>57321.000000</td>\n",
       "      <td>68229.000000</td>\n",
       "      <td>61261.000000</td>\n",
       "      <td>22.000000</td>\n",
       "      <td>1.000000</td>\n",
       "      <td>8.000000</td>\n",
       "      <td>-0.710000</td>\n",
       "      <td>3.000000</td>\n",
       "      <td>1.0</td>\n",
       "      <td>0.0</td>\n",
       "    </tr>\n",
       "    <tr>\n",
       "      <th>75%</th>\n",
       "      <td>62748.000000</td>\n",
       "      <td>73870.000000</td>\n",
       "      <td>66554.000000</td>\n",
       "      <td>22.000000</td>\n",
       "      <td>2.000000</td>\n",
       "      <td>18.000000</td>\n",
       "      <td>14.000000</td>\n",
       "      <td>5.000000</td>\n",
       "      <td>1.0</td>\n",
       "      <td>0.0</td>\n",
       "    </tr>\n",
       "    <tr>\n",
       "      <th>max</th>\n",
       "      <td>68608.000000</td>\n",
       "      <td>79678.000000</td>\n",
       "      <td>72045.000000</td>\n",
       "      <td>22.000000</td>\n",
       "      <td>4.000000</td>\n",
       "      <td>18.000000</td>\n",
       "      <td>51.000000</td>\n",
       "      <td>10.000000</td>\n",
       "      <td>1.0</td>\n",
       "      <td>0.0</td>\n",
       "    </tr>\n",
       "  </tbody>\n",
       "</table>\n",
       "</div>"
      ],
      "text/plain": [
       "          Person_ID  AssessmentID       Case_ID   ScaleSet_ID  \\\n",
       "count  60843.000000  60843.000000  60843.000000  60843.000000   \n",
       "mean   53683.206154  68061.029190  60209.128149     21.819536   \n",
       "std    14363.648515   7320.208226   9638.501654      0.932614   \n",
       "min      656.000000    649.000000    350.000000     17.000000   \n",
       "25%    52039.000000  62582.000000  56021.000000     22.000000   \n",
       "50%    57321.000000  68229.000000  61261.000000     22.000000   \n",
       "75%    62748.000000  73870.000000  66554.000000     22.000000   \n",
       "max    68608.000000  79678.000000  72045.000000     22.000000   \n",
       "\n",
       "       RecSupervisionLevel      Scale_ID      RawScore   DecileScore  \\\n",
       "count         60843.000000  60843.000000  60843.000000  60843.000000   \n",
       "mean              1.630048     11.000000      5.081457      3.571701   \n",
       "std               0.944220      4.966596     10.080518      2.617854   \n",
       "min               1.000000      7.000000     -4.790000     -1.000000   \n",
       "25%               1.000000      7.000000     -2.090000      1.000000   \n",
       "50%               1.000000      8.000000     -0.710000      3.000000   \n",
       "75%               2.000000     18.000000     14.000000      5.000000   \n",
       "max               4.000000     18.000000     51.000000     10.000000   \n",
       "\n",
       "       IsCompleted  IsDeleted  \n",
       "count      60843.0    60843.0  \n",
       "mean           1.0        0.0  \n",
       "std            0.0        0.0  \n",
       "min            1.0        0.0  \n",
       "25%            1.0        0.0  \n",
       "50%            1.0        0.0  \n",
       "75%            1.0        0.0  \n",
       "max            1.0        0.0  "
      ]
     },
     "execution_count": 189,
     "metadata": {},
     "output_type": "execute_result"
    }
   ],
   "source": [
    "df.describe()"
   ]
  },
  {
   "cell_type": "markdown",
   "metadata": {},
   "source": [
    "### Data-insights\n",
    "This subsections further investiges into the dataset, to get some insights on it. For this, we use the raw data and only one type of scores"
   ]
  },
  {
   "cell_type": "code",
   "execution_count": 190,
   "metadata": {},
   "outputs": [],
   "source": [
    "df_insights = df[df['Scale_ID'] == 8]"
   ]
  },
  {
   "cell_type": "code",
   "execution_count": 191,
   "metadata": {},
   "outputs": [],
   "source": [
    "date_of_birth_timestamp = pd.to_datetime(df_insights['DateOfBirth'], format='%m/%d/%y').dt.strftime('%m/%d/19%y')\n",
    "date_of_birth_timestamp = pd.to_datetime(date_of_birth_timestamp, format='%m/%d/%Y')\n",
    "df['YearOfBirth'] = date_of_birth_timestamp.dt.year"
   ]
  },
  {
   "cell_type": "code",
   "execution_count": 192,
   "metadata": {},
   "outputs": [
    {
     "data": {
      "text/plain": [
       "{'YearOfBirth': 0.5352211306569021,\n",
       " 'MonthOfBirth': 0.01359858157088456,\n",
       " 'WeekdayOfBirth': -0.0108109308209829}"
      ]
     },
     "execution_count": 192,
     "metadata": {},
     "output_type": "execute_result"
    }
   ],
   "source": [
    "correlations_with_rawscore = {\n",
    "    'YearOfBirth': date_of_birth_timestamp.dt.year.corr(df['RawScore']),\n",
    "    'MonthOfBirth': date_of_birth_timestamp.dt.month.corr(df['RawScore']),\n",
    "    'WeekdayOfBirth': date_of_birth_timestamp.dt.weekday.corr(df['RawScore'])\n",
    "}\n",
    "correlations_with_rawscore"
   ]
  },
  {
   "cell_type": "code",
   "execution_count": 193,
   "metadata": {},
   "outputs": [
    {
     "data": {
      "image/png": "[encoded data removed]",
      "text/plain": [
       "<Figure size 640x480 with 2 Axes>"
      ]
     },
     "metadata": {},
     "output_type": "display_data"
    }
   ],
   "source": [
    "import seaborn as sns\n",
    "import matplotlib.pyplot as plt\n",
    "\n",
    "fig, axs = plt.subplots(2)\n",
    "average_score_per_year = df_insights.groupby(date_of_birth_timestamp.dt.year)['RawScore'].mean()\n",
    "\n",
    "axs[0].plot(average_score_per_year.index, average_score_per_year.values)\n",
    "axs[0].set_title('Average score per year of birth')\n",
    "\n",
    "sns.regplot(x=date_of_birth_timestamp.dt.year, y=df_insights['RawScore'], ax=axs[1])\n",
    "plt.show()"
   ]
  },
  {
   "cell_type": "code",
   "execution_count": 194,
   "metadata": {},
   "outputs": [
    {
     "data": {
      "text/plain": [
       "Ethnic_Code_Text\n",
       "African-American   -0.462214\n",
       "Arabic             -0.943200\n",
       "Asian              -1.309815\n",
       "Caucasian          -0.990190\n",
       "Hispanic           -1.029564\n",
       "Native American    -0.464795\n",
       "Oriental           -1.042308\n",
       "Other              -1.221505\n",
       "Name: RawScore, dtype: float64"
      ]
     },
     "execution_count": 194,
     "metadata": {},
     "output_type": "execute_result"
    }
   ],
   "source": [
    "df_insights.loc[df['Ethnic_Code_Text'] == 'African-Am', 'Ethnic_Code_Text'] = 'African-American'\n",
    "\n",
    "raw_ethnic_score_grouped = df_insights.groupby('Ethnic_Code_Text')['RawScore'].mean()\n",
    "raw_ethnic_score_grouped"
   ]
  },
  {
   "cell_type": "markdown",
   "metadata": {},
   "source": [
    "### PreProcessing\n",
    "This sections deals, with the pre-processing we performed on the dataset."
   ]
  },
  {
   "cell_type": "code",
   "execution_count": 195,
   "metadata": {},
   "outputs": [],
   "source": [
    "nominal_features = ['Agency_Text', 'Ethnic_Code_Text', 'AssessmentReason', 'Language', 'LegalStatus', 'CustodyStatus', 'MaritalStatus', 'RecSupervisionLevel']\n",
    "target = 'ScoreText'"
   ]
  },
  {
   "cell_type": "markdown",
   "metadata": {},
   "source": [
    "First, we dropped all features, that either had redundant information, like `DisplayText` being the textual version of `Scale_ID`, or directly identifying informations like any kind of unique ids or names."
   ]
  },
  {
   "cell_type": "code",
   "execution_count": 196,
   "metadata": {},
   "outputs": [],
   "source": [
    "columns_to_drop = ['Person_ID', 'AssessmentID', 'Case_ID', 'LastName', 'FirstName', 'MiddleName', 'ScaleSet', 'RecSupervisionLevelText', 'DisplayText', 'RawScore', 'DecileScore', 'AssessmentType', 'IsCompleted', 'IsDeleted'] \n",
    "df_preprocessed = df.drop(columns_to_drop, axis=1)"
   ]
  },
  {
   "cell_type": "markdown",
   "metadata": {},
   "source": [
    "Furthermore, we converted `Sex_Code_Text` to binary to make calculations easier and converted `DateOfBirth` and `Screening_Date` to Unix timestamp to make it workable with our classifers in the end. Also we unified `African-Am` and `African-American` into one class, since it has the same meaning."
   ]
  },
  {
   "cell_type": "code",
   "execution_count": 197,
   "metadata": {},
   "outputs": [],
   "source": [
    "df_preprocessed['Sex_Code_Text'] = df_preprocessed['Sex_Code_Text'].apply(lambda x: 1 if x == 'Male' else 0)\n",
    "df_preprocessed['DateOfBirth'] = pd.to_datetime(df_preprocessed['DateOfBirth']).astype(int) // 10**9  # Convert to Unix timestamp\n",
    "df_preprocessed['Screening_Date'] = pd.to_datetime(df_preprocessed['Screening_Date']).astype(int) // 10**9  # Convert to Unix timestamp\n",
    "df_preprocessed.loc[df_preprocessed['Ethnic_Code_Text'] == 'African-Am', 'Ethnic_Code_Text'] = 'African-American'"
   ]
  },
  {
   "cell_type": "markdown",
   "metadata": {},
   "source": [
    "Afterwards, we removed all records that had missing values in our label attribute `ScoreText`. Those records cannot be used in any way and therefore should be discarded."
   ]
  },
  {
   "cell_type": "code",
   "execution_count": 198,
   "metadata": {},
   "outputs": [],
   "source": [
    "df_preprocessed = df_preprocessed.dropna(subset=['ScoreText'])"
   ]
  },
  {
   "cell_type": "markdown",
   "metadata": {},
   "source": [
    "The dataset provides scores for three different kinds of classifications-problems. We select only one to make our simple classifier do a better job."
   ]
  },
  {
   "cell_type": "code",
   "execution_count": 199,
   "metadata": {},
   "outputs": [],
   "source": [
    "df_preprocessed = df_preprocessed[df_preprocessed['Scale_ID'] == 8]"
   ]
  },
  {
   "cell_type": "code",
   "execution_count": 200,
   "metadata": {},
   "outputs": [
    {
     "data": {
      "text/plain": [
       "(20245, 15)"
      ]
     },
     "execution_count": 200,
     "metadata": {},
     "output_type": "execute_result"
    }
   ],
   "source": [
    "df_preprocessed.shape"
   ]
  },
  {
   "cell_type": "markdown",
   "metadata": {},
   "source": [
    "#### Train/Test-Split\n",
    "After this we perform the basic 80/20 split into train and test data."
   ]
  },
  {
   "cell_type": "code",
   "execution_count": 201,
   "metadata": {},
   "outputs": [],
   "source": [
    "from sklearn.model_selection import train_test_split\n",
    "\n",
    "df_train, df_test = train_test_split(df_preprocessed, test_size=0.2, random_state=random_state)"
   ]
  },
  {
   "cell_type": "markdown",
   "metadata": {},
   "source": [
    "Lastly, we replaces all `NaN`-strings inside the train- and test-set individually with `np.nan` to make it more unified."
   ]
  },
  {
   "cell_type": "code",
   "execution_count": 202,
   "metadata": {},
   "outputs": [],
   "source": [
    "df_train.replace('NaN', np.nan, inplace=True)\n",
    "df_test.replace('NaN', np.nan, inplace=True)"
   ]
  },
  {
   "cell_type": "markdown",
   "metadata": {},
   "source": [
    "## Baseline Classifier\n",
    "This sections simply trains and evaluates our baseline. We simply use a Random Forests because it should be an easy but robust classifier."
   ]
  },
  {
   "cell_type": "code",
   "execution_count": 203,
   "metadata": {},
   "outputs": [
    {
     "data": {
      "text/plain": [
       "{'accuracy': 0.8928130402568536,\n",
       " 'precision': 0.9038317815324403,\n",
       " 'recall': 0.8648715054938046,\n",
       " 'f1': 0.8733412647813531}"
      ]
     },
     "execution_count": 203,
     "metadata": {},
     "output_type": "execute_result"
    }
   ],
   "source": [
    "from sklearn.ensemble import RandomForestClassifier\n",
    "\n",
    "clf = RandomForestClassifier(n_estimators=250, max_depth=15, random_state=random_state)\n",
    "train_and_evaluate(clf, df_train, df_test, nominal_features, target)"
   ]
  },
  {
   "cell_type": "markdown",
   "metadata": {},
   "source": [
    "## Data synthetization\n",
    "This sections presents the creation and evaluation of our synthesized data. For this we use multiple instances from the [Synthetic Data Vault](https://github.com/sdv-dev/SDV) and two methods from [DataSynthesizer](https://github.com/DataResponsibly/DataSynthesizer). We only synthesize the training data, because we want to further evaluate on original test data."
   ]
  },
  {
   "cell_type": "markdown",
   "metadata": {},
   "source": [
    "### Synthetic Data Vault"
   ]
  },
  {
   "cell_type": "code",
   "execution_count": 110,
   "metadata": {},
   "outputs": [],
   "source": [
    "from sdv.metadata import SingleTableMetadata\n",
    "from sdv.evaluation.single_table import run_diagnostic\n",
    "from sdv.single_table import GaussianCopulaSynthesizer, CTGANSynthesizer, CopulaGANSynthesizer, TVAESynthesizer\n",
    "from sdmetrics.reports.single_table import QualityReport\n",
    "\n",
    "from utils import generate_synthetic_data, evaluate_fidelity, evaluate_privacy_risks, evaluate_inference_risks"
   ]
  },
  {
   "cell_type": "markdown",
   "metadata": {},
   "source": [
    "#### Metadata\n",
    "First, of all we need to create a metadata object of our training data. This simply is a representation of our data."
   ]
  },
  {
   "cell_type": "code",
   "execution_count": 20,
   "metadata": {},
   "outputs": [
    {
     "data": {
      "image/svg+xml": [
       "<?xml version=\"1.0\" encoding=\"UTF-8\" standalone=\"no\"?>\n",
       "<!DOCTYPE svg PUBLIC \"-//W3C//DTD SVG 1.1//EN\"\n",
       " \"http://www.w3.org/Graphics/SVG/1.1/DTD/svg11.dtd\">\n",
       "<!-- Generated by graphviz version 6.0.1 (20220911.1526)\n",
       " -->\n",
       "<!-- Title: Metadata Pages: 1 -->\n",
       "<svg width=\"133pt\" height=\"62pt\"\n",
       " viewBox=\"0.00 0.00 133.00 62.00\" xmlns=\"http://www.w3.org/2000/svg\" xmlns:xlink=\"http://www.w3.org/1999/xlink\">\n",
       "<g id=\"graph0\" class=\"graph\" transform=\"scale(1 1) rotate(0) translate(4 58)\">\n",
       "<title>Metadata</title>\n",
       "<polygon fill=\"white\" stroke=\"none\" points=\"-4,4 -4,-58 129,-58 129,4 -4,4\"/>\n",
       "<g id=\"node1\" class=\"node\">\n",
       "<title></title>\n",
       "<path fill=\"#ffec8b\" stroke=\"black\" d=\"M12,-0.5C12,-0.5 113,-0.5 113,-0.5 119,-0.5 125,-6.5 125,-12.5 125,-12.5 125,-41.5 125,-41.5 125,-47.5 119,-53.5 113,-53.5 113,-53.5 12,-53.5 12,-53.5 6,-53.5 0,-47.5 0,-41.5 0,-41.5 0,-12.5 0,-12.5 0,-6.5 6,-0.5 12,-0.5\"/>\n",
       "<text text-anchor=\"start\" x=\"8\" y=\"-38.3\" font-family=\"Times,serif\" font-size=\"14.00\">Columns</text>\n",
       "<text text-anchor=\"start\" x=\"8\" y=\"-23.3\" font-family=\"Times,serif\" font-size=\"14.00\">    • categorical : 12</text>\n",
       "<text text-anchor=\"start\" x=\"8\" y=\"-8.3\" font-family=\"Times,serif\" font-size=\"14.00\">    • numerical : 2</text>\n",
       "</g>\n",
       "</g>\n",
       "</svg>\n"
      ],
      "text/plain": [
       "<graphviz.graphs.Digraph at 0x15cf20f40>"
      ]
     },
     "execution_count": 20,
     "metadata": {},
     "output_type": "execute_result"
    }
   ],
   "source": [
    "metadata = SingleTableMetadata()\n",
    "\n",
    "try: \n",
    "    metadata = metadata.load_from_json('./synthesizers/metadata.json')\n",
    "except: \n",
    "    metadata.detect_from_dataframe(df_train)\n",
    "    metadata.save_to_json(filepath='./synthesizers/metadata.json')\n",
    "\n",
    "metadata.visualize(\n",
    "    show_table_details='summarized',\n",
    "    output_filepath='./images/my_metadata.png'\n",
    ")"
   ]
  },
  {
   "cell_type": "markdown",
   "metadata": {},
   "source": [
    "Afterwards, we validate the metadata to ensure that it is correct."
   ]
  },
  {
   "cell_type": "code",
   "execution_count": 21,
   "metadata": {},
   "outputs": [],
   "source": [
    "metadata.validate_data(data=df_train)"
   ]
  },
  {
   "cell_type": "markdown",
   "metadata": {},
   "source": [
    "#### GaussianCopulaSynthesizer\n",
    "First we use the GaussianCopulaSynthesizer, to synthesize and save the dataset. Afterwards we evaluate some metrics on the dataset. For more concrete explanations and conclusions, please take a look at our report."
   ]
  },
  {
   "cell_type": "code",
   "execution_count": 22,
   "metadata": {},
   "outputs": [],
   "source": [
    "synthetic_data_gc = generate_synthetic_data(GaussianCopulaSynthesizer(metadata, enforce_min_max_values=True), df_train, fit=False)"
   ]
  },
  {
   "cell_type": "code",
   "execution_count": 23,
   "metadata": {},
   "outputs": [],
   "source": [
    "synthetic_data_gc.to_csv('./data/synthetic_data_GaussianCopulaSynthesizer.csv') #save synthetic data for reproducibility"
   ]
  },
  {
   "cell_type": "markdown",
   "metadata": {},
   "source": [
    "Afterwards, we run a diagnostic check, wether the data generation was successful."
   ]
  },
  {
   "cell_type": "code",
   "execution_count": 24,
   "metadata": {},
   "outputs": [
    {
     "name": "stdout",
     "output_type": "stream",
     "text": [
      "Generating report ...\n",
      "\n",
      "(1/2) Evaluating Data Validity: |██████████| 14/14 [00:00<00:00, 809.33it/s]|\n",
      "Data Validity Score: 100.0%\n",
      "\n",
      "(2/2) Evaluating Data Structure: |██████████| 1/1 [00:00<00:00, 738.56it/s]|\n",
      "Data Structure Score: 100.0%\n",
      "\n",
      "Overall Score (Average): 100.0%\n",
      "\n"
     ]
    }
   ],
   "source": [
    "diagnostic_report = run_diagnostic(real_data=df_train, synthetic_data=synthetic_data_gc,metadata=metadata)"
   ]
  },
  {
   "cell_type": "markdown",
   "metadata": {},
   "source": [
    "##### Fidelity\n",
    "Now, we check for the fidelity by checking how similiar the synthetic data is in comparison to the original one."
   ]
  },
  {
   "cell_type": "code",
   "execution_count": 25,
   "metadata": {},
   "outputs": [
    {
     "name": "stdout",
     "output_type": "stream",
     "text": [
      "Generating report ...\n",
      "\n",
      "(1/2) Evaluating Column Shapes: |██████████| 14/14 [00:00<00:00, 296.45it/s]|\n",
      "Column Shapes Score: 96.52%\n",
      "\n",
      "(2/2) Evaluating Column Pair Trends: |██████████| 91/91 [00:01<00:00, 62.17it/s]|\n",
      "Column Pair Trends Score: 70.37%\n",
      "\n",
      "Overall Score (Average): 83.45%\n",
      "\n"
     ]
    }
   ],
   "source": [
    "my_report = QualityReport()\n",
    "my_report.generate(df_train, synthetic_data_gc, metadata.to_dict())"
   ]
  },
  {
   "cell_type": "code",
   "execution_count": 26,
   "metadata": {},
   "outputs": [
    {
     "data": {
      "text/html": [
       "<div>\n",
       "<style scoped>\n",
       "    .dataframe tbody tr th:only-of-type {\n",
       "        vertical-align: middle;\n",
       "    }\n",
       "\n",
       "    .dataframe tbody tr th {\n",
       "        vertical-align: top;\n",
       "    }\n",
       "\n",
       "    .dataframe thead th {\n",
       "        text-align: right;\n",
       "    }\n",
       "</style>\n",
       "<table border=\"1\" class=\"dataframe\">\n",
       "  <thead>\n",
       "    <tr style=\"text-align: right;\">\n",
       "      <th></th>\n",
       "      <th>Column</th>\n",
       "      <th>Metric</th>\n",
       "      <th>Score</th>\n",
       "    </tr>\n",
       "  </thead>\n",
       "  <tbody>\n",
       "    <tr>\n",
       "      <th>0</th>\n",
       "      <td>Agency_Text</td>\n",
       "      <td>TVComplement</td>\n",
       "      <td>0.998518</td>\n",
       "    </tr>\n",
       "    <tr>\n",
       "      <th>1</th>\n",
       "      <td>Sex_Code_Text</td>\n",
       "      <td>TVComplement</td>\n",
       "      <td>0.996110</td>\n",
       "    </tr>\n",
       "    <tr>\n",
       "      <th>2</th>\n",
       "      <td>Ethnic_Code_Text</td>\n",
       "      <td>TVComplement</td>\n",
       "      <td>0.991479</td>\n",
       "    </tr>\n",
       "    <tr>\n",
       "      <th>3</th>\n",
       "      <td>DateOfBirth</td>\n",
       "      <td>KSComplement</td>\n",
       "      <td>0.589899</td>\n",
       "    </tr>\n",
       "    <tr>\n",
       "      <th>4</th>\n",
       "      <td>ScaleSet_ID</td>\n",
       "      <td>TVComplement</td>\n",
       "      <td>0.999321</td>\n",
       "    </tr>\n",
       "    <tr>\n",
       "      <th>5</th>\n",
       "      <td>AssessmentReason</td>\n",
       "      <td>TVComplement</td>\n",
       "      <td>1.000000</td>\n",
       "    </tr>\n",
       "    <tr>\n",
       "      <th>6</th>\n",
       "      <td>Language</td>\n",
       "      <td>TVComplement</td>\n",
       "      <td>0.999383</td>\n",
       "    </tr>\n",
       "    <tr>\n",
       "      <th>7</th>\n",
       "      <td>LegalStatus</td>\n",
       "      <td>TVComplement</td>\n",
       "      <td>0.997469</td>\n",
       "    </tr>\n",
       "    <tr>\n",
       "      <th>8</th>\n",
       "      <td>CustodyStatus</td>\n",
       "      <td>TVComplement</td>\n",
       "      <td>0.997715</td>\n",
       "    </tr>\n",
       "    <tr>\n",
       "      <th>9</th>\n",
       "      <td>MaritalStatus</td>\n",
       "      <td>TVComplement</td>\n",
       "      <td>0.991665</td>\n",
       "    </tr>\n",
       "    <tr>\n",
       "      <th>10</th>\n",
       "      <td>Screening_Date</td>\n",
       "      <td>KSComplement</td>\n",
       "      <td>0.971474</td>\n",
       "    </tr>\n",
       "    <tr>\n",
       "      <th>11</th>\n",
       "      <td>RecSupervisionLevel</td>\n",
       "      <td>TVComplement</td>\n",
       "      <td>0.989504</td>\n",
       "    </tr>\n",
       "    <tr>\n",
       "      <th>12</th>\n",
       "      <td>Scale_ID</td>\n",
       "      <td>TVComplement</td>\n",
       "      <td>1.000000</td>\n",
       "    </tr>\n",
       "    <tr>\n",
       "      <th>13</th>\n",
       "      <td>ScoreText</td>\n",
       "      <td>TVComplement</td>\n",
       "      <td>0.990615</td>\n",
       "    </tr>\n",
       "  </tbody>\n",
       "</table>\n",
       "</div>"
      ],
      "text/plain": [
       "                 Column        Metric     Score\n",
       "0           Agency_Text  TVComplement  0.998518\n",
       "1         Sex_Code_Text  TVComplement  0.996110\n",
       "2      Ethnic_Code_Text  TVComplement  0.991479\n",
       "3           DateOfBirth  KSComplement  0.589899\n",
       "4           ScaleSet_ID  TVComplement  0.999321\n",
       "5      AssessmentReason  TVComplement  1.000000\n",
       "6              Language  TVComplement  0.999383\n",
       "7           LegalStatus  TVComplement  0.997469\n",
       "8         CustodyStatus  TVComplement  0.997715\n",
       "9         MaritalStatus  TVComplement  0.991665\n",
       "10       Screening_Date  KSComplement  0.971474\n",
       "11  RecSupervisionLevel  TVComplement  0.989504\n",
       "12             Scale_ID  TVComplement  1.000000\n",
       "13            ScoreText  TVComplement  0.990615"
      ]
     },
     "execution_count": 26,
     "metadata": {},
     "output_type": "execute_result"
    }
   ],
   "source": [
    "my_report.get_details(property_name='Column Shapes')"
   ]
  },
  {
   "cell_type": "code",
   "execution_count": 27,
   "metadata": {},
   "outputs": [],
   "source": [
    "fig = my_report.get_visualization(property_name='Column Pair Trends')\n",
    "fig.write_image(\"./images/GaussianCopulaSynthesizer_pair_trends.png\") "
   ]
  },
  {
   "cell_type": "markdown",
   "metadata": {},
   "source": [
    "![Column Pair Trends](./images/GaussianCopulaSynthesizer_pair_trends.png)"
   ]
  },
  {
   "cell_type": "code",
   "execution_count": 28,
   "metadata": {},
   "outputs": [
    {
     "data": {
      "text/plain": [
       "{'CSTest': 0.9990080483172584,\n",
       " 'KSComplement': 0.9243846217172965,\n",
       " 'ContinuousKLDivergence': 0.7606295084583549,\n",
       " 'DiscreteKLDivergence': 0.945688371974372,\n",
       " 'SVCDetection': 0.21826308968047792}"
      ]
     },
     "execution_count": 28,
     "metadata": {},
     "output_type": "execute_result"
    }
   ],
   "source": [
    "evaluate_fidelity(df_train, synthetic_data_gc)"
   ]
  },
  {
   "cell_type": "markdown",
   "metadata": {},
   "source": [
    "##### Utility\n",
    "Secondly, we look how well our classifier performs on this newly generated dataset."
   ]
  },
  {
   "cell_type": "code",
   "execution_count": 29,
   "metadata": {},
   "outputs": [
    {
     "data": {
      "text/plain": [
       "{'accuracy': 0.7540133366263275,\n",
       " 'precision': 0.7197384058509758,\n",
       " 'recall': 0.645978873395046,\n",
       " 'f1': 0.6637658434151851}"
      ]
     },
     "execution_count": 29,
     "metadata": {},
     "output_type": "execute_result"
    }
   ],
   "source": [
    "clf = RandomForestClassifier(n_estimators=250, max_depth=15, random_state=random_state)\n",
    "train_and_evaluate(clf, synthetic_data_gc, df_test, nominal_features, target)"
   ]
  },
  {
   "cell_type": "markdown",
   "metadata": {},
   "source": [
    "##### Privacy\n",
    "Lastly, we look at the privacy aspect of the generated data. Therefore we analyse privacy and inference risks. We don't evaluate linkability risks for one simple reasons. The library is implemented for the usecase where we want to check wether you can link records from one dataset to another, but we are dealing with the same datasets. Furthermore our pre-processing would need to be reverted to let the code execute, which would simply be out of the scope for the expirement.\n",
    "Especially, because the other two metrics give good insights."
   ]
  },
  {
   "cell_type": "code",
   "execution_count": 30,
   "metadata": {},
   "outputs": [
    {
     "name": "stderr",
     "output_type": "stream",
     "text": [
      "/Users/maxkleinegger/miniconda3/lib/python3.9/site-packages/anonymeter/stats/confidence.py:218: UserWarning:\n",
      "\n",
      "Attack is as good or worse as baseline model. Estimated rates: attack = 0.0019133792427775617, baseline = 0.0019133792427775617. Analysis results cannot be trusted.\n",
      "\n"
     ]
    },
    {
     "data": {
      "text/plain": [
       "{'univariate': PrivacyRisk(value=0.0019133792427775617, ci=(0.0, 0.0038267584855551234)),\n",
       " 'multivariate': PrivacyRisk(value=0.032794749729725355, ci=(0.021924003447158568, 0.04366549601229214))}"
      ]
     },
     "execution_count": 30,
     "metadata": {},
     "output_type": "execute_result"
    }
   ],
   "source": [
    "evaluate_privacy_risks(df_train, synthetic_data_gc)"
   ]
  },
  {
   "cell_type": "code",
   "execution_count": 31,
   "metadata": {},
   "outputs": [
    {
     "name": "stderr",
     "output_type": "stream",
     "text": [
      "/Users/maxkleinegger/miniconda3/lib/python3.9/site-packages/anonymeter/stats/confidence.py:218: UserWarning:\n",
      "\n",
      "Attack is as good or worse as baseline model. Estimated rates: attack = 0.6573953721592822, baseline = 0.6713417975404845. Analysis results cannot be trusted.\n",
      "\n",
      "/Users/maxkleinegger/miniconda3/lib/python3.9/site-packages/anonymeter/stats/confidence.py:218: UserWarning:\n",
      "\n",
      "Attack is as good or worse as baseline model. Estimated rates: attack = 0.3445969743237466, baseline = 0.35953957294646327. Analysis results cannot be trusted.\n",
      "\n",
      "/Users/maxkleinegger/miniconda3/lib/python3.9/site-packages/anonymeter/stats/confidence.py:218: UserWarning:\n",
      "\n",
      "Attack is as good or worse as baseline model. Estimated rates: attack = 0.047737348352442026, baseline = 0.05271821456001425. Analysis results cannot be trusted.\n",
      "\n",
      "/Users/maxkleinegger/miniconda3/lib/python3.9/site-packages/anonymeter/stats/confidence.py:218: UserWarning:\n",
      "\n",
      "Attack is as good or worse as baseline model. Estimated rates: attack = 0.9980866207572224, baseline = 0.9980866207572224. Analysis results cannot be trusted.\n",
      "\n",
      "/Users/maxkleinegger/miniconda3/lib/python3.9/site-packages/anonymeter/stats/confidence.py:218: UserWarning:\n",
      "\n",
      "Attack is as good or worse as baseline model. Estimated rates: attack = 0.9980866207572224, baseline = 0.9980866207572224. Analysis results cannot be trusted.\n",
      "\n",
      "/Users/maxkleinegger/miniconda3/lib/python3.9/site-packages/anonymeter/stats/confidence.py:218: UserWarning:\n",
      "\n",
      "Attack is as good or worse as baseline model. Estimated rates: attack = 0.9980866207572224, baseline = 0.9980866207572224. Analysis results cannot be trusted.\n",
      "\n"
     ]
    },
    {
     "data": {
      "image/png": "[encoded data removed]",
      "text/plain": [
       "<Figure size 640x480 with 1 Axes>"
      ]
     },
     "metadata": {},
     "output_type": "display_data"
    }
   ],
   "source": [
    "evaluate_inference_risks(df_train, synthetic_data_gc)"
   ]
  },
  {
   "cell_type": "markdown",
   "metadata": {},
   "source": [
    "#### CTGANSynthesizer\n",
    "Second we use the CTGANSynthesizer, to synthesize and save the dataset. Afterwards we evaluate some metrics on the dataset. For more concrete explanations and conclusions, please take a look at our report."
   ]
  },
  {
   "cell_type": "code",
   "execution_count": 32,
   "metadata": {},
   "outputs": [],
   "source": [
    "synthetic_data_ctgan = generate_synthetic_data(CTGANSynthesizer(metadata, enforce_min_max_values=True, epochs=100), df_train, fit=False)"
   ]
  },
  {
   "cell_type": "code",
   "execution_count": 33,
   "metadata": {},
   "outputs": [],
   "source": [
    "synthetic_data_ctgan.to_csv('./data/synthetic_data_CTGANSynthesizer.csv') #save synthetic data for reproducibility"
   ]
  },
  {
   "cell_type": "markdown",
   "metadata": {},
   "source": [
    "Afterwards, we run a diagnostic check, wether the data generation was successful."
   ]
  },
  {
   "cell_type": "code",
   "execution_count": 34,
   "metadata": {},
   "outputs": [
    {
     "name": "stdout",
     "output_type": "stream",
     "text": [
      "Generating report ...\n",
      "\n",
      "(1/2) Evaluating Data Validity: |██████████| 14/14 [00:00<00:00, 668.13it/s]|\n",
      "Data Validity Score: 100.0%\n",
      "\n",
      "(2/2) Evaluating Data Structure: |██████████| 1/1 [00:00<00:00, 1190.21it/s]|\n",
      "Data Structure Score: 100.0%\n",
      "\n",
      "Overall Score (Average): 100.0%\n",
      "\n"
     ]
    }
   ],
   "source": [
    "diagnostic_report = run_diagnostic(real_data=df_train, synthetic_data=synthetic_data_ctgan, metadata=metadata)"
   ]
  },
  {
   "cell_type": "markdown",
   "metadata": {},
   "source": [
    "##### Fidelity\n",
    "Now, we check for the fidelity by checking how similiar the synthetic data is in comparison to the original one."
   ]
  },
  {
   "cell_type": "code",
   "execution_count": 35,
   "metadata": {},
   "outputs": [
    {
     "name": "stdout",
     "output_type": "stream",
     "text": [
      "Generating report ...\n",
      "\n",
      "(1/2) Evaluating Column Shapes: |██████████| 14/14 [00:00<00:00, 271.44it/s]|\n",
      "Column Shapes Score: 92.65%\n",
      "\n",
      "(2/2) Evaluating Column Pair Trends: |██████████| 91/91 [00:01<00:00, 57.09it/s]|\n",
      "Column Pair Trends Score: 65.65%\n",
      "\n",
      "Overall Score (Average): 79.15%\n",
      "\n"
     ]
    }
   ],
   "source": [
    "my_report = QualityReport()\n",
    "my_report.generate(df_train, synthetic_data_ctgan, metadata.to_dict())"
   ]
  },
  {
   "cell_type": "code",
   "execution_count": 36,
   "metadata": {},
   "outputs": [
    {
     "data": {
      "text/html": [
       "<div>\n",
       "<style scoped>\n",
       "    .dataframe tbody tr th:only-of-type {\n",
       "        vertical-align: middle;\n",
       "    }\n",
       "\n",
       "    .dataframe tbody tr th {\n",
       "        vertical-align: top;\n",
       "    }\n",
       "\n",
       "    .dataframe thead th {\n",
       "        text-align: right;\n",
       "    }\n",
       "</style>\n",
       "<table border=\"1\" class=\"dataframe\">\n",
       "  <thead>\n",
       "    <tr style=\"text-align: right;\">\n",
       "      <th></th>\n",
       "      <th>Column</th>\n",
       "      <th>Metric</th>\n",
       "      <th>Score</th>\n",
       "    </tr>\n",
       "  </thead>\n",
       "  <tbody>\n",
       "    <tr>\n",
       "      <th>0</th>\n",
       "      <td>Agency_Text</td>\n",
       "      <td>TVComplement</td>\n",
       "      <td>0.947086</td>\n",
       "    </tr>\n",
       "    <tr>\n",
       "      <th>1</th>\n",
       "      <td>Sex_Code_Text</td>\n",
       "      <td>TVComplement</td>\n",
       "      <td>0.907755</td>\n",
       "    </tr>\n",
       "    <tr>\n",
       "      <th>2</th>\n",
       "      <td>Ethnic_Code_Text</td>\n",
       "      <td>TVComplement</td>\n",
       "      <td>0.863608</td>\n",
       "    </tr>\n",
       "    <tr>\n",
       "      <th>3</th>\n",
       "      <td>DateOfBirth</td>\n",
       "      <td>KSComplement</td>\n",
       "      <td>0.896765</td>\n",
       "    </tr>\n",
       "    <tr>\n",
       "      <th>4</th>\n",
       "      <td>ScaleSet_ID</td>\n",
       "      <td>TVComplement</td>\n",
       "      <td>0.954495</td>\n",
       "    </tr>\n",
       "    <tr>\n",
       "      <th>5</th>\n",
       "      <td>AssessmentReason</td>\n",
       "      <td>TVComplement</td>\n",
       "      <td>1.000000</td>\n",
       "    </tr>\n",
       "    <tr>\n",
       "      <th>6</th>\n",
       "      <td>Language</td>\n",
       "      <td>TVComplement</td>\n",
       "      <td>0.978822</td>\n",
       "    </tr>\n",
       "    <tr>\n",
       "      <th>7</th>\n",
       "      <td>LegalStatus</td>\n",
       "      <td>TVComplement</td>\n",
       "      <td>0.873611</td>\n",
       "    </tr>\n",
       "    <tr>\n",
       "      <th>8</th>\n",
       "      <td>CustodyStatus</td>\n",
       "      <td>TVComplement</td>\n",
       "      <td>0.859718</td>\n",
       "    </tr>\n",
       "    <tr>\n",
       "      <th>9</th>\n",
       "      <td>MaritalStatus</td>\n",
       "      <td>TVComplement</td>\n",
       "      <td>0.921956</td>\n",
       "    </tr>\n",
       "    <tr>\n",
       "      <th>10</th>\n",
       "      <td>Screening_Date</td>\n",
       "      <td>KSComplement</td>\n",
       "      <td>0.835762</td>\n",
       "    </tr>\n",
       "    <tr>\n",
       "      <th>11</th>\n",
       "      <td>RecSupervisionLevel</td>\n",
       "      <td>TVComplement</td>\n",
       "      <td>0.959496</td>\n",
       "    </tr>\n",
       "    <tr>\n",
       "      <th>12</th>\n",
       "      <td>Scale_ID</td>\n",
       "      <td>TVComplement</td>\n",
       "      <td>1.000000</td>\n",
       "    </tr>\n",
       "    <tr>\n",
       "      <th>13</th>\n",
       "      <td>ScoreText</td>\n",
       "      <td>TVComplement</td>\n",
       "      <td>0.972462</td>\n",
       "    </tr>\n",
       "  </tbody>\n",
       "</table>\n",
       "</div>"
      ],
      "text/plain": [
       "                 Column        Metric     Score\n",
       "0           Agency_Text  TVComplement  0.947086\n",
       "1         Sex_Code_Text  TVComplement  0.907755\n",
       "2      Ethnic_Code_Text  TVComplement  0.863608\n",
       "3           DateOfBirth  KSComplement  0.896765\n",
       "4           ScaleSet_ID  TVComplement  0.954495\n",
       "5      AssessmentReason  TVComplement  1.000000\n",
       "6              Language  TVComplement  0.978822\n",
       "7           LegalStatus  TVComplement  0.873611\n",
       "8         CustodyStatus  TVComplement  0.859718\n",
       "9         MaritalStatus  TVComplement  0.921956\n",
       "10       Screening_Date  KSComplement  0.835762\n",
       "11  RecSupervisionLevel  TVComplement  0.959496\n",
       "12             Scale_ID  TVComplement  1.000000\n",
       "13            ScoreText  TVComplement  0.972462"
      ]
     },
     "execution_count": 36,
     "metadata": {},
     "output_type": "execute_result"
    }
   ],
   "source": [
    "my_report.get_details(property_name='Column Shapes')"
   ]
  },
  {
   "cell_type": "code",
   "execution_count": 37,
   "metadata": {},
   "outputs": [],
   "source": [
    "fig = my_report.get_visualization(property_name='Column Pair Trends')\n",
    "fig.write_image(\"./images/CTGANSynthesizer_pair_trends.png\") "
   ]
  },
  {
   "cell_type": "markdown",
   "metadata": {},
   "source": [
    "![Column Pair Trends](./images/CTGANSynthesizer_pair_trends.png)"
   ]
  },
  {
   "cell_type": "code",
   "execution_count": 38,
   "metadata": {},
   "outputs": [
    {
     "data": {
      "text/plain": [
       "{'CSTest': 0.9653509131439245,\n",
       " 'KSComplement': 0.9262575121429159,\n",
       " 'ContinuousKLDivergence': 0.9359587095213218,\n",
       " 'DiscreteKLDivergence': 0.9073109301724503,\n",
       " 'SVCDetection': 0.44661819310389894}"
      ]
     },
     "execution_count": 38,
     "metadata": {},
     "output_type": "execute_result"
    }
   ],
   "source": [
    "evaluate_fidelity(df_train, synthetic_data_ctgan)"
   ]
  },
  {
   "cell_type": "markdown",
   "metadata": {},
   "source": [
    "##### Utility\n",
    "Secondly, we look how well our classifier performs on this newly generated dataset."
   ]
  },
  {
   "cell_type": "code",
   "execution_count": 39,
   "metadata": {},
   "outputs": [
    {
     "data": {
      "text/plain": [
       "{'accuracy': 0.8821931341071869,\n",
       " 'precision': 0.8942090833471434,\n",
       " 'recall': 0.8461484600287045,\n",
       " 'f1': 0.8599947538966844}"
      ]
     },
     "execution_count": 39,
     "metadata": {},
     "output_type": "execute_result"
    }
   ],
   "source": [
    "clf = RandomForestClassifier(n_estimators=250, max_depth=15, random_state=random_state)\n",
    "train_and_evaluate(clf, synthetic_data_ctgan, df_test, nominal_features, target)"
   ]
  },
  {
   "cell_type": "markdown",
   "metadata": {},
   "source": [
    "##### Privacy\n",
    "Lastly, we look at the privacy aspect of the generated data. Therefore we analyse privacy and inference risks. We don't evaluate linkability risks for one simple reasons. The library is implemented for the usecase where we want to check wether you can link records from one dataset to another, but we are dealing with the same datasets. Furthermore our pre-processing would need to be reverted to let the code execute, which would simply be out of the scope for the expirement.\n",
    "Especially, because the other two metrics give good insights."
   ]
  },
  {
   "cell_type": "code",
   "execution_count": 40,
   "metadata": {},
   "outputs": [
    {
     "name": "stderr",
     "output_type": "stream",
     "text": [
      "/Users/maxkleinegger/miniconda3/lib/python3.9/site-packages/anonymeter/stats/confidence.py:218: UserWarning:\n",
      "\n",
      "Attack is as good or worse as baseline model. Estimated rates: attack = 0.0019133792427775617, baseline = 0.0019133792427775617. Analysis results cannot be trusted.\n",
      "\n"
     ]
    },
    {
     "data": {
      "text/plain": [
       "{'univariate': PrivacyRisk(value=0.0019133792427775617, ci=(0.0, 0.0038267584855551234)),\n",
       " 'multivariate': PrivacyRisk(value=0.09555366394513538, ci=(0.07743417357376373, 0.11367315431650704))}"
      ]
     },
     "execution_count": 40,
     "metadata": {},
     "output_type": "execute_result"
    }
   ],
   "source": [
    "evaluate_privacy_risks(df_train, synthetic_data_ctgan)"
   ]
  },
  {
   "cell_type": "code",
   "execution_count": 41,
   "metadata": {},
   "outputs": [
    {
     "name": "stderr",
     "output_type": "stream",
     "text": [
      "/Users/maxkleinegger/miniconda3/lib/python3.9/site-packages/anonymeter/stats/confidence.py:218: UserWarning:\n",
      "\n",
      "Attack is as good or worse as baseline model. Estimated rates: attack = 0.9980866207572224, baseline = 0.9980866207572224. Analysis results cannot be trusted.\n",
      "\n",
      "/Users/maxkleinegger/miniconda3/lib/python3.9/site-packages/anonymeter/stats/confidence.py:218: UserWarning:\n",
      "\n",
      "Attack is as good or worse as baseline model. Estimated rates: attack = 0.9980866207572224, baseline = 0.9980866207572224. Analysis results cannot be trusted.\n",
      "\n",
      "/Users/maxkleinegger/miniconda3/lib/python3.9/site-packages/anonymeter/stats/confidence.py:218: UserWarning:\n",
      "\n",
      "Attack is as good or worse as baseline model. Estimated rates: attack = 0.9980866207572224, baseline = 0.9980866207572224. Analysis results cannot be trusted.\n",
      "\n"
     ]
    },
    {
     "data": {
      "image/png": "[encoded data removed]",
      "text/plain": [
       "<Figure size 640x480 with 1 Axes>"
      ]
     },
     "metadata": {},
     "output_type": "display_data"
    }
   ],
   "source": [
    "evaluate_inference_risks(df_train, synthetic_data_ctgan)"
   ]
  },
  {
   "cell_type": "markdown",
   "metadata": {},
   "source": [
    "#### TVAESynthesizer\n",
    "Third we use the TVAESynthesizer, to synthesize and save the dataset. Afterwards we evaluate some metrics on the dataset. For more concrete explanations and conclusions, please take a look at our report."
   ]
  },
  {
   "cell_type": "code",
   "execution_count": 42,
   "metadata": {},
   "outputs": [],
   "source": [
    "synthetic_data_tvae = generate_synthetic_data(TVAESynthesizer(metadata, enforce_min_max_values=True, epochs=100), df_train, fit=False)"
   ]
  },
  {
   "cell_type": "code",
   "execution_count": 43,
   "metadata": {},
   "outputs": [],
   "source": [
    "synthetic_data_tvae.to_csv('./data/synthetic_data_TVAESynthesizer.csv') #save synthetic data for reproducibility"
   ]
  },
  {
   "cell_type": "markdown",
   "metadata": {},
   "source": [
    "Afterwards, we run a diagnostic check, wether the data generation was successful."
   ]
  },
  {
   "cell_type": "code",
   "execution_count": 44,
   "metadata": {},
   "outputs": [
    {
     "name": "stdout",
     "output_type": "stream",
     "text": [
      "Generating report ...\n",
      "\n",
      "(1/2) Evaluating Data Validity: |██████████| 14/14 [00:00<00:00, 639.97it/s]|\n",
      "Data Validity Score: 100.0%\n",
      "\n",
      "(2/2) Evaluating Data Structure: |██████████| 1/1 [00:00<00:00, 1067.25it/s]|\n",
      "Data Structure Score: 100.0%\n",
      "\n",
      "Overall Score (Average): 100.0%\n",
      "\n"
     ]
    }
   ],
   "source": [
    "diagnostic_report = run_diagnostic(real_data=df_train, synthetic_data=synthetic_data_tvae, metadata=metadata)"
   ]
  },
  {
   "cell_type": "markdown",
   "metadata": {},
   "source": [
    "##### Fidelity\n",
    "Now, we check for the fidelity by checking how similiar the synthetic data is in comparison to the original one."
   ]
  },
  {
   "cell_type": "code",
   "execution_count": 45,
   "metadata": {},
   "outputs": [
    {
     "name": "stdout",
     "output_type": "stream",
     "text": [
      "Generating report ...\n",
      "\n",
      "(1/2) Evaluating Column Shapes: |██████████| 14/14 [00:00<00:00, 270.97it/s]|\n",
      "Column Shapes Score: 93.0%\n",
      "\n",
      "(2/2) Evaluating Column Pair Trends: |██████████| 91/91 [00:01<00:00, 58.47it/s]|\n",
      "Column Pair Trends Score: 66.8%\n",
      "\n",
      "Overall Score (Average): 79.9%\n",
      "\n"
     ]
    }
   ],
   "source": [
    "my_report = QualityReport()\n",
    "my_report.generate(df_train, synthetic_data_tvae, metadata.to_dict())"
   ]
  },
  {
   "cell_type": "code",
   "execution_count": 46,
   "metadata": {},
   "outputs": [
    {
     "data": {
      "text/html": [
       "<div>\n",
       "<style scoped>\n",
       "    .dataframe tbody tr th:only-of-type {\n",
       "        vertical-align: middle;\n",
       "    }\n",
       "\n",
       "    .dataframe tbody tr th {\n",
       "        vertical-align: top;\n",
       "    }\n",
       "\n",
       "    .dataframe thead th {\n",
       "        text-align: right;\n",
       "    }\n",
       "</style>\n",
       "<table border=\"1\" class=\"dataframe\">\n",
       "  <thead>\n",
       "    <tr style=\"text-align: right;\">\n",
       "      <th></th>\n",
       "      <th>Column</th>\n",
       "      <th>Metric</th>\n",
       "      <th>Score</th>\n",
       "    </tr>\n",
       "  </thead>\n",
       "  <tbody>\n",
       "    <tr>\n",
       "      <th>0</th>\n",
       "      <td>Agency_Text</td>\n",
       "      <td>TVComplement</td>\n",
       "      <td>0.946900</td>\n",
       "    </tr>\n",
       "    <tr>\n",
       "      <th>1</th>\n",
       "      <td>Sex_Code_Text</td>\n",
       "      <td>TVComplement</td>\n",
       "      <td>0.817301</td>\n",
       "    </tr>\n",
       "    <tr>\n",
       "      <th>2</th>\n",
       "      <td>Ethnic_Code_Text</td>\n",
       "      <td>TVComplement</td>\n",
       "      <td>0.900037</td>\n",
       "    </tr>\n",
       "    <tr>\n",
       "      <th>3</th>\n",
       "      <td>DateOfBirth</td>\n",
       "      <td>KSComplement</td>\n",
       "      <td>0.952828</td>\n",
       "    </tr>\n",
       "    <tr>\n",
       "      <th>4</th>\n",
       "      <td>ScaleSet_ID</td>\n",
       "      <td>TVComplement</td>\n",
       "      <td>0.968511</td>\n",
       "    </tr>\n",
       "    <tr>\n",
       "      <th>5</th>\n",
       "      <td>AssessmentReason</td>\n",
       "      <td>TVComplement</td>\n",
       "      <td>1.000000</td>\n",
       "    </tr>\n",
       "    <tr>\n",
       "      <th>6</th>\n",
       "      <td>Language</td>\n",
       "      <td>TVComplement</td>\n",
       "      <td>0.995925</td>\n",
       "    </tr>\n",
       "    <tr>\n",
       "      <th>7</th>\n",
       "      <td>LegalStatus</td>\n",
       "      <td>TVComplement</td>\n",
       "      <td>0.917572</td>\n",
       "    </tr>\n",
       "    <tr>\n",
       "      <th>8</th>\n",
       "      <td>CustodyStatus</td>\n",
       "      <td>TVComplement</td>\n",
       "      <td>0.969499</td>\n",
       "    </tr>\n",
       "    <tr>\n",
       "      <th>9</th>\n",
       "      <td>MaritalStatus</td>\n",
       "      <td>TVComplement</td>\n",
       "      <td>0.900654</td>\n",
       "    </tr>\n",
       "    <tr>\n",
       "      <th>10</th>\n",
       "      <td>Screening_Date</td>\n",
       "      <td>KSComplement</td>\n",
       "      <td>0.686404</td>\n",
       "    </tr>\n",
       "    <tr>\n",
       "      <th>11</th>\n",
       "      <td>RecSupervisionLevel</td>\n",
       "      <td>TVComplement</td>\n",
       "      <td>0.987898</td>\n",
       "    </tr>\n",
       "    <tr>\n",
       "      <th>12</th>\n",
       "      <td>Scale_ID</td>\n",
       "      <td>TVComplement</td>\n",
       "      <td>1.000000</td>\n",
       "    </tr>\n",
       "    <tr>\n",
       "      <th>13</th>\n",
       "      <td>ScoreText</td>\n",
       "      <td>TVComplement</td>\n",
       "      <td>0.976537</td>\n",
       "    </tr>\n",
       "  </tbody>\n",
       "</table>\n",
       "</div>"
      ],
      "text/plain": [
       "                 Column        Metric     Score\n",
       "0           Agency_Text  TVComplement  0.946900\n",
       "1         Sex_Code_Text  TVComplement  0.817301\n",
       "2      Ethnic_Code_Text  TVComplement  0.900037\n",
       "3           DateOfBirth  KSComplement  0.952828\n",
       "4           ScaleSet_ID  TVComplement  0.968511\n",
       "5      AssessmentReason  TVComplement  1.000000\n",
       "6              Language  TVComplement  0.995925\n",
       "7           LegalStatus  TVComplement  0.917572\n",
       "8         CustodyStatus  TVComplement  0.969499\n",
       "9         MaritalStatus  TVComplement  0.900654\n",
       "10       Screening_Date  KSComplement  0.686404\n",
       "11  RecSupervisionLevel  TVComplement  0.987898\n",
       "12             Scale_ID  TVComplement  1.000000\n",
       "13            ScoreText  TVComplement  0.976537"
      ]
     },
     "execution_count": 46,
     "metadata": {},
     "output_type": "execute_result"
    }
   ],
   "source": [
    "my_report.get_details(property_name='Column Shapes')"
   ]
  },
  {
   "cell_type": "code",
   "execution_count": 47,
   "metadata": {},
   "outputs": [],
   "source": [
    "fig = my_report.get_visualization(property_name='Column Pair Trends')\n",
    "fig.write_image(\"./images/TVAESynthesizer_pair_trends.png\") "
   ]
  },
  {
   "cell_type": "markdown",
   "metadata": {},
   "source": [
    "![Column Pair Trends](./images/TVAESynthesizer_pair_trends.png)"
   ]
  },
  {
   "cell_type": "code",
   "execution_count": 48,
   "metadata": {},
   "outputs": [
    {
     "data": {
      "text/plain": [
       "{'CSTest': 0.9933496812210934,\n",
       " 'KSComplement': 0.9029492878900139,\n",
       " 'ContinuousKLDivergence': 0.8790471956421998,\n",
       " 'DiscreteKLDivergence': 0.9411638437595499,\n",
       " 'SVCDetection': 0.30412576504543354}"
      ]
     },
     "execution_count": 48,
     "metadata": {},
     "output_type": "execute_result"
    }
   ],
   "source": [
    "evaluate_fidelity(df_train, synthetic_data_tvae)"
   ]
  },
  {
   "cell_type": "markdown",
   "metadata": {},
   "source": [
    "##### Utility\n",
    "Secondly, we look how well our classifier performs on this newly generated dataset."
   ]
  },
  {
   "cell_type": "code",
   "execution_count": 51,
   "metadata": {},
   "outputs": [
    {
     "data": {
      "text/plain": [
       "{'accuracy': 0.8933069893800939,\n",
       " 'precision': 0.9045348555994689,\n",
       " 'recall': 0.8654643748709366,\n",
       " 'f1': 0.8737943612780241}"
      ]
     },
     "execution_count": 51,
     "metadata": {},
     "output_type": "execute_result"
    }
   ],
   "source": [
    "clf = RandomForestClassifier(n_estimators=250, max_depth=15, random_state=random_state)\n",
    "train_and_evaluate(clf, synthetic_data_tvae, df_test, nominal_features, target)"
   ]
  },
  {
   "cell_type": "markdown",
   "metadata": {},
   "source": [
    "##### Privacy\n",
    "Lastly, we look at the privacy aspect of the generated data. Therefore we analyse privacy and inference risks. We don't evaluate linkability risks for one simple reasons. The library is implemented for the usecase where we want to check wether you can link records from one dataset to another, but we are dealing with the same datasets. Furthermore our pre-processing would need to be reverted to let the code execute, which would simply be out of the scope for the expirement.\n",
    "Especially, because the other two metrics give good insights."
   ]
  },
  {
   "cell_type": "code",
   "execution_count": 52,
   "metadata": {},
   "outputs": [
    {
     "name": "stderr",
     "output_type": "stream",
     "text": [
      "/Users/maxkleinegger/miniconda3/lib/python3.9/site-packages/anonymeter/stats/confidence.py:218: UserWarning:\n",
      "\n",
      "Attack is as good or worse as baseline model. Estimated rates: attack = 0.0019133792427775617, baseline = 0.0019133792427775617. Analysis results cannot be trusted.\n",
      "\n"
     ]
    },
    {
     "data": {
      "text/plain": [
       "{'univariate': PrivacyRisk(value=0.0019133792427775617, ci=(0.0, 0.0038267584855551234)),\n",
       " 'multivariate': PrivacyRisk(value=0.1822207359568921, ci=(0.15837194044398084, 0.20606953146980334))}"
      ]
     },
     "execution_count": 52,
     "metadata": {},
     "output_type": "execute_result"
    }
   ],
   "source": [
    "evaluate_privacy_risks(df_train, synthetic_data_tvae)"
   ]
  },
  {
   "cell_type": "code",
   "execution_count": 53,
   "metadata": {},
   "outputs": [
    {
     "name": "stderr",
     "output_type": "stream",
     "text": [
      "/Users/maxkleinegger/miniconda3/lib/python3.9/site-packages/anonymeter/stats/confidence.py:218: UserWarning:\n",
      "\n",
      "Attack is as good or worse as baseline model. Estimated rates: attack = 0.7570126963107268, baseline = 0.7580088695522411. Analysis results cannot be trusted.\n",
      "\n",
      "/Users/maxkleinegger/miniconda3/lib/python3.9/site-packages/anonymeter/stats/confidence.py:218: UserWarning:\n",
      "\n",
      "Attack is as good or worse as baseline model. Estimated rates: attack = 0.952262651647558, baseline = 0.9552511713721012. Analysis results cannot be trusted.\n",
      "\n",
      "/Users/maxkleinegger/miniconda3/lib/python3.9/site-packages/anonymeter/stats/confidence.py:218: UserWarning:\n",
      "\n",
      "Attack is as good or worse as baseline model. Estimated rates: attack = 0.9980866207572224, baseline = 0.9980866207572224. Analysis results cannot be trusted.\n",
      "\n",
      "/Users/maxkleinegger/miniconda3/lib/python3.9/site-packages/anonymeter/stats/confidence.py:218: UserWarning:\n",
      "\n",
      "Attack is as good or worse as baseline model. Estimated rates: attack = 0.9941019277911646, baseline = 0.997090447515708. Analysis results cannot be trusted.\n",
      "\n",
      "/Users/maxkleinegger/miniconda3/lib/python3.9/site-packages/anonymeter/stats/confidence.py:218: UserWarning:\n",
      "\n",
      "Attack is as good or worse as baseline model. Estimated rates: attack = 0.9980866207572224, baseline = 0.9980866207572224. Analysis results cannot be trusted.\n",
      "\n",
      "/Users/maxkleinegger/miniconda3/lib/python3.9/site-packages/anonymeter/stats/confidence.py:218: UserWarning:\n",
      "\n",
      "Attack is as good or worse as baseline model. Estimated rates: attack = 0.9980866207572224, baseline = 0.9980866207572224. Analysis results cannot be trusted.\n",
      "\n"
     ]
    },
    {
     "data": {
      "image/png": "[encoded data removed]",
      "text/plain": [
       "<Figure size 640x480 with 1 Axes>"
      ]
     },
     "metadata": {},
     "output_type": "display_data"
    }
   ],
   "source": [
    "evaluate_inference_risks(df_train, synthetic_data_tvae)"
   ]
  },
  {
   "cell_type": "markdown",
   "metadata": {},
   "source": [
    "#### CopulaGANSynthesizer\n",
    "Lastly we use the CopulaGANSynthesizer, to synthesize and save the dataset. Afterwards we evaluate some metrics on the dataset. For more concrete explanations and conclusions, please take a look at our report."
   ]
  },
  {
   "cell_type": "code",
   "execution_count": 54,
   "metadata": {},
   "outputs": [],
   "source": [
    "synthetic_data_cgan = generate_synthetic_data(CopulaGANSynthesizer(metadata, enforce_min_max_values=True, epochs=100), df_train, fit=False)"
   ]
  },
  {
   "cell_type": "code",
   "execution_count": 55,
   "metadata": {},
   "outputs": [],
   "source": [
    "synthetic_data_cgan.to_csv('./data/synthetic_data_CopulaGANSynthesizer.csv') #save synthetic data for reproducibility"
   ]
  },
  {
   "cell_type": "markdown",
   "metadata": {},
   "source": [
    "Afterwards, we run a diagnostic check, wether the data generation was successful."
   ]
  },
  {
   "cell_type": "code",
   "execution_count": 56,
   "metadata": {},
   "outputs": [
    {
     "name": "stdout",
     "output_type": "stream",
     "text": [
      "Generating report ...\n",
      "\n",
      "(1/2) Evaluating Data Validity: |██████████| 14/14 [00:00<00:00, 840.28it/s]|\n",
      "Data Validity Score: 100.0%\n",
      "\n",
      "(2/2) Evaluating Data Structure: |██████████| 1/1 [00:00<00:00, 1043.88it/s]|\n",
      "Data Structure Score: 100.0%\n",
      "\n",
      "Overall Score (Average): 100.0%\n",
      "\n"
     ]
    }
   ],
   "source": [
    "diagnostic_report = run_diagnostic(real_data=df_train, synthetic_data=synthetic_data_cgan, metadata=metadata)"
   ]
  },
  {
   "cell_type": "markdown",
   "metadata": {},
   "source": [
    "##### Fidelity\n",
    "Now, we check for the fidelity by checking how similiar the synthetic data is in comparison to the original one."
   ]
  },
  {
   "cell_type": "code",
   "execution_count": 57,
   "metadata": {},
   "outputs": [
    {
     "name": "stdout",
     "output_type": "stream",
     "text": [
      "Generating report ...\n",
      "\n",
      "(1/2) Evaluating Column Shapes: |██████████| 14/14 [00:00<00:00, 274.12it/s]|\n",
      "Column Shapes Score: 92.29%\n",
      "\n",
      "(2/2) Evaluating Column Pair Trends: |██████████| 91/91 [00:01<00:00, 62.82it/s]|\n",
      "Column Pair Trends Score: 64.53%\n",
      "\n",
      "Overall Score (Average): 78.41%\n",
      "\n"
     ]
    }
   ],
   "source": [
    "my_report = QualityReport()\n",
    "my_report.generate(df_train, synthetic_data_cgan, metadata.to_dict())"
   ]
  },
  {
   "cell_type": "code",
   "execution_count": 58,
   "metadata": {},
   "outputs": [
    {
     "data": {
      "text/html": [
       "<div>\n",
       "<style scoped>\n",
       "    .dataframe tbody tr th:only-of-type {\n",
       "        vertical-align: middle;\n",
       "    }\n",
       "\n",
       "    .dataframe tbody tr th {\n",
       "        vertical-align: top;\n",
       "    }\n",
       "\n",
       "    .dataframe thead th {\n",
       "        text-align: right;\n",
       "    }\n",
       "</style>\n",
       "<table border=\"1\" class=\"dataframe\">\n",
       "  <thead>\n",
       "    <tr style=\"text-align: right;\">\n",
       "      <th></th>\n",
       "      <th>Column</th>\n",
       "      <th>Metric</th>\n",
       "      <th>Score</th>\n",
       "    </tr>\n",
       "  </thead>\n",
       "  <tbody>\n",
       "    <tr>\n",
       "      <th>0</th>\n",
       "      <td>Agency_Text</td>\n",
       "      <td>TVComplement</td>\n",
       "      <td>0.932329</td>\n",
       "    </tr>\n",
       "    <tr>\n",
       "      <th>1</th>\n",
       "      <td>Sex_Code_Text</td>\n",
       "      <td>TVComplement</td>\n",
       "      <td>0.853482</td>\n",
       "    </tr>\n",
       "    <tr>\n",
       "      <th>2</th>\n",
       "      <td>Ethnic_Code_Text</td>\n",
       "      <td>TVComplement</td>\n",
       "      <td>0.846876</td>\n",
       "    </tr>\n",
       "    <tr>\n",
       "      <th>3</th>\n",
       "      <td>DateOfBirth</td>\n",
       "      <td>KSComplement</td>\n",
       "      <td>0.901951</td>\n",
       "    </tr>\n",
       "    <tr>\n",
       "      <th>4</th>\n",
       "      <td>ScaleSet_ID</td>\n",
       "      <td>TVComplement</td>\n",
       "      <td>0.926031</td>\n",
       "    </tr>\n",
       "    <tr>\n",
       "      <th>5</th>\n",
       "      <td>AssessmentReason</td>\n",
       "      <td>TVComplement</td>\n",
       "      <td>1.000000</td>\n",
       "    </tr>\n",
       "    <tr>\n",
       "      <th>6</th>\n",
       "      <td>Language</td>\n",
       "      <td>TVComplement</td>\n",
       "      <td>0.973018</td>\n",
       "    </tr>\n",
       "    <tr>\n",
       "      <th>7</th>\n",
       "      <td>LegalStatus</td>\n",
       "      <td>TVComplement</td>\n",
       "      <td>0.964806</td>\n",
       "    </tr>\n",
       "    <tr>\n",
       "      <th>8</th>\n",
       "      <td>CustodyStatus</td>\n",
       "      <td>TVComplement</td>\n",
       "      <td>0.875834</td>\n",
       "    </tr>\n",
       "    <tr>\n",
       "      <th>9</th>\n",
       "      <td>MaritalStatus</td>\n",
       "      <td>TVComplement</td>\n",
       "      <td>0.938812</td>\n",
       "    </tr>\n",
       "    <tr>\n",
       "      <th>10</th>\n",
       "      <td>Screening_Date</td>\n",
       "      <td>KSComplement</td>\n",
       "      <td>0.863423</td>\n",
       "    </tr>\n",
       "    <tr>\n",
       "      <th>11</th>\n",
       "      <td>RecSupervisionLevel</td>\n",
       "      <td>TVComplement</td>\n",
       "      <td>0.928871</td>\n",
       "    </tr>\n",
       "    <tr>\n",
       "      <th>12</th>\n",
       "      <td>Scale_ID</td>\n",
       "      <td>TVComplement</td>\n",
       "      <td>1.000000</td>\n",
       "    </tr>\n",
       "    <tr>\n",
       "      <th>13</th>\n",
       "      <td>ScoreText</td>\n",
       "      <td>TVComplement</td>\n",
       "      <td>0.914856</td>\n",
       "    </tr>\n",
       "  </tbody>\n",
       "</table>\n",
       "</div>"
      ],
      "text/plain": [
       "                 Column        Metric     Score\n",
       "0           Agency_Text  TVComplement  0.932329\n",
       "1         Sex_Code_Text  TVComplement  0.853482\n",
       "2      Ethnic_Code_Text  TVComplement  0.846876\n",
       "3           DateOfBirth  KSComplement  0.901951\n",
       "4           ScaleSet_ID  TVComplement  0.926031\n",
       "5      AssessmentReason  TVComplement  1.000000\n",
       "6              Language  TVComplement  0.973018\n",
       "7           LegalStatus  TVComplement  0.964806\n",
       "8         CustodyStatus  TVComplement  0.875834\n",
       "9         MaritalStatus  TVComplement  0.938812\n",
       "10       Screening_Date  KSComplement  0.863423\n",
       "11  RecSupervisionLevel  TVComplement  0.928871\n",
       "12             Scale_ID  TVComplement  1.000000\n",
       "13            ScoreText  TVComplement  0.914856"
      ]
     },
     "execution_count": 58,
     "metadata": {},
     "output_type": "execute_result"
    }
   ],
   "source": [
    "my_report.get_details(property_name='Column Shapes')"
   ]
  },
  {
   "cell_type": "code",
   "execution_count": 59,
   "metadata": {},
   "outputs": [],
   "source": [
    "fig = my_report.get_visualization(property_name='Column Pair Trends')\n",
    "fig.write_image(\"./images/CopulaGANSynthesizer_pair_trends.png\") "
   ]
  },
  {
   "cell_type": "markdown",
   "metadata": {},
   "source": [
    "![Column Pair Trends](./images/CopulaGANSynthesizer_pair_trends.png)"
   ]
  },
  {
   "cell_type": "code",
   "execution_count": 60,
   "metadata": {},
   "outputs": [
    {
     "data": {
      "text/plain": [
       "{'CSTest': 0.9538039790975126,\n",
       " 'KSComplement': 0.9146085453198319,\n",
       " 'ContinuousKLDivergence': 0.893460136390506,\n",
       " 'DiscreteKLDivergence': 0.8946714683156579,\n",
       " 'SVCDetection': 0.38210345977611226}"
      ]
     },
     "execution_count": 60,
     "metadata": {},
     "output_type": "execute_result"
    }
   ],
   "source": [
    "evaluate_fidelity(df_train, synthetic_data_cgan)"
   ]
  },
  {
   "cell_type": "markdown",
   "metadata": {},
   "source": [
    "##### Utility\n",
    "Secondly, we look how well our classifier performs on this newly generated dataset."
   ]
  },
  {
   "cell_type": "code",
   "execution_count": 61,
   "metadata": {},
   "outputs": [
    {
     "data": {
      "text/plain": [
       "{'accuracy': 0.8653988639170166,\n",
       " 'precision': 0.8807358003594011,\n",
       " 'recall': 0.8209411298041577,\n",
       " 'f1': 0.8362656609046129}"
      ]
     },
     "execution_count": 61,
     "metadata": {},
     "output_type": "execute_result"
    }
   ],
   "source": [
    "clf = RandomForestClassifier(n_estimators=250, max_depth=15, random_state=random_state)\n",
    "train_and_evaluate(clf, synthetic_data_cgan, df_test, nominal_features, target)"
   ]
  },
  {
   "cell_type": "markdown",
   "metadata": {},
   "source": [
    "##### Privacy\n",
    "Lastly, we look at the privacy aspect of the generated data. Therefore we analyse privacy and inference risks. We don't evaluate linkability risks for one simple reasons. The library is implemented for the usecase where we want to check wether you can link records from one dataset to another, but we are dealing with the same datasets. Furthermore our pre-processing would need to be reverted to let the code execute, which would simply be out of the scope for the expirement.\n",
    "Especially, because the other two metrics give good insights."
   ]
  },
  {
   "cell_type": "code",
   "execution_count": 62,
   "metadata": {},
   "outputs": [
    {
     "name": "stderr",
     "output_type": "stream",
     "text": [
      "/Users/maxkleinegger/miniconda3/lib/python3.9/site-packages/anonymeter/stats/confidence.py:218: UserWarning:\n",
      "\n",
      "Attack is as good or worse as baseline model. Estimated rates: attack = 0.0019133792427775617, baseline = 0.0019133792427775617. Analysis results cannot be trusted.\n",
      "\n"
     ]
    },
    {
     "data": {
      "text/plain": [
       "{'univariate': PrivacyRisk(value=0.0019133792427775617, ci=(0.0, 0.0038267584855551234)),\n",
       " 'multivariate': PrivacyRisk(value=0.08160723856393315, ci=(0.06474803809836388, 0.09846643902950242))}"
      ]
     },
     "execution_count": 62,
     "metadata": {},
     "output_type": "execute_result"
    }
   ],
   "source": [
    "evaluate_privacy_risks(df_train, synthetic_data_cgan)"
   ]
  },
  {
   "cell_type": "code",
   "execution_count": 63,
   "metadata": {},
   "outputs": [
    {
     "name": "stderr",
     "output_type": "stream",
     "text": [
      "/Users/maxkleinegger/miniconda3/lib/python3.9/site-packages/anonymeter/stats/confidence.py:218: UserWarning:\n",
      "\n",
      "Attack is as good or worse as baseline model. Estimated rates: attack = 0.5388507564190633, baseline = 0.5876632452532711. Analysis results cannot be trusted.\n",
      "\n",
      "/Users/maxkleinegger/miniconda3/lib/python3.9/site-packages/anonymeter/stats/confidence.py:218: UserWarning:\n",
      "\n",
      "Attack is as good or worse as baseline model. Estimated rates: attack = 0.9980866207572224, baseline = 0.9980866207572224. Analysis results cannot be trusted.\n",
      "\n",
      "/Users/maxkleinegger/miniconda3/lib/python3.9/site-packages/anonymeter/stats/confidence.py:218: UserWarning:\n",
      "\n",
      "Attack is as good or worse as baseline model. Estimated rates: attack = 0.9980866207572224, baseline = 0.9980866207572224. Analysis results cannot be trusted.\n",
      "\n",
      "/Users/maxkleinegger/miniconda3/lib/python3.9/site-packages/anonymeter/stats/confidence.py:218: UserWarning:\n",
      "\n",
      "Attack is as good or worse as baseline model. Estimated rates: attack = 0.9980866207572224, baseline = 0.9980866207572224. Analysis results cannot be trusted.\n",
      "\n"
     ]
    },
    {
     "data": {
      "image/png": "[encoded data removed]",
      "text/plain": [
       "<Figure size 640x480 with 1 Axes>"
      ]
     },
     "metadata": {},
     "output_type": "display_data"
    }
   ],
   "source": [
    "evaluate_inference_risks(df_train, synthetic_data_cgan)"
   ]
  },
  {
   "cell_type": "markdown",
   "metadata": {},
   "source": [
    "### DataSynthesizer\n",
    "Secondly, we implemented the DataSynthesizer, which is based on Bayesian Networks, to check how well this approach works on our sample data. For this we use two approaches. First we use independent-mode, which assumes all attributes are statistically indepentent to each other and second we use the correlation-mode which assumes non-independence between variables"
   ]
  },
  {
   "cell_type": "code",
   "execution_count": 80,
   "metadata": {},
   "outputs": [],
   "source": [
    "from DataSynthesizer.lib.utils import display_bayesian_network"
   ]
  },
  {
   "cell_type": "markdown",
   "metadata": {},
   "source": [
    "#### Independent attribute mode"
   ]
  },
  {
   "cell_type": "code",
   "execution_count": 96,
   "metadata": {},
   "outputs": [],
   "source": [
    "synthetic_data_independet_mode, _ = generate_synthetic_data(df_train, 'independent_attribute_mode', 13)"
   ]
  },
  {
   "cell_type": "markdown",
   "metadata": {},
   "source": [
    "Afterwards, we run a diagnostic check, wether the data generation was successful."
   ]
  },
  {
   "cell_type": "code",
   "execution_count": 102,
   "metadata": {},
   "outputs": [
    {
     "name": "stdout",
     "output_type": "stream",
     "text": [
      "Generating report ...\n",
      "\n",
      "(1/2) Evaluating Data Validity: |██████████| 14/14 [00:00<00:00, 739.91it/s]|\n",
      "Data Validity Score: 100.0%\n",
      "\n",
      "(2/2) Evaluating Data Structure: |██████████| 1/1 [00:00<00:00, 1059.17it/s]|\n",
      "Data Structure Score: 100.0%\n",
      "\n",
      "Overall Score (Average): 100.0%\n",
      "\n"
     ]
    }
   ],
   "source": [
    "diagnostic_report = run_diagnostic(real_data=df_train, synthetic_data=synthetic_data_independet_mode, metadata=metadata)"
   ]
  },
  {
   "cell_type": "markdown",
   "metadata": {},
   "source": [
    "##### Fidelity\n",
    "Now, we check for the fidelity by checking how similiar the synthetic data is in comparison to the original one."
   ]
  },
  {
   "cell_type": "code",
   "execution_count": 103,
   "metadata": {},
   "outputs": [
    {
     "name": "stdout",
     "output_type": "stream",
     "text": [
      "Generating report ...\n",
      "\n",
      "(1/2) Evaluating Column Shapes: |██████████| 14/14 [00:00<00:00, 229.56it/s]|\n",
      "Column Shapes Score: 96.5%\n",
      "\n",
      "(2/2) Evaluating Column Pair Trends: |██████████| 91/91 [00:01<00:00, 60.70it/s]|\n",
      "Column Pair Trends Score: 67.76%\n",
      "\n",
      "Overall Score (Average): 82.13%\n",
      "\n"
     ]
    }
   ],
   "source": [
    "from sdmetrics.reports.single_table import QualityReport\n",
    "\n",
    "my_report = QualityReport()\n",
    "my_report.generate(df_train, synthetic_data_independet_mode, metadata.to_dict())"
   ]
  },
  {
   "cell_type": "code",
   "execution_count": 104,
   "metadata": {},
   "outputs": [
    {
     "data": {
      "text/html": [
       "<div>\n",
       "<style scoped>\n",
       "    .dataframe tbody tr th:only-of-type {\n",
       "        vertical-align: middle;\n",
       "    }\n",
       "\n",
       "    .dataframe tbody tr th {\n",
       "        vertical-align: top;\n",
       "    }\n",
       "\n",
       "    .dataframe thead th {\n",
       "        text-align: right;\n",
       "    }\n",
       "</style>\n",
       "<table border=\"1\" class=\"dataframe\">\n",
       "  <thead>\n",
       "    <tr style=\"text-align: right;\">\n",
       "      <th></th>\n",
       "      <th>Column</th>\n",
       "      <th>Metric</th>\n",
       "      <th>Score</th>\n",
       "    </tr>\n",
       "  </thead>\n",
       "  <tbody>\n",
       "    <tr>\n",
       "      <th>0</th>\n",
       "      <td>Agency_Text</td>\n",
       "      <td>TVComplement</td>\n",
       "      <td>0.965362</td>\n",
       "    </tr>\n",
       "    <tr>\n",
       "      <th>1</th>\n",
       "      <td>Sex_Code_Text</td>\n",
       "      <td>TVComplement</td>\n",
       "      <td>0.997469</td>\n",
       "    </tr>\n",
       "    <tr>\n",
       "      <th>2</th>\n",
       "      <td>Ethnic_Code_Text</td>\n",
       "      <td>TVComplement</td>\n",
       "      <td>0.938071</td>\n",
       "    </tr>\n",
       "    <tr>\n",
       "      <th>3</th>\n",
       "      <td>DateOfBirth</td>\n",
       "      <td>KSComplement</td>\n",
       "      <td>0.869906</td>\n",
       "    </tr>\n",
       "    <tr>\n",
       "      <th>4</th>\n",
       "      <td>ScaleSet_ID</td>\n",
       "      <td>TVComplement</td>\n",
       "      <td>0.987096</td>\n",
       "    </tr>\n",
       "    <tr>\n",
       "      <th>5</th>\n",
       "      <td>AssessmentReason</td>\n",
       "      <td>TVComplement</td>\n",
       "      <td>1.000000</td>\n",
       "    </tr>\n",
       "    <tr>\n",
       "      <th>6</th>\n",
       "      <td>Language</td>\n",
       "      <td>TVComplement</td>\n",
       "      <td>0.994011</td>\n",
       "    </tr>\n",
       "    <tr>\n",
       "      <th>7</th>\n",
       "      <td>LegalStatus</td>\n",
       "      <td>TVComplement</td>\n",
       "      <td>0.985429</td>\n",
       "    </tr>\n",
       "    <tr>\n",
       "      <th>8</th>\n",
       "      <td>CustodyStatus</td>\n",
       "      <td>TVComplement</td>\n",
       "      <td>0.960484</td>\n",
       "    </tr>\n",
       "    <tr>\n",
       "      <th>9</th>\n",
       "      <td>MaritalStatus</td>\n",
       "      <td>TVComplement</td>\n",
       "      <td>0.950543</td>\n",
       "    </tr>\n",
       "    <tr>\n",
       "      <th>10</th>\n",
       "      <td>Screening_Date</td>\n",
       "      <td>KSComplement</td>\n",
       "      <td>0.944739</td>\n",
       "    </tr>\n",
       "    <tr>\n",
       "      <th>11</th>\n",
       "      <td>RecSupervisionLevel</td>\n",
       "      <td>TVComplement</td>\n",
       "      <td>0.923932</td>\n",
       "    </tr>\n",
       "    <tr>\n",
       "      <th>12</th>\n",
       "      <td>Scale_ID</td>\n",
       "      <td>TVComplement</td>\n",
       "      <td>1.000000</td>\n",
       "    </tr>\n",
       "    <tr>\n",
       "      <th>13</th>\n",
       "      <td>ScoreText</td>\n",
       "      <td>TVComplement</td>\n",
       "      <td>0.992838</td>\n",
       "    </tr>\n",
       "  </tbody>\n",
       "</table>\n",
       "</div>"
      ],
      "text/plain": [
       "                 Column        Metric     Score\n",
       "0           Agency_Text  TVComplement  0.965362\n",
       "1         Sex_Code_Text  TVComplement  0.997469\n",
       "2      Ethnic_Code_Text  TVComplement  0.938071\n",
       "3           DateOfBirth  KSComplement  0.869906\n",
       "4           ScaleSet_ID  TVComplement  0.987096\n",
       "5      AssessmentReason  TVComplement  1.000000\n",
       "6              Language  TVComplement  0.994011\n",
       "7           LegalStatus  TVComplement  0.985429\n",
       "8         CustodyStatus  TVComplement  0.960484\n",
       "9         MaritalStatus  TVComplement  0.950543\n",
       "10       Screening_Date  KSComplement  0.944739\n",
       "11  RecSupervisionLevel  TVComplement  0.923932\n",
       "12             Scale_ID  TVComplement  1.000000\n",
       "13            ScoreText  TVComplement  0.992838"
      ]
     },
     "execution_count": 104,
     "metadata": {},
     "output_type": "execute_result"
    }
   ],
   "source": [
    "my_report.get_details(property_name='Column Shapes')"
   ]
  },
  {
   "cell_type": "code",
   "execution_count": 105,
   "metadata": {},
   "outputs": [],
   "source": [
    "fig = my_report.get_visualization(property_name='Column Pair Trends')\n",
    "fig.write_image(\"./images/DataSynthesizer_Independent_mode_pair_trends.png\") "
   ]
  },
  {
   "cell_type": "markdown",
   "metadata": {},
   "source": [
    "![Column Pair Trends](./images/DataSynthesizer_Independent_mode_pair_trends.png)"
   ]
  },
  {
   "cell_type": "code",
   "execution_count": 106,
   "metadata": {},
   "outputs": [
    {
     "data": {
      "text/plain": [
       "{'CSTest': 0.958884680283752,\n",
       " 'KSComplement': 0.9554416728410308,\n",
       " 'ContinuousKLDivergence': 0.8721984302520253,\n",
       " 'DiscreteKLDivergence': 0.844951751186254,\n",
       " 'SVCDetection': 0.12341802287813142}"
      ]
     },
     "execution_count": 106,
     "metadata": {},
     "output_type": "execute_result"
    }
   ],
   "source": [
    "evaluate_fidelity(df_train, synthetic_data_independet_mode)"
   ]
  },
  {
   "cell_type": "markdown",
   "metadata": {},
   "source": [
    "##### Utility\n",
    "Secondly, we look how well our classifier performs on this newly generated dataset."
   ]
  },
  {
   "cell_type": "code",
   "execution_count": 107,
   "metadata": {},
   "outputs": [
    {
     "data": {
      "text/plain": [
       "{'accuracy': 0.6090392689552976,\n",
       " 'precision': 0.579323668676487,\n",
       " 'recall': 0.40508334339413193,\n",
       " 'f1': 0.37051144214762655}"
      ]
     },
     "execution_count": 107,
     "metadata": {},
     "output_type": "execute_result"
    }
   ],
   "source": [
    "clf = RandomForestClassifier(n_estimators=250, max_depth=15, random_state=random_state)\n",
    "train_and_evaluate(clf, synthetic_data_independet_mode, df_test, nominal_features, target)"
   ]
  },
  {
   "cell_type": "markdown",
   "metadata": {},
   "source": [
    "##### Privacy\n",
    "Lastly, we look at the privacy aspect of the generated data. Therefore we analyse privacy and inference risks. We don't evaluate linkability risks for one simple reasons. The library is implemented for the usecase where we want to check wether you can link records from one dataset to another, but we are dealing with the same datasets. Furthermore our pre-processing would need to be reverted to let the code execute, which would simply be out of the scope for the expirement.\n",
    "Especially, because the other two metrics give good insights."
   ]
  },
  {
   "cell_type": "code",
   "execution_count": 108,
   "metadata": {},
   "outputs": [
    {
     "name": "stderr",
     "output_type": "stream",
     "text": [
      "/Users/maxkleinegger/miniconda3/lib/python3.9/site-packages/anonymeter/stats/confidence.py:218: UserWarning:\n",
      "\n",
      "Attack is as good or worse as baseline model. Estimated rates: attack = 0.0019133792427775617, baseline = 0.0019133792427775617. Analysis results cannot be trusted.\n",
      "\n"
     ]
    },
    {
     "data": {
      "text/plain": [
       "{'univariate': PrivacyRisk(value=0.0019133792427775617, ci=(0.0, 0.0038267584855551234)),\n",
       " 'multivariate': PrivacyRisk(value=0.03976796242032647, ci=(0.027809004509302633, 0.05172692033135031))}"
      ]
     },
     "execution_count": 108,
     "metadata": {},
     "output_type": "execute_result"
    }
   ],
   "source": [
    "evaluate_privacy_risks(df_train, synthetic_data_independet_mode)"
   ]
  },
  {
   "cell_type": "code",
   "execution_count": 109,
   "metadata": {},
   "outputs": [
    {
     "name": "stderr",
     "output_type": "stream",
     "text": [
      "/Users/maxkleinegger/miniconda3/lib/python3.9/site-packages/anonymeter/stats/confidence.py:218: UserWarning:\n",
      "\n",
      "Attack is as good or worse as baseline model. Estimated rates: attack = 0.5308813704869477, baseline = 0.5328737169699767. Analysis results cannot be trusted.\n",
      "\n",
      "/Users/maxkleinegger/miniconda3/lib/python3.9/site-packages/anonymeter/stats/confidence.py:218: UserWarning:\n",
      "\n",
      "Attack is as good or worse as baseline model. Estimated rates: attack = 0.6474336397441378, baseline = 0.6673571045744267. Analysis results cannot be trusted.\n",
      "\n",
      "/Users/maxkleinegger/miniconda3/lib/python3.9/site-packages/anonymeter/stats/confidence.py:218: UserWarning:\n",
      "\n",
      "Attack is as good or worse as baseline model. Estimated rates: attack = 0.3047500446631688, baseline = 0.32566968273497215. Analysis results cannot be trusted.\n",
      "\n",
      "/Users/maxkleinegger/miniconda3/lib/python3.9/site-packages/anonymeter/stats/confidence.py:218: UserWarning:\n",
      "\n",
      "Attack is as good or worse as baseline model. Estimated rates: attack = 0.06068760049212981, baseline = 0.07363785263181759. Analysis results cannot be trusted.\n",
      "\n",
      "/Users/maxkleinegger/miniconda3/lib/python3.9/site-packages/anonymeter/stats/confidence.py:218: UserWarning:\n",
      "\n",
      "Attack is as good or worse as baseline model. Estimated rates: attack = 0.9393123995078702, baseline = 0.9423009192324134. Analysis results cannot be trusted.\n",
      "\n",
      "/Users/maxkleinegger/miniconda3/lib/python3.9/site-packages/anonymeter/stats/confidence.py:218: UserWarning:\n",
      "\n",
      "Attack is as good or worse as baseline model. Estimated rates: attack = 0.9980866207572224, baseline = 0.9980866207572224. Analysis results cannot be trusted.\n",
      "\n",
      "/Users/maxkleinegger/miniconda3/lib/python3.9/site-packages/anonymeter/stats/confidence.py:218: UserWarning:\n",
      "\n",
      "Attack is as good or worse as baseline model. Estimated rates: attack = 0.37448217156917996, baseline = 0.40934823502218554. Analysis results cannot be trusted.\n",
      "\n",
      "/Users/maxkleinegger/miniconda3/lib/python3.9/site-packages/anonymeter/stats/confidence.py:218: UserWarning:\n",
      "\n",
      "Attack is as good or worse as baseline model. Estimated rates: attack = 0.5508048353172367, baseline = 0.5617627409738956. Analysis results cannot be trusted.\n",
      "\n",
      "/Users/maxkleinegger/miniconda3/lib/python3.9/site-packages/anonymeter/stats/confidence.py:218: UserWarning:\n",
      "\n",
      "Attack is as good or worse as baseline model. Estimated rates: attack = 0.9980866207572224, baseline = 0.9980866207572224. Analysis results cannot be trusted.\n",
      "\n",
      "/Users/maxkleinegger/miniconda3/lib/python3.9/site-packages/anonymeter/stats/confidence.py:218: UserWarning:\n",
      "\n",
      "Attack is as good or worse as baseline model. Estimated rates: attack = 0.4402296055091333, baseline = 0.49203061406788445. Analysis results cannot be trusted.\n",
      "\n",
      "/Users/maxkleinegger/miniconda3/lib/python3.9/site-packages/anonymeter/stats/confidence.py:218: UserWarning:\n",
      "\n",
      "Attack is as good or worse as baseline model. Estimated rates: attack = 0.9980866207572224, baseline = 0.9980866207572224. Analysis results cannot be trusted.\n",
      "\n",
      "/Users/maxkleinegger/miniconda3/lib/python3.9/site-packages/anonymeter/stats/confidence.py:218: UserWarning:\n",
      "\n",
      "Attack is as good or worse as baseline model. Estimated rates: attack = 0.41034440826369994, baseline = 0.4452104717167055. Analysis results cannot be trusted.\n",
      "\n"
     ]
    },
    {
     "data": {
      "image/png": "[encoded data removed]",
      "text/plain": [
       "<Figure size 640x480 with 1 Axes>"
      ]
     },
     "metadata": {},
     "output_type": "display_data"
    }
   ],
   "source": [
    "evaluate_inference_risks(df_train, synthetic_data_independet_mode)"
   ]
  },
  {
   "cell_type": "markdown",
   "metadata": {},
   "source": [
    "#### Correlated attribute mode"
   ]
  },
  {
   "cell_type": "code",
   "execution_count": 113,
   "metadata": {},
   "outputs": [
    {
     "name": "stdout",
     "output_type": "stream",
     "text": [
      "================ Constructing Bayesian Network (BN) ================\n",
      "Adding ROOT ScoreText\n",
      "Adding attribute RecSupervisionLevel\n",
      "Adding attribute LegalStatus\n",
      "Adding attribute CustodyStatus\n",
      "Adding attribute Agency_Text\n",
      "Adding attribute DateOfBirth\n",
      "Adding attribute MaritalStatus\n",
      "Adding attribute ScaleSet_ID\n",
      "Adding attribute Scale_ID\n",
      "Adding attribute Screening_Date\n",
      "Adding attribute Ethnic_Code_Text\n",
      "Adding attribute Language\n",
      "Adding attribute Sex_Code_Text\n",
      "Adding attribute AssessmentReason\n",
      "========================== BN constructed ==========================\n"
     ]
    }
   ],
   "source": [
    "synthetic_data_correlated_mode, describer = generate_synthetic_data(df_train, 'correlated_attribute_mode', 13)"
   ]
  },
  {
   "cell_type": "code",
   "execution_count": 115,
   "metadata": {},
   "outputs": [
    {
     "name": "stdout",
     "output_type": "stream",
     "text": [
      "Constructed Bayesian network:\n",
      "    RecSupervisionLevel has parents ['ScoreText'].\n",
      "    LegalStatus         has parents ['RecSupervisionLevel', 'ScoreText'].\n",
      "    CustodyStatus       has parents ['LegalStatus', 'RecSupervisionLevel'].\n",
      "    Agency_Text         has parents ['CustodyStatus', 'RecSupervisionLevel'].\n",
      "    DateOfBirth         has parents ['Agency_Text', 'RecSupervisionLevel'].\n",
      "    MaritalStatus       has parents ['CustodyStatus', 'RecSupervisionLevel'].\n",
      "    ScaleSet_ID         has parents ['Agency_Text', 'RecSupervisionLevel'].\n",
      "    Scale_ID            has parents ['CustodyStatus', 'ScoreText'].\n",
      "    Screening_Date      has parents ['Scale_ID', 'Agency_Text'].\n",
      "    Ethnic_Code_Text    has parents ['ScaleSet_ID', 'RecSupervisionLevel'].\n",
      "    Language            has parents ['DateOfBirth', 'LegalStatus'].\n",
      "    Sex_Code_Text       has parents ['Language', 'Ethnic_Code_Text'].\n",
      "    AssessmentReason    has parents ['ScaleSet_ID', 'Agency_Text'].\n"
     ]
    }
   ],
   "source": [
    "display_bayesian_network(describer.bayesian_network)"
   ]
  },
  {
   "cell_type": "markdown",
   "metadata": {},
   "source": [
    "Afterwards, we run a diagnostic check, wether the data generation was successful."
   ]
  },
  {
   "cell_type": "code",
   "execution_count": 116,
   "metadata": {},
   "outputs": [
    {
     "name": "stdout",
     "output_type": "stream",
     "text": [
      "Generating report ...\n",
      "\n",
      "(1/2) Evaluating Data Validity: |██████████| 14/14 [00:00<00:00, 647.94it/s]|\n",
      "Data Validity Score: 100.0%\n",
      "\n",
      "(2/2) Evaluating Data Structure: |██████████| 1/1 [00:00<00:00, 905.70it/s]|\n",
      "Data Structure Score: 100.0%\n",
      "\n",
      "Overall Score (Average): 100.0%\n",
      "\n"
     ]
    }
   ],
   "source": [
    "diagnostic_report = run_diagnostic(real_data=df_train, synthetic_data=synthetic_data_correlated_mode, metadata=metadata)"
   ]
  },
  {
   "cell_type": "markdown",
   "metadata": {},
   "source": [
    "##### Fidelity\n",
    "Now, we check for the fidelity by checking how similiar the synthetic data is in comparison to the original one."
   ]
  },
  {
   "cell_type": "code",
   "execution_count": 117,
   "metadata": {},
   "outputs": [
    {
     "name": "stdout",
     "output_type": "stream",
     "text": [
      "Generating report ...\n",
      "\n",
      "(1/2) Evaluating Column Shapes: |██████████| 14/14 [00:00<00:00, 179.94it/s]|\n",
      "Column Shapes Score: 96.97%\n",
      "\n",
      "(2/2) Evaluating Column Pair Trends: |██████████| 91/91 [00:01<00:00, 59.67it/s]|\n",
      "Column Pair Trends Score: 70.08%\n",
      "\n",
      "Overall Score (Average): 83.53%\n",
      "\n"
     ]
    }
   ],
   "source": [
    "from sdmetrics.reports.single_table import QualityReport\n",
    "\n",
    "my_report = QualityReport()\n",
    "my_report.generate(df_train, synthetic_data_correlated_mode, metadata.to_dict())"
   ]
  },
  {
   "cell_type": "code",
   "execution_count": 118,
   "metadata": {},
   "outputs": [
    {
     "data": {
      "text/html": [
       "<div>\n",
       "<style scoped>\n",
       "    .dataframe tbody tr th:only-of-type {\n",
       "        vertical-align: middle;\n",
       "    }\n",
       "\n",
       "    .dataframe tbody tr th {\n",
       "        vertical-align: top;\n",
       "    }\n",
       "\n",
       "    .dataframe thead th {\n",
       "        text-align: right;\n",
       "    }\n",
       "</style>\n",
       "<table border=\"1\" class=\"dataframe\">\n",
       "  <thead>\n",
       "    <tr style=\"text-align: right;\">\n",
       "      <th></th>\n",
       "      <th>Column</th>\n",
       "      <th>Metric</th>\n",
       "      <th>Score</th>\n",
       "    </tr>\n",
       "  </thead>\n",
       "  <tbody>\n",
       "    <tr>\n",
       "      <th>0</th>\n",
       "      <td>Agency_Text</td>\n",
       "      <td>TVComplement</td>\n",
       "      <td>0.961163</td>\n",
       "    </tr>\n",
       "    <tr>\n",
       "      <th>1</th>\n",
       "      <td>Sex_Code_Text</td>\n",
       "      <td>TVComplement</td>\n",
       "      <td>0.991356</td>\n",
       "    </tr>\n",
       "    <tr>\n",
       "      <th>2</th>\n",
       "      <td>Ethnic_Code_Text</td>\n",
       "      <td>TVComplement</td>\n",
       "      <td>0.971289</td>\n",
       "    </tr>\n",
       "    <tr>\n",
       "      <th>3</th>\n",
       "      <td>DateOfBirth</td>\n",
       "      <td>KSComplement</td>\n",
       "      <td>0.897629</td>\n",
       "    </tr>\n",
       "    <tr>\n",
       "      <th>4</th>\n",
       "      <td>ScaleSet_ID</td>\n",
       "      <td>TVComplement</td>\n",
       "      <td>0.978328</td>\n",
       "    </tr>\n",
       "    <tr>\n",
       "      <th>5</th>\n",
       "      <td>AssessmentReason</td>\n",
       "      <td>TVComplement</td>\n",
       "      <td>1.000000</td>\n",
       "    </tr>\n",
       "    <tr>\n",
       "      <th>6</th>\n",
       "      <td>Language</td>\n",
       "      <td>TVComplement</td>\n",
       "      <td>0.928439</td>\n",
       "    </tr>\n",
       "    <tr>\n",
       "      <th>7</th>\n",
       "      <td>LegalStatus</td>\n",
       "      <td>TVComplement</td>\n",
       "      <td>0.969313</td>\n",
       "    </tr>\n",
       "    <tr>\n",
       "      <th>8</th>\n",
       "      <td>CustodyStatus</td>\n",
       "      <td>TVComplement</td>\n",
       "      <td>0.958570</td>\n",
       "    </tr>\n",
       "    <tr>\n",
       "      <th>9</th>\n",
       "      <td>MaritalStatus</td>\n",
       "      <td>TVComplement</td>\n",
       "      <td>0.973512</td>\n",
       "    </tr>\n",
       "    <tr>\n",
       "      <th>10</th>\n",
       "      <td>Screening_Date</td>\n",
       "      <td>KSComplement</td>\n",
       "      <td>0.982403</td>\n",
       "    </tr>\n",
       "    <tr>\n",
       "      <th>11</th>\n",
       "      <td>RecSupervisionLevel</td>\n",
       "      <td>TVComplement</td>\n",
       "      <td>0.986972</td>\n",
       "    </tr>\n",
       "    <tr>\n",
       "      <th>12</th>\n",
       "      <td>Scale_ID</td>\n",
       "      <td>TVComplement</td>\n",
       "      <td>1.000000</td>\n",
       "    </tr>\n",
       "    <tr>\n",
       "      <th>13</th>\n",
       "      <td>ScoreText</td>\n",
       "      <td>TVComplement</td>\n",
       "      <td>0.977155</td>\n",
       "    </tr>\n",
       "  </tbody>\n",
       "</table>\n",
       "</div>"
      ],
      "text/plain": [
       "                 Column        Metric     Score\n",
       "0           Agency_Text  TVComplement  0.961163\n",
       "1         Sex_Code_Text  TVComplement  0.991356\n",
       "2      Ethnic_Code_Text  TVComplement  0.971289\n",
       "3           DateOfBirth  KSComplement  0.897629\n",
       "4           ScaleSet_ID  TVComplement  0.978328\n",
       "5      AssessmentReason  TVComplement  1.000000\n",
       "6              Language  TVComplement  0.928439\n",
       "7           LegalStatus  TVComplement  0.969313\n",
       "8         CustodyStatus  TVComplement  0.958570\n",
       "9         MaritalStatus  TVComplement  0.973512\n",
       "10       Screening_Date  KSComplement  0.982403\n",
       "11  RecSupervisionLevel  TVComplement  0.986972\n",
       "12             Scale_ID  TVComplement  1.000000\n",
       "13            ScoreText  TVComplement  0.977155"
      ]
     },
     "execution_count": 118,
     "metadata": {},
     "output_type": "execute_result"
    }
   ],
   "source": [
    "my_report.get_details(property_name='Column Shapes')"
   ]
  },
  {
   "cell_type": "code",
   "execution_count": 119,
   "metadata": {},
   "outputs": [],
   "source": [
    "fig = my_report.get_visualization(property_name='Column Pair Trends')\n",
    "fig.write_image(\"./images/DataSynthesizer_correlated_mode_pair_trends.png\") "
   ]
  },
  {
   "cell_type": "markdown",
   "metadata": {},
   "source": [
    "![Column Pair Trends](./images/DataSynthesizer_correlated_mode_pair_trends.png)"
   ]
  },
  {
   "cell_type": "code",
   "execution_count": 123,
   "metadata": {},
   "outputs": [
    {
     "data": {
      "text/plain": [
       "{'CSTest': 0.8992415510740025,\n",
       " 'KSComplement': 0.9727813451881123,\n",
       " 'ContinuousKLDivergence': 0.8922450282263379,\n",
       " 'DiscreteKLDivergence': 0.8283700628017812,\n",
       " 'SVCDetection': 0.6136941024420108}"
      ]
     },
     "execution_count": 123,
     "metadata": {},
     "output_type": "execute_result"
    }
   ],
   "source": [
    "evaluate_fidelity(df_train, synthetic_data_correlated_mode)"
   ]
  },
  {
   "cell_type": "markdown",
   "metadata": {},
   "source": [
    "##### Utility\n",
    "Secondly, we look how well our classifier performs on this newly generated dataset."
   ]
  },
  {
   "cell_type": "code",
   "execution_count": 120,
   "metadata": {},
   "outputs": [
    {
     "data": {
      "text/plain": [
       "{'accuracy': 0.8873795999012102,\n",
       " 'precision': 0.8948663157211749,\n",
       " 'recall': 0.8601721106398292,\n",
       " 'f1': 0.8655284066437904}"
      ]
     },
     "execution_count": 120,
     "metadata": {},
     "output_type": "execute_result"
    }
   ],
   "source": [
    "clf = RandomForestClassifier(n_estimators=250, max_depth=15, random_state=random_state)\n",
    "train_and_evaluate(clf, synthetic_data_correlated_mode, df_test, nominal_features, target)"
   ]
  },
  {
   "cell_type": "markdown",
   "metadata": {},
   "source": [
    "##### Privacy\n",
    "Lastly, we look at the privacy aspect of the generated data. Therefore we analyse privacy and inference risks. We don't evaluate linkability risks for one simple reasons. The library is implemented for the usecase where we want to check wether you can link records from one dataset to another, but we are dealing with the same datasets. Furthermore our pre-processing would need to be reverted to let the code execute, which would simply be out of the scope for the expirement.\n",
    "Especially, because the other two metrics give good insights."
   ]
  },
  {
   "cell_type": "code",
   "execution_count": 121,
   "metadata": {},
   "outputs": [
    {
     "name": "stderr",
     "output_type": "stream",
     "text": [
      "/Users/maxkleinegger/miniconda3/lib/python3.9/site-packages/anonymeter/stats/confidence.py:218: UserWarning:\n",
      "\n",
      "Attack is as good or worse as baseline model. Estimated rates: attack = 0.0019133792427775617, baseline = 0.0019133792427775617. Analysis results cannot be trusted.\n",
      "\n"
     ]
    },
    {
     "data": {
      "text/plain": [
       "{'univariate': PrivacyRisk(value=0.0019133792427775617, ci=(0.0, 0.0038267584855551234)),\n",
       " 'multivariate': PrivacyRisk(value=0.10153070339422206, ci=(0.08290944359309571, 0.1201519631953484))}"
      ]
     },
     "execution_count": 121,
     "metadata": {},
     "output_type": "execute_result"
    }
   ],
   "source": [
    "evaluate_privacy_risks(df_train, synthetic_data_correlated_mode)"
   ]
  },
  {
   "cell_type": "code",
   "execution_count": 122,
   "metadata": {},
   "outputs": [
    {
     "name": "stderr",
     "output_type": "stream",
     "text": [
      "/Users/maxkleinegger/miniconda3/lib/python3.9/site-packages/anonymeter/stats/confidence.py:218: UserWarning:\n",
      "\n",
      "Attack is as good or worse as baseline model. Estimated rates: attack = 0.9980866207572224, baseline = 0.9980866207572224. Analysis results cannot be trusted.\n",
      "\n",
      "/Users/maxkleinegger/miniconda3/lib/python3.9/site-packages/anonymeter/stats/confidence.py:218: UserWarning:\n",
      "\n",
      "Attack is as good or worse as baseline model. Estimated rates: attack = 0.9980866207572224, baseline = 0.9980866207572224. Analysis results cannot be trusted.\n",
      "\n",
      "/Users/maxkleinegger/miniconda3/lib/python3.9/site-packages/anonymeter/stats/confidence.py:218: UserWarning:\n",
      "\n",
      "Attack is as good or worse as baseline model. Estimated rates: attack = 0.9980866207572224, baseline = 0.9980866207572224. Analysis results cannot be trusted.\n",
      "\n"
     ]
    },
    {
     "data": {
      "image/png": "[encoded data removed]",
      "text/plain": [
       "<Figure size 640x480 with 1 Axes>"
      ]
     },
     "metadata": {},
     "output_type": "display_data"
    }
   ],
   "source": [
    "evaluate_inference_risks(df_train, synthetic_data_correlated_mode)"
   ]
  }
 ],
 "metadata": {
  "kernelspec": {
   "display_name": "base",
   "language": "python",
   "name": "python3"
  },
  "language_info": {
   "codemirror_mode": {
    "name": "ipython",
    "version": 3
   },
   "file_extension": ".py",
   "mimetype": "text/x-python",
   "name": "python",
   "nbconvert_exporter": "python",
   "pygments_lexer": "ipython3",
   "version": "3.9.18"
  }
 },
 "nbformat": 4,
 "nbformat_minor": 2
}
